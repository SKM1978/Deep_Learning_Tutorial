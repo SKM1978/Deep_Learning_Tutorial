{
  "nbformat": 4,
  "nbformat_minor": 0,
  "metadata": {
    "colab": {
      "name": "CIFAR-CNN-Practice.ipynb",
      "provenance": [],
      "authorship_tag": "ABX9TyM6LSDz5cLMQFd07rBU4nms",
      "include_colab_link": true
    },
    "kernelspec": {
      "name": "python3",
      "display_name": "Python 3"
    },
    "language_info": {
      "name": "python"
    },
    "accelerator": "GPU"
  },
  "cells": [
    {
      "cell_type": "markdown",
      "metadata": {
        "id": "view-in-github",
        "colab_type": "text"
      },
      "source": [
        "<a href=\"https://colab.research.google.com/github/aayushkubb/Deep_Learning_Tutorial/blob/master/CIFAR_CNN_Practice.ipynb\" target=\"_parent\"><img src=\"https://colab.research.google.com/assets/colab-badge.svg\" alt=\"Open In Colab\"/></a>"
      ]
    },
    {
      "cell_type": "code",
      "metadata": {
        "id": "RTlfacWY_nVv"
      },
      "source": [
        "import numpy as np\n",
        "import matplotlib.pyplot as plt\n",
        "import seaborn as sns\n",
        "import tensorflow as tf\n",
        "sns.set()\n"
      ],
      "execution_count": 1,
      "outputs": []
    },
    {
      "cell_type": "code",
      "metadata": {
        "id": "N2-WSmhtCcak"
      },
      "source": [
        "from keras.datasets import cifar10\n",
        "import keras\n",
        "from keras.models import Sequential\n",
        "from keras.layers import Dense"
      ],
      "execution_count": 2,
      "outputs": []
    },
    {
      "cell_type": "code",
      "metadata": {
        "colab": {
          "base_uri": "https://localhost:8080/"
        },
        "id": "Gg6qGWBlCeEx",
        "outputId": "c4f214f7-9a40-464d-f36a-4aec290774c7"
      },
      "source": [
        "(x_train,y_train),(x_test,y_test)=cifar10.load_data()"
      ],
      "execution_count": 3,
      "outputs": [
        {
          "output_type": "stream",
          "name": "stdout",
          "text": [
            "Downloading data from https://www.cs.toronto.edu/~kriz/cifar-10-python.tar.gz\n",
            "170500096/170498071 [==============================] - 2s 0us/step\n",
            "170508288/170498071 [==============================] - 2s 0us/step\n"
          ]
        }
      ]
    },
    {
      "cell_type": "code",
      "metadata": {
        "colab": {
          "base_uri": "https://localhost:8080/"
        },
        "id": "0Hmn7ZVBCtgp",
        "outputId": "eb8c9e49-a967-45d9-9178-4df9f4ede57b"
      },
      "source": [
        "x_train.shape"
      ],
      "execution_count": 4,
      "outputs": [
        {
          "output_type": "execute_result",
          "data": {
            "text/plain": [
              "(50000, 32, 32, 3)"
            ]
          },
          "metadata": {},
          "execution_count": 4
        }
      ]
    },
    {
      "cell_type": "code",
      "metadata": {
        "colab": {
          "base_uri": "https://localhost:8080/"
        },
        "id": "Bkb_dZIcEYAf",
        "outputId": "d1c456d8-ee83-45b4-bcea-0ccf552013ba"
      },
      "source": [
        "y_train.shape"
      ],
      "execution_count": 5,
      "outputs": [
        {
          "output_type": "execute_result",
          "data": {
            "text/plain": [
              "(50000, 1)"
            ]
          },
          "metadata": {},
          "execution_count": 5
        }
      ]
    },
    {
      "cell_type": "code",
      "metadata": {
        "colab": {
          "base_uri": "https://localhost:8080/"
        },
        "id": "GRgbkzHLEbdq",
        "outputId": "b4a95779-14f9-4645-cb93-7489090197b9"
      },
      "source": [
        "np.unique(y_train)"
      ],
      "execution_count": 6,
      "outputs": [
        {
          "output_type": "execute_result",
          "data": {
            "text/plain": [
              "array([0, 1, 2, 3, 4, 5, 6, 7, 8, 9], dtype=uint8)"
            ]
          },
          "metadata": {},
          "execution_count": 6
        }
      ]
    },
    {
      "cell_type": "code",
      "metadata": {
        "colab": {
          "base_uri": "https://localhost:8080/",
          "height": 262
        },
        "id": "W7iDaCsbEds8",
        "outputId": "92ec08f8-97aa-45a5-cb5c-34bd23dd2048"
      },
      "source": [
        "print('Training data shape : ', x_train.shape, y_train.shape)\n",
        "\n",
        "print('Testing data shape : ', x_test.shape, y_test.shape)\n",
        "\n",
        "# Find the unique numbers from the train labels\n",
        "classes = np.unique(y_train)\n",
        "nClasses = len(classes)\n",
        "print('Total number of outputs : ', nClasses)\n",
        "print('Output classes : ', classes)\n",
        "\n",
        "plt.figure(figsize=[4,2])\n",
        "\n",
        "# Display the first image in training data\n",
        "plt.subplot(121)\n",
        "plt.imshow(x_train[0,:,:], cmap='gray')\n",
        "plt.title(\"Ground Truth : {}\".format(y_train[0]))\n",
        "\n",
        "# Display the first image in testing data\n",
        "plt.subplot(122)\n",
        "plt.imshow(x_test[0,:,:], cmap='gray')\n",
        "plt.title(\"Ground Truth : {}\".format(y_test[0]))"
      ],
      "execution_count": 7,
      "outputs": [
        {
          "output_type": "stream",
          "name": "stdout",
          "text": [
            "Training data shape :  (50000, 32, 32, 3) (50000, 1)\n",
            "Testing data shape :  (10000, 32, 32, 3) (10000, 1)\n",
            "Total number of outputs :  10\n",
            "Output classes :  [0 1 2 3 4 5 6 7 8 9]\n"
          ]
        },
        {
          "output_type": "execute_result",
          "data": {
            "text/plain": [
              "Text(0.5, 1.0, 'Ground Truth : [3]')"
            ]
          },
          "metadata": {},
          "execution_count": 7
        },
        {
          "output_type": "display_data",
          "data": {
            "image/png": "[encoded data removed]",
            "text/plain": [
              "<Figure size 288x144 with 2 Axes>"
            ]
          },
          "metadata": {
            "needs_background": "light"
          }
        }
      ]
    },
    {
      "cell_type": "code",
      "metadata": {
        "id": "fKy0XBrEE1oy"
      },
      "source": [
        "# Prepare data for training\n",
        "nRows,nCols,nDims=x_train.shape[1:]"
      ],
      "execution_count": 8,
      "outputs": []
    },
    {
      "cell_type": "code",
      "metadata": {
        "id": "Upnxl2x5FLGn"
      },
      "source": [
        "# Make all images of same shape and size\n",
        "x_train=x_train.reshape(x_train.shape[0],nRows,nCols,nDims)\n",
        "x_test=x_test.reshape(x_test.shape[0],nRows,nCols,nDims)"
      ],
      "execution_count": 9,
      "outputs": []
    },
    {
      "cell_type": "code",
      "metadata": {
        "colab": {
          "base_uri": "https://localhost:8080/"
        },
        "id": "3mVgPfHEFqmd",
        "outputId": "dbb1614c-a124-405d-da04-6d83f5c37034"
      },
      "source": [
        "x_train.shape, x_test.shape"
      ],
      "execution_count": 10,
      "outputs": [
        {
          "output_type": "execute_result",
          "data": {
            "text/plain": [
              "((50000, 32, 32, 3), (10000, 32, 32, 3))"
            ]
          },
          "metadata": {},
          "execution_count": 10
        }
      ]
    },
    {
      "cell_type": "code",
      "metadata": {
        "id": "L4SXYLM1FtJ7"
      },
      "source": [
        "# Scale the data\n",
        "x_train=x_train.astype('float32')\n",
        "x_test=x_test.astype('float32')"
      ],
      "execution_count": 11,
      "outputs": []
    },
    {
      "cell_type": "code",
      "metadata": {
        "colab": {
          "base_uri": "https://localhost:8080/"
        },
        "id": "G5F79mhdF9B-",
        "outputId": "e5e7a260-6c5f-47f1-d378-4fc52d36b1da"
      },
      "source": [
        "np.max(x_train[0]),np.min(x_train[0])"
      ],
      "execution_count": 12,
      "outputs": [
        {
          "output_type": "execute_result",
          "data": {
            "text/plain": [
              "(255.0, 0.0)"
            ]
          },
          "metadata": {},
          "execution_count": 12
        }
      ]
    },
    {
      "cell_type": "code",
      "metadata": {
        "id": "7iV8A5l2GBGj"
      },
      "source": [
        "# Scale the data\n",
        "x_train=x_train/255\n",
        "x_test=x_test/255"
      ],
      "execution_count": 13,
      "outputs": []
    },
    {
      "cell_type": "code",
      "metadata": {
        "colab": {
          "base_uri": "https://localhost:8080/"
        },
        "id": "GXjmGk3bGSKT",
        "outputId": "7b7df5cc-0918-4159-c0fb-0ca736c40469"
      },
      "source": [
        "np.max(x_train[0]),np.min(x_train[0])"
      ],
      "execution_count": 14,
      "outputs": [
        {
          "output_type": "execute_result",
          "data": {
            "text/plain": [
              "(1.0, 0.0)"
            ]
          },
          "metadata": {},
          "execution_count": 14
        }
      ]
    },
    {
      "cell_type": "code",
      "metadata": {
        "id": "4lyXMOtcGTMW"
      },
      "source": [
        "from tensorflow.keras.utils import to_categorical"
      ],
      "execution_count": 15,
      "outputs": []
    },
    {
      "cell_type": "code",
      "metadata": {
        "id": "L6f5jkt1Gs9X"
      },
      "source": [
        "y_train_labels=to_categorical(y_train)\n",
        "y_test_labels=to_categorical(y_test)"
      ],
      "execution_count": 16,
      "outputs": []
    },
    {
      "cell_type": "code",
      "metadata": {
        "colab": {
          "base_uri": "https://localhost:8080/"
        },
        "id": "GhqCxww6G0lc",
        "outputId": "5a04ba0b-238b-4ec6-cc66-74d04af19c30"
      },
      "source": [
        "y_train_labels.shape"
      ],
      "execution_count": 17,
      "outputs": [
        {
          "output_type": "execute_result",
          "data": {
            "text/plain": [
              "(50000, 10)"
            ]
          },
          "metadata": {},
          "execution_count": 17
        }
      ]
    },
    {
      "cell_type": "code",
      "metadata": {
        "colab": {
          "base_uri": "https://localhost:8080/"
        },
        "id": "7vBU8owXG1xB",
        "outputId": "0b2ecde5-5faf-412a-a45d-797a5e37377d"
      },
      "source": [
        "y_train_labels[0]"
      ],
      "execution_count": 18,
      "outputs": [
        {
          "output_type": "execute_result",
          "data": {
            "text/plain": [
              "array([0., 0., 0., 0., 0., 0., 1., 0., 0., 0.], dtype=float32)"
            ]
          },
          "metadata": {},
          "execution_count": 18
        }
      ]
    },
    {
      "cell_type": "code",
      "metadata": {
        "colab": {
          "base_uri": "https://localhost:8080/"
        },
        "id": "dcvE3h5SG39e",
        "outputId": "13447bdd-6b80-4b3f-ec87-46a6c38f63a9"
      },
      "source": [
        "y_train[0]"
      ],
      "execution_count": 19,
      "outputs": [
        {
          "output_type": "execute_result",
          "data": {
            "text/plain": [
              "array([6], dtype=uint8)"
            ]
          },
          "metadata": {},
          "execution_count": 19
        }
      ]
    },
    {
      "cell_type": "code",
      "metadata": {
        "id": "lOHDLZNRHdKN"
      },
      "source": [
        "from keras.layers import Conv2D,Flatten"
      ],
      "execution_count": 20,
      "outputs": []
    },
    {
      "cell_type": "markdown",
      "metadata": {
        "id": "ZcgefuZ3H00p"
      },
      "source": [
        "def __init__(filters, kernel_size, strides=(1, 1), padding='valid', data_format=None, dilation_rate=(1, 1), groups=1, activation=None, use_bias=True, kernel_initializer='glorot_uniform', bias_initializer='zeros', kernel_regularizer=None, bias_regularizer=None, activity_regularizer=None, kernel_constraint=None, bias_constraint=None, **kwargs)"
      ]
    },
    {
      "cell_type": "code",
      "metadata": {
        "colab": {
          "base_uri": "https://localhost:8080/"
        },
        "id": "zwFvvdfSIPb9",
        "outputId": "91dacf61-95f7-44b5-baaf-3db0b2b7b436"
      },
      "source": [
        "x_train[0].shape"
      ],
      "execution_count": 21,
      "outputs": [
        {
          "output_type": "execute_result",
          "data": {
            "text/plain": [
              "(32, 32, 3)"
            ]
          },
          "metadata": {},
          "execution_count": 21
        }
      ]
    },
    {
      "cell_type": "code",
      "metadata": {
        "id": "RCOfulVUG6Kr"
      },
      "source": [
        "model=Sequential()\n",
        "model.add(Conv2D(32,(3,3),padding='same',activation='relu',input_shape=(32, 32, 3)))\n",
        "model.add(Conv2D(32,(3,3),padding='valid',activation='relu'))\n",
        "\n",
        "model.add(Flatten())\n",
        "model.add(Dense(512,activation='relu'))\n",
        "model.add(Dense(10,activation='softmax'))"
      ],
      "execution_count": 22,
      "outputs": []
    },
    {
      "cell_type": "code",
      "metadata": {
        "colab": {
          "base_uri": "https://localhost:8080/"
        },
        "id": "BIWNWKVfIS0B",
        "outputId": "fbf61542-ad56-4b96-d06b-6d4f970536bc"
      },
      "source": [
        "model.summary()"
      ],
      "execution_count": 23,
      "outputs": [
        {
          "output_type": "stream",
          "name": "stdout",
          "text": [
            "Model: \"sequential\"\n",
            "_________________________________________________________________\n",
            "Layer (type)                 Output Shape              Param #   \n",
            "=================================================================\n",
            "conv2d (Conv2D)              (None, 32, 32, 32)        896       \n",
            "_________________________________________________________________\n",
            "conv2d_1 (Conv2D)            (None, 30, 30, 32)        9248      \n",
            "_________________________________________________________________\n",
            "flatten (Flatten)            (None, 28800)             0         \n",
            "_________________________________________________________________\n",
            "dense (Dense)                (None, 512)               14746112  \n",
            "_________________________________________________________________\n",
            "dense_1 (Dense)              (None, 10)                5130      \n",
            "=================================================================\n",
            "Total params: 14,761,386\n",
            "Trainable params: 14,761,386\n",
            "Non-trainable params: 0\n",
            "_________________________________________________________________\n"
          ]
        }
      ]
    },
    {
      "cell_type": "code",
      "metadata": {
        "id": "NlolsNYUJQWA"
      },
      "source": [
        "model.compile(optimizer='rmsprop',loss='categorical_crossentropy',metrics=['accuracy'])"
      ],
      "execution_count": 24,
      "outputs": []
    },
    {
      "cell_type": "code",
      "metadata": {
        "colab": {
          "base_uri": "https://localhost:8080/"
        },
        "id": "8NLu5jVdIx98",
        "outputId": "a0402749-cabf-451e-bc87-08e44f19c05b"
      },
      "source": [
        "history=model.fit(x_train,y_train_labels,epochs=5,batch_size=512,verbose=1,validation_data=(x_test,y_test_labels))"
      ],
      "execution_count": 25,
      "outputs": [
        {
          "output_type": "stream",
          "name": "stdout",
          "text": [
            "Epoch 1/5\n",
            "98/98 [==============================] - 35s 75ms/step - loss: 2.1415 - accuracy: 0.3510 - val_loss: 1.5154 - val_accuracy: 0.4569\n",
            "Epoch 2/5\n",
            "98/98 [==============================] - 7s 68ms/step - loss: 1.4394 - accuracy: 0.4992 - val_loss: 1.2800 - val_accuracy: 0.5380\n",
            "Epoch 3/5\n",
            "98/98 [==============================] - 7s 68ms/step - loss: 1.2085 - accuracy: 0.5783 - val_loss: 1.1736 - val_accuracy: 0.5898\n",
            "Epoch 4/5\n",
            "98/98 [==============================] - 7s 68ms/step - loss: 1.0231 - accuracy: 0.6449 - val_loss: 1.2443 - val_accuracy: 0.5641\n",
            "Epoch 5/5\n",
            "98/98 [==============================] - 7s 69ms/step - loss: 0.8733 - accuracy: 0.6980 - val_loss: 1.5757 - val_accuracy: 0.4983\n"
          ]
        }
      ]
    },
    {
      "cell_type": "code",
      "metadata": {
        "colab": {
          "base_uri": "https://localhost:8080/"
        },
        "id": "c3qKA67iJN9y",
        "outputId": "14a9d7d3-71ab-4af6-d193-ee49764b8c25"
      },
      "source": [
        "model.evaluate(x_test,y_test_labels)"
      ],
      "execution_count": 26,
      "outputs": [
        {
          "output_type": "stream",
          "name": "stdout",
          "text": [
            "313/313 [==============================] - 2s 5ms/step - loss: 1.5757 - accuracy: 0.4983\n"
          ]
        },
        {
          "output_type": "execute_result",
          "data": {
            "text/plain": [
              "[1.5757131576538086, 0.4982999861240387]"
            ]
          },
          "metadata": {},
          "execution_count": 26
        }
      ]
    },
    {
      "cell_type": "code",
      "metadata": {
        "id": "dKnv1sJPKOKj"
      },
      "source": [
        "from keras.preprocessing.image import ImageDataGenerator"
      ],
      "execution_count": 27,
      "outputs": []
    },
    {
      "cell_type": "code",
      "metadata": {
        "id": "KH4M2epGJyOW"
      },
      "source": [
        "model=Sequential()\n",
        "model.add(Conv2D(32,(3,3),padding='same',activation='relu',input_shape=(32, 32, 3)))\n",
        "model.add(Conv2D(32,(3,3),padding='valid',activation='relu'))\n",
        "\n",
        "model.add(Flatten())\n",
        "model.add(Dense(512,activation='relu'))\n",
        "model.add(Dense(10,activation='softmax'))\n",
        "model.compile(optimizer='rmsprop',loss='categorical_crossentropy',metrics=['accuracy'])\n"
      ],
      "execution_count": 28,
      "outputs": []
    },
    {
      "cell_type": "code",
      "metadata": {
        "id": "uMJl1gIAKkCY"
      },
      "source": [
        "datagen=ImageDataGenerator(horizontal_flip=True,vertical_flip=True)"
      ],
      "execution_count": 29,
      "outputs": []
    },
    {
      "cell_type": "code",
      "metadata": {
        "colab": {
          "base_uri": "https://localhost:8080/"
        },
        "id": "BhWh9regLDnT",
        "outputId": "50e0ce32-fa41-494a-b52b-ea9cf7d56e26"
      },
      "source": [
        "hostory2=model.fit_generator(datagen.flow(x_train,y_train_labels),steps_per_epoch=10,epochs=100,validation_data=(x_test,y_test_labels))"
      ],
      "execution_count": 32,
      "outputs": [
        {
          "output_type": "stream",
          "name": "stdout",
          "text": [
            "Epoch 1/100\n",
            " 7/10 [====================>.........] - ETA: 0s - loss: 1.3249 - accuracy: 0.5357"
          ]
        },
        {
          "output_type": "stream",
          "name": "stderr",
          "text": [
            "/usr/local/lib/python3.7/dist-packages/keras/engine/training.py:1972: UserWarning: `Model.fit_generator` is deprecated and will be removed in a future version. Please use `Model.fit`, which supports generators.\n",
            "  warnings.warn('`Model.fit_generator` is deprecated and '\n"
          ]
        },
        {
          "output_type": "stream",
          "name": "stdout",
          "text": [
            "10/10 [==============================] - 2s 166ms/step - loss: 1.3051 - accuracy: 0.5437 - val_loss: 1.5371 - val_accuracy: 0.4677\n",
            "Epoch 2/100\n",
            "10/10 [==============================] - 2s 165ms/step - loss: 1.3762 - accuracy: 0.5656 - val_loss: 1.3628 - val_accuracy: 0.5106\n",
            "Epoch 3/100\n",
            "10/10 [==============================] - 2s 165ms/step - loss: 1.3540 - accuracy: 0.4781 - val_loss: 1.3615 - val_accuracy: 0.5126\n",
            "Epoch 4/100\n",
            "10/10 [==============================] - 2s 167ms/step - loss: 1.3888 - accuracy: 0.5125 - val_loss: 1.3440 - val_accuracy: 0.5188\n",
            "Epoch 5/100\n",
            "10/10 [==============================] - 2s 165ms/step - loss: 1.4172 - accuracy: 0.5281 - val_loss: 1.3585 - val_accuracy: 0.5066\n",
            "Epoch 6/100\n",
            "10/10 [==============================] - 2s 166ms/step - loss: 1.3221 - accuracy: 0.5125 - val_loss: 1.4639 - val_accuracy: 0.4780\n",
            "Epoch 7/100\n",
            "10/10 [==============================] - 2s 168ms/step - loss: 1.3806 - accuracy: 0.5000 - val_loss: 1.3564 - val_accuracy: 0.5163\n",
            "Epoch 8/100\n",
            "10/10 [==============================] - 2s 167ms/step - loss: 1.2718 - accuracy: 0.5250 - val_loss: 1.5005 - val_accuracy: 0.4732\n",
            "Epoch 9/100\n",
            "10/10 [==============================] - 2s 166ms/step - loss: 1.3907 - accuracy: 0.5031 - val_loss: 1.3533 - val_accuracy: 0.5172\n",
            "Epoch 10/100\n",
            "10/10 [==============================] - 2s 166ms/step - loss: 1.4006 - accuracy: 0.4906 - val_loss: 1.3595 - val_accuracy: 0.5153\n",
            "Epoch 11/100\n",
            "10/10 [==============================] - 2s 166ms/step - loss: 1.2384 - accuracy: 0.5625 - val_loss: 1.3581 - val_accuracy: 0.5186\n",
            "Epoch 12/100\n",
            "10/10 [==============================] - 2s 165ms/step - loss: 1.3565 - accuracy: 0.5469 - val_loss: 1.4146 - val_accuracy: 0.4982\n",
            "Epoch 13/100\n",
            "10/10 [==============================] - 2s 164ms/step - loss: 1.4098 - accuracy: 0.5125 - val_loss: 1.3419 - val_accuracy: 0.5213\n",
            "Epoch 14/100\n",
            "10/10 [==============================] - 3s 303ms/step - loss: 1.2516 - accuracy: 0.5562 - val_loss: 1.4048 - val_accuracy: 0.5059\n",
            "Epoch 15/100\n",
            "10/10 [==============================] - 2s 167ms/step - loss: 1.3313 - accuracy: 0.5281 - val_loss: 1.3485 - val_accuracy: 0.5183\n",
            "Epoch 16/100\n",
            "10/10 [==============================] - 2s 165ms/step - loss: 1.3875 - accuracy: 0.5031 - val_loss: 1.3116 - val_accuracy: 0.5376\n",
            "Epoch 17/100\n",
            "10/10 [==============================] - 3s 303ms/step - loss: 1.3373 - accuracy: 0.5219 - val_loss: 1.4222 - val_accuracy: 0.4892\n",
            "Epoch 18/100\n",
            "10/10 [==============================] - 3s 304ms/step - loss: 1.3065 - accuracy: 0.5437 - val_loss: 1.4083 - val_accuracy: 0.5055\n",
            "Epoch 19/100\n",
            "10/10 [==============================] - 2s 172ms/step - loss: 1.2642 - accuracy: 0.5625 - val_loss: 1.4398 - val_accuracy: 0.4968\n",
            "Epoch 20/100\n",
            "10/10 [==============================] - 2s 166ms/step - loss: 1.2512 - accuracy: 0.5688 - val_loss: 1.4392 - val_accuracy: 0.4983\n",
            "Epoch 21/100\n",
            "10/10 [==============================] - 2s 166ms/step - loss: 1.3277 - accuracy: 0.5031 - val_loss: 1.4182 - val_accuracy: 0.4996\n",
            "Epoch 22/100\n",
            "10/10 [==============================] - 2s 166ms/step - loss: 1.3795 - accuracy: 0.5250 - val_loss: 1.3273 - val_accuracy: 0.5316\n",
            "Epoch 23/100\n",
            "10/10 [==============================] - 3s 304ms/step - loss: 1.2467 - accuracy: 0.5625 - val_loss: 1.4509 - val_accuracy: 0.4918\n",
            "Epoch 24/100\n",
            "10/10 [==============================] - 3s 304ms/step - loss: 1.3447 - accuracy: 0.5188 - val_loss: 1.4214 - val_accuracy: 0.4987\n",
            "Epoch 25/100\n",
            "10/10 [==============================] - 2s 164ms/step - loss: 1.3499 - accuracy: 0.5469 - val_loss: 1.4882 - val_accuracy: 0.4850\n",
            "Epoch 26/100\n",
            "10/10 [==============================] - 2s 166ms/step - loss: 1.3577 - accuracy: 0.5188 - val_loss: 1.3085 - val_accuracy: 0.5282\n",
            "Epoch 27/100\n",
            "10/10 [==============================] - 2s 169ms/step - loss: 1.2650 - accuracy: 0.5281 - val_loss: 1.5190 - val_accuracy: 0.4851\n",
            "Epoch 28/100\n",
            "10/10 [==============================] - 2s 168ms/step - loss: 1.2980 - accuracy: 0.5625 - val_loss: 1.3321 - val_accuracy: 0.5316\n",
            "Epoch 29/100\n",
            "10/10 [==============================] - 3s 303ms/step - loss: 1.3778 - accuracy: 0.5781 - val_loss: 1.3890 - val_accuracy: 0.5047\n",
            "Epoch 30/100\n",
            "10/10 [==============================] - 3s 304ms/step - loss: 1.3297 - accuracy: 0.5437 - val_loss: 1.3966 - val_accuracy: 0.4967\n",
            "Epoch 31/100\n",
            "10/10 [==============================] - 2s 165ms/step - loss: 1.3450 - accuracy: 0.5406 - val_loss: 1.3192 - val_accuracy: 0.5287\n",
            "Epoch 32/100\n",
            "10/10 [==============================] - 2s 167ms/step - loss: 1.2861 - accuracy: 0.5437 - val_loss: 1.2972 - val_accuracy: 0.5391\n",
            "Epoch 33/100\n",
            "10/10 [==============================] - 3s 304ms/step - loss: 1.1963 - accuracy: 0.6031 - val_loss: 1.3028 - val_accuracy: 0.5388\n",
            "Epoch 34/100\n",
            "10/10 [==============================] - 2s 166ms/step - loss: 1.3477 - accuracy: 0.5469 - val_loss: 1.3067 - val_accuracy: 0.5374\n",
            "Epoch 35/100\n",
            "10/10 [==============================] - 3s 303ms/step - loss: 1.2801 - accuracy: 0.5406 - val_loss: 1.2884 - val_accuracy: 0.5416\n",
            "Epoch 36/100\n",
            "10/10 [==============================] - 2s 172ms/step - loss: 1.2809 - accuracy: 0.5250 - val_loss: 1.5747 - val_accuracy: 0.4586\n",
            "Epoch 37/100\n",
            "10/10 [==============================] - 2s 164ms/step - loss: 1.3339 - accuracy: 0.5312 - val_loss: 1.3554 - val_accuracy: 0.5178\n",
            "Epoch 38/100\n",
            "10/10 [==============================] - 2s 165ms/step - loss: 1.3906 - accuracy: 0.4969 - val_loss: 1.3933 - val_accuracy: 0.5173\n",
            "Epoch 39/100\n",
            "10/10 [==============================] - 2s 164ms/step - loss: 1.2953 - accuracy: 0.5375 - val_loss: 1.3065 - val_accuracy: 0.5369\n",
            "Epoch 40/100\n",
            "10/10 [==============================] - 2s 168ms/step - loss: 1.2601 - accuracy: 0.5437 - val_loss: 1.3708 - val_accuracy: 0.5098\n",
            "Epoch 41/100\n",
            "10/10 [==============================] - 3s 304ms/step - loss: 1.2542 - accuracy: 0.5469 - val_loss: 1.3027 - val_accuracy: 0.5349\n",
            "Epoch 42/100\n",
            "10/10 [==============================] - 1s 163ms/step - loss: 1.3325 - accuracy: 0.5469 - val_loss: 1.3174 - val_accuracy: 0.5301\n",
            "Epoch 43/100\n",
            "10/10 [==============================] - 2s 166ms/step - loss: 1.3292 - accuracy: 0.5469 - val_loss: 1.3706 - val_accuracy: 0.5166\n",
            "Epoch 44/100\n",
            "10/10 [==============================] - 2s 165ms/step - loss: 1.3411 - accuracy: 0.5437 - val_loss: 1.4199 - val_accuracy: 0.5006\n",
            "Epoch 45/100\n",
            "10/10 [==============================] - 3s 304ms/step - loss: 1.3238 - accuracy: 0.5312 - val_loss: 1.3460 - val_accuracy: 0.5118\n",
            "Epoch 46/100\n",
            "10/10 [==============================] - 1s 163ms/step - loss: 1.3472 - accuracy: 0.5250 - val_loss: 1.3709 - val_accuracy: 0.5062\n",
            "Epoch 47/100\n",
            "10/10 [==============================] - 2s 165ms/step - loss: 1.2457 - accuracy: 0.5437 - val_loss: 1.3560 - val_accuracy: 0.5164\n",
            "Epoch 48/100\n",
            "10/10 [==============================] - 2s 166ms/step - loss: 1.3062 - accuracy: 0.5375 - val_loss: 1.3365 - val_accuracy: 0.5233\n",
            "Epoch 49/100\n",
            "10/10 [==============================] - 3s 304ms/step - loss: 1.2727 - accuracy: 0.5656 - val_loss: 1.3775 - val_accuracy: 0.5094\n",
            "Epoch 50/100\n",
            "10/10 [==============================] - 2s 165ms/step - loss: 1.2791 - accuracy: 0.5500 - val_loss: 1.3996 - val_accuracy: 0.5077\n",
            "Epoch 51/100\n",
            "10/10 [==============================] - 2s 168ms/step - loss: 1.3108 - accuracy: 0.5500 - val_loss: 1.4273 - val_accuracy: 0.4972\n",
            "Epoch 52/100\n",
            "10/10 [==============================] - 3s 304ms/step - loss: 1.2853 - accuracy: 0.4969 - val_loss: 1.3389 - val_accuracy: 0.5277\n",
            "Epoch 53/100\n",
            "10/10 [==============================] - 2s 171ms/step - loss: 1.3461 - accuracy: 0.5500 - val_loss: 1.3563 - val_accuracy: 0.5257\n",
            "Epoch 54/100\n",
            "10/10 [==============================] - 2s 167ms/step - loss: 1.2255 - accuracy: 0.5500 - val_loss: 1.2905 - val_accuracy: 0.5383\n",
            "Epoch 55/100\n",
            "10/10 [==============================] - 2s 165ms/step - loss: 1.3401 - accuracy: 0.5344 - val_loss: 1.2915 - val_accuracy: 0.5441\n",
            "Epoch 56/100\n",
            "10/10 [==============================] - 2s 165ms/step - loss: 1.3034 - accuracy: 0.5656 - val_loss: 1.3773 - val_accuracy: 0.5189\n",
            "Epoch 57/100\n",
            "10/10 [==============================] - 2s 164ms/step - loss: 1.1898 - accuracy: 0.5781 - val_loss: 1.3362 - val_accuracy: 0.5215\n",
            "Epoch 58/100\n",
            "10/10 [==============================] - 3s 305ms/step - loss: 1.1982 - accuracy: 0.5969 - val_loss: 1.3858 - val_accuracy: 0.5148\n",
            "Epoch 59/100\n",
            "10/10 [==============================] - 2s 166ms/step - loss: 1.2294 - accuracy: 0.5688 - val_loss: 1.4597 - val_accuracy: 0.4922\n",
            "Epoch 60/100\n",
            "10/10 [==============================] - 2s 166ms/step - loss: 1.2407 - accuracy: 0.5875 - val_loss: 1.2742 - val_accuracy: 0.5455\n",
            "Epoch 61/100\n",
            "10/10 [==============================] - 2s 165ms/step - loss: 1.3555 - accuracy: 0.5500 - val_loss: 1.3669 - val_accuracy: 0.5176\n",
            "Epoch 62/100\n",
            "10/10 [==============================] - 1s 163ms/step - loss: 1.3029 - accuracy: 0.5531 - val_loss: 1.3690 - val_accuracy: 0.5170\n",
            "Epoch 63/100\n",
            "10/10 [==============================] - 3s 304ms/step - loss: 1.2736 - accuracy: 0.5625 - val_loss: 1.3643 - val_accuracy: 0.5205\n",
            "Epoch 64/100\n",
            "10/10 [==============================] - 2s 164ms/step - loss: 1.2351 - accuracy: 0.5813 - val_loss: 1.2615 - val_accuracy: 0.5479\n",
            "Epoch 65/100\n",
            "10/10 [==============================] - 2s 164ms/step - loss: 1.2330 - accuracy: 0.5781 - val_loss: 1.3769 - val_accuracy: 0.5249\n",
            "Epoch 66/100\n",
            "10/10 [==============================] - 3s 305ms/step - loss: 1.2137 - accuracy: 0.5875 - val_loss: 1.3069 - val_accuracy: 0.5470\n",
            "Epoch 67/100\n",
            "10/10 [==============================] - 2s 164ms/step - loss: 1.1818 - accuracy: 0.6031 - val_loss: 1.6149 - val_accuracy: 0.4552\n",
            "Epoch 68/100\n",
            "10/10 [==============================] - 2s 167ms/step - loss: 1.1975 - accuracy: 0.5906 - val_loss: 1.2877 - val_accuracy: 0.5388\n",
            "Epoch 69/100\n",
            "10/10 [==============================] - 2s 164ms/step - loss: 1.3778 - accuracy: 0.4844 - val_loss: 1.2800 - val_accuracy: 0.5367\n",
            "Epoch 70/100\n",
            "10/10 [==============================] - 2s 164ms/step - loss: 1.2790 - accuracy: 0.5781 - val_loss: 1.2495 - val_accuracy: 0.5553\n",
            "Epoch 71/100\n",
            "10/10 [==============================] - 2s 165ms/step - loss: 1.3001 - accuracy: 0.5969 - val_loss: 1.4113 - val_accuracy: 0.4988\n",
            "Epoch 72/100\n",
            "10/10 [==============================] - 1s 163ms/step - loss: 1.2575 - accuracy: 0.6062 - val_loss: 1.2969 - val_accuracy: 0.5402\n",
            "Epoch 73/100\n",
            "10/10 [==============================] - 1s 161ms/step - loss: 1.2176 - accuracy: 0.5688 - val_loss: 1.2506 - val_accuracy: 0.5507\n",
            "Epoch 74/100\n",
            "10/10 [==============================] - 3s 304ms/step - loss: 1.3670 - accuracy: 0.4875 - val_loss: 1.3277 - val_accuracy: 0.5250\n",
            "Epoch 75/100\n",
            "10/10 [==============================] - 2s 168ms/step - loss: 1.1855 - accuracy: 0.5906 - val_loss: 1.2307 - val_accuracy: 0.5647\n",
            "Epoch 76/100\n",
            "10/10 [==============================] - 2s 164ms/step - loss: 1.2810 - accuracy: 0.5344 - val_loss: 1.2993 - val_accuracy: 0.5433\n",
            "Epoch 77/100\n",
            "10/10 [==============================] - 1s 162ms/step - loss: 1.2811 - accuracy: 0.5531 - val_loss: 1.2916 - val_accuracy: 0.5395\n",
            "Epoch 78/100\n",
            "10/10 [==============================] - 3s 304ms/step - loss: 1.2245 - accuracy: 0.5969 - val_loss: 1.3795 - val_accuracy: 0.5216\n",
            "Epoch 79/100\n",
            "10/10 [==============================] - 2s 164ms/step - loss: 1.2840 - accuracy: 0.5437 - val_loss: 1.3273 - val_accuracy: 0.5251\n",
            "Epoch 80/100\n",
            "10/10 [==============================] - 2s 165ms/step - loss: 1.2699 - accuracy: 0.5531 - val_loss: 1.3300 - val_accuracy: 0.5353\n",
            "Epoch 81/100\n",
            "10/10 [==============================] - 3s 304ms/step - loss: 1.1831 - accuracy: 0.5969 - val_loss: 1.2676 - val_accuracy: 0.5482\n",
            "Epoch 82/100\n",
            "10/10 [==============================] - 3s 304ms/step - loss: 1.3244 - accuracy: 0.5031 - val_loss: 1.3139 - val_accuracy: 0.5294\n",
            "Epoch 83/100\n",
            "10/10 [==============================] - 3s 304ms/step - loss: 1.1872 - accuracy: 0.5719 - val_loss: 1.4658 - val_accuracy: 0.5078\n",
            "Epoch 84/100\n",
            "10/10 [==============================] - 2s 165ms/step - loss: 1.3023 - accuracy: 0.5500 - val_loss: 1.2812 - val_accuracy: 0.5498\n",
            "Epoch 85/100\n",
            "10/10 [==============================] - 2s 168ms/step - loss: 1.1963 - accuracy: 0.5656 - val_loss: 1.3480 - val_accuracy: 0.5284\n",
            "Epoch 86/100\n",
            "10/10 [==============================] - 2s 168ms/step - loss: 1.2410 - accuracy: 0.5844 - val_loss: 1.3210 - val_accuracy: 0.5357\n",
            "Epoch 87/100\n",
            "10/10 [==============================] - 2s 168ms/step - loss: 1.2214 - accuracy: 0.5437 - val_loss: 1.2688 - val_accuracy: 0.5539\n",
            "Epoch 88/100\n",
            "10/10 [==============================] - 2s 166ms/step - loss: 1.1137 - accuracy: 0.6094 - val_loss: 1.2964 - val_accuracy: 0.5421\n",
            "Epoch 89/100\n",
            "10/10 [==============================] - 2s 166ms/step - loss: 1.2088 - accuracy: 0.5344 - val_loss: 1.3050 - val_accuracy: 0.5418\n",
            "Epoch 90/100\n",
            "10/10 [==============================] - 2s 166ms/step - loss: 1.2286 - accuracy: 0.6062 - val_loss: 1.2648 - val_accuracy: 0.5454\n",
            "Epoch 91/100\n",
            "10/10 [==============================] - 2s 167ms/step - loss: 1.2608 - accuracy: 0.5531 - val_loss: 1.2934 - val_accuracy: 0.5431\n",
            "Epoch 92/100\n",
            "10/10 [==============================] - 2s 163ms/step - loss: 1.1685 - accuracy: 0.5813 - val_loss: 1.3106 - val_accuracy: 0.5403\n",
            "Epoch 93/100\n",
            "10/10 [==============================] - 1s 162ms/step - loss: 1.2581 - accuracy: 0.5562 - val_loss: 1.2583 - val_accuracy: 0.5518\n",
            "Epoch 94/100\n",
            "10/10 [==============================] - 2s 165ms/step - loss: 1.3070 - accuracy: 0.5531 - val_loss: 1.3170 - val_accuracy: 0.5400\n",
            "Epoch 95/100\n",
            "10/10 [==============================] - 2s 166ms/step - loss: 1.1713 - accuracy: 0.5938 - val_loss: 1.4201 - val_accuracy: 0.5132\n",
            "Epoch 96/100\n",
            "10/10 [==============================] - 3s 304ms/step - loss: 1.2474 - accuracy: 0.5312 - val_loss: 1.2721 - val_accuracy: 0.5404\n",
            "Epoch 97/100\n",
            "10/10 [==============================] - 2s 168ms/step - loss: 1.2347 - accuracy: 0.5625 - val_loss: 1.3086 - val_accuracy: 0.5401\n",
            "Epoch 98/100\n",
            "10/10 [==============================] - 2s 166ms/step - loss: 1.1527 - accuracy: 0.6375 - val_loss: 1.3843 - val_accuracy: 0.5114\n",
            "Epoch 99/100\n",
            "10/10 [==============================] - 2s 166ms/step - loss: 1.1761 - accuracy: 0.5750 - val_loss: 1.3699 - val_accuracy: 0.5217\n",
            "Epoch 100/100\n",
            "10/10 [==============================] - 3s 305ms/step - loss: 1.1032 - accuracy: 0.6031 - val_loss: 1.3029 - val_accuracy: 0.5540\n"
          ]
        }
      ]
    },
    {
      "cell_type": "code",
      "metadata": {
        "id": "32-WJ1ItMJsj"
      },
      "source": [
        "# Add maxpooling layers\n",
        "# Add dropouts\n",
        "# Create Dense layers\n",
        "\n",
        "# Experiments\n",
        "# Change filter size(big/small)\n",
        "# Change dense layer size\n",
        "# Batch Normalization\n",
        "# Batch Normalization with Dropouts\n",
        "\n",
        "\n",
        "# RESNET"
      ],
      "execution_count": null,
      "outputs": []
    },
    {
      "cell_type": "code",
      "metadata": {
        "id": "A5fKsPv8OfDQ"
      },
      "source": [
        "from keras.callbacks import ModelCheckpoint"
      ],
      "execution_count": 33,
      "outputs": []
    },
    {
      "cell_type": "code",
      "metadata": {
        "id": "BKFWL1Y9REWI"
      },
      "source": [
        "model.compile(optimizer='rmsprop',loss='categorical_crossentropy',metrics=['accuracy'])"
      ],
      "execution_count": 44,
      "outputs": []
    },
    {
      "cell_type": "code",
      "metadata": {
        "colab": {
          "base_uri": "https://localhost:8080/"
        },
        "id": "r0Pg4uteOgjU",
        "outputId": "6c7f6566-ee8d-4202-ea1c-10a2d53ae613"
      },
      "source": [
        "filepath = 'my_best_model.epoch{epoch:02d}-loss{val_loss:.2f}.hdf5'\n",
        "checkpoint = ModelCheckpoint(filepath=filepath, \n",
        "                             monitor='val_loss',\n",
        "                             verbose=1, \n",
        "                             save_best_only=True,\n",
        "                             mode='min')\n",
        "callbacks = [checkpoint]\n",
        "model.fit(x_train,\n",
        "          y_train_labels,\n",
        "          epochs=5,\n",
        "          callbacks=callbacks,validation_data=(x_test,y_test_labels))"
      ],
      "execution_count": null,
      "outputs": [
        {
          "output_type": "stream",
          "name": "stdout",
          "text": [
            "Epoch 1/5\n",
            "1563/1563 [==============================] - 31s 20ms/step - loss: 0.7523 - accuracy: 0.7478 - val_loss: 1.2628 - val_accuracy: 0.5879\n",
            "\n",
            "Epoch 00001: val_loss improved from inf to 1.26276, saving model to my_best_model.epoch01-loss1.26.hdf5\n",
            "Epoch 2/5\n",
            "1563/1563 [==============================] - 30s 19ms/step - loss: 0.5238 - accuracy: 0.8278 - val_loss: 1.6076 - val_accuracy: 0.5854\n",
            "\n",
            "Epoch 00002: val_loss did not improve from 1.26276\n",
            "Epoch 3/5\n",
            " 352/1563 [=====>........................] - ETA: 22s - loss: 0.3021 - accuracy: 0.9010"
          ]
        }
      ]
    },
    {
      "cell_type": "code",
      "metadata": {
        "id": "V-fT4cH1PxNe"
      },
      "source": [
        "ModelCheckpoint\n",
        "\n",
        "\n",
        "def inference(image,model):\n",
        "\n",
        "script->\n",
        "python inference.py --input image.jpg\n",
        "CAR"
      ],
      "execution_count": null,
      "outputs": []
    },
    {
      "cell_type": "code",
      "metadata": {
        "id": "5-OdMsmxPxIs"
      },
      "source": [
        ""
      ],
      "execution_count": null,
      "outputs": []
    },
    {
      "cell_type": "code",
      "metadata": {
        "id": "HOTu0EciPL20"
      },
      "source": [
        ""
      ],
      "execution_count": null,
      "outputs": []
    }
  ]
}