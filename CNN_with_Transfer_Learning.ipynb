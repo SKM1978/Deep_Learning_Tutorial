{
  "nbformat": 4,
  "nbformat_minor": 0,
  "metadata": {
    "colab": {
      "name": "CNN with Transfer Learning.ipynb",
      "provenance": [],
      "collapsed_sections": [
        "YG84qXNzNds8",
        "nQbohAWhNvJ1",
        "SVq2Gw26e-_D",
        "-wPl-SK8fxR0",
        "YH3wy876BJjg",
        "Qpa5IU8rkr8u",
        "eoJsxYiLmqKi",
        "90E48o92oAVP",
        "5Q20lEjhpoFa",
        "y_kcO_nqr76m",
        "PKErSP8Qxpz0",
        "9z3eyg8_yIma",
        "RpyU0q1SgjF9",
        "icLsgQHVgqFU",
        "VfLR9kYlg8gY",
        "zudoDVWYkRz8",
        "iLDVqIGRlteZ",
        "zHj8cNOJo7Lu",
        "aqrUUtOlXEFV",
        "SmDpsAqnYZJm",
        "WLvkAOFMe5AQ",
        "o3jP7Rbifl9s",
        "Wtz1UGYdojJe"
      ],
      "authorship_tag": "ABX9TyPrK3V/X1+EIKu5MbAZ+Ej9",
      "include_colab_link": true
    },
    "kernelspec": {
      "display_name": "Python 3",
      "name": "python3"
    },
    "language_info": {
      "name": "python"
    },
    "accelerator": "GPU"
  },
  "cells": [
    {
      "cell_type": "markdown",
      "metadata": {
        "id": "view-in-github",
        "colab_type": "text"
      },
      "source": [
        "<a href=\"https://colab.research.google.com/github/SKM1978/Deep_Learning_Tutorial/blob/master/CNN_with_Transfer_Learning.ipynb\" target=\"_parent\"><img src=\"https://colab.research.google.com/assets/colab-badge.svg\" alt=\"Open In Colab\"/></a>"
      ]
    },
    {
      "cell_type": "markdown",
      "metadata": {
        "id": "nxjGF2vPNNCD"
      },
      "source": [
        "# Building CNN on CIFAR dataset using Transfer Learning"
      ]
    },
    {
      "cell_type": "markdown",
      "metadata": {
        "id": "YG84qXNzNds8"
      },
      "source": [
        "## Importing the libraries"
      ]
    },
    {
      "cell_type": "code",
      "metadata": {
        "id": "LtdYyi46NfrT"
      },
      "source": [
        "import numpy as np\n",
        "import matplotlib.pyplot as plt\n",
        "import seaborn as sns\n",
        "import tensorflow as tf\n",
        "sns.set()\n"
      ],
      "execution_count": 51,
      "outputs": []
    },
    {
      "cell_type": "markdown",
      "metadata": {
        "id": "nQbohAWhNvJ1"
      },
      "source": [
        "## Loading the dataset"
      ]
    },
    {
      "cell_type": "code",
      "metadata": {
        "id": "FzQfiC06Nxkj"
      },
      "source": [
        "from keras.datasets import cifar10\n",
        "import keras\n",
        "from keras.models import Sequential\n",
        "from keras.layers import Dense, Dropout, Conv2D, MaxPool2D, Flatten"
      ],
      "execution_count": 52,
      "outputs": []
    },
    {
      "cell_type": "code",
      "metadata": {
        "id": "lAoL7P0VOJMj"
      },
      "source": [
        "(X_train, y_train),(X_test, y_test)=cifar10.load_data()"
      ],
      "execution_count": 53,
      "outputs": []
    },
    {
      "cell_type": "code",
      "metadata": {
        "colab": {
          "base_uri": "https://localhost:8080/"
        },
        "id": "5E7QH1qvOTt1",
        "outputId": "4bfff6bf-a3a3-495f-8873-f54fc49dfa82"
      },
      "source": [
        "X_train.shape, y_train.shape, X_test.shape, y_test.shape"
      ],
      "execution_count": 54,
      "outputs": [
        {
          "output_type": "execute_result",
          "data": {
            "text/plain": [
              "((50000, 32, 32, 3), (50000, 1), (10000, 32, 32, 3), (10000, 1))"
            ]
          },
          "metadata": {},
          "execution_count": 54
        }
      ]
    },
    {
      "cell_type": "code",
      "metadata": {
        "colab": {
          "base_uri": "https://localhost:8080/"
        },
        "id": "DpAbZMDCOdas",
        "outputId": "868fac50-6042-48ff-98f5-bbad1777ebe0"
      },
      "source": [
        "# Unique classes in the dataset\n",
        "\n",
        "classes=np.unique(y_train)\n",
        "classes"
      ],
      "execution_count": 55,
      "outputs": [
        {
          "output_type": "execute_result",
          "data": {
            "text/plain": [
              "array([0, 1, 2, 3, 4, 5, 6, 7, 8, 9], dtype=uint8)"
            ]
          },
          "metadata": {},
          "execution_count": 55
        }
      ]
    },
    {
      "cell_type": "code",
      "metadata": {
        "colab": {
          "base_uri": "https://localhost:8080/"
        },
        "id": "931KS5ZUOyqW",
        "outputId": "13e3cac3-ae45-4bb3-bd05-ccd434c21d19"
      },
      "source": [
        "nclasses=len(classes)\n",
        "nclasses"
      ],
      "execution_count": 56,
      "outputs": [
        {
          "output_type": "execute_result",
          "data": {
            "text/plain": [
              "10"
            ]
          },
          "metadata": {},
          "execution_count": 56
        }
      ]
    },
    {
      "cell_type": "code",
      "metadata": {
        "colab": {
          "base_uri": "https://localhost:8080/",
          "height": 391
        },
        "id": "0DWcy1OMPIYT",
        "outputId": "8cbba873-3020-4ee3-9135-c5dac88bc4ef"
      },
      "source": [
        "# Displaying the 1st image in dataset\n",
        "\n",
        "plt.subplot(121)\n",
        "plt.imshow(X_train[0,:,:], cmap='gray')\n",
        "plt.show()\n",
        "\n",
        "plt.subplot(122)\n",
        "plt.imshow(X_test[0,:,:], cmap='gray')\n",
        "plt.show()"
      ],
      "execution_count": 57,
      "outputs": [
        {
          "output_type": "display_data",
          "data": {
            "image/png": "[encoded data removed]",
            "text/plain": [
              "<Figure size 432x288 with 1 Axes>"
            ]
          },
          "metadata": {}
        },
        {
          "output_type": "display_data",
          "data": {
            "image/png": "[encoded data removed]",
            "text/plain": [
              "<Figure size 432x288 with 1 Axes>"
            ]
          },
          "metadata": {}
        }
      ]
    },
    {
      "cell_type": "markdown",
      "metadata": {
        "id": "SVq2Gw26e-_D"
      },
      "source": [
        "## Displaying Images from each class"
      ]
    },
    {
      "cell_type": "code",
      "metadata": {
        "colab": {
          "base_uri": "https://localhost:8080/",
          "height": 1000
        },
        "id": "ZS3kJU5cfCBN",
        "outputId": "516a8593-5261-4ed0-cf43-56810ec3fab9"
      },
      "source": [
        "for category in np.unique(y_train):\n",
        "  counter=2\n",
        "  print(category)\n",
        "  for idx, label in enumerate(y_train):\n",
        "    if counter <1:\n",
        "      break\n",
        "    if label==category:\n",
        "      \n",
        "      counter-= 1\n",
        "      plt.imshow(X_train[idx])\n",
        "      plt.show()\n",
        "  print(\"*\"*50)"
      ],
      "execution_count": 58,
      "outputs": [
        {
          "output_type": "stream",
          "name": "stdout",
          "text": [
            "0\n"
          ]
        },
        {
          "output_type": "display_data",
          "data": {
            "image/png": "[encoded data removed]",
            "text/plain": [
              "<Figure size 432x288 with 1 Axes>"
            ]
          },
          "metadata": {}
        },
        {
          "output_type": "display_data",
          "data": {
            "image/png": "[encoded data removed]",
            "text/plain": [
              "<Figure size 432x288 with 1 Axes>"
            ]
          },
          "metadata": {}
        },
        {
          "output_type": "stream",
          "name": "stdout",
          "text": [
            "**************************************************\n",
            "1\n"
          ]
        },
        {
          "output_type": "display_data",
          "data": {
            "image/png": "[encoded data removed]",
            "text/plain": [
              "<Figure size 432x288 with 1 Axes>"
            ]
          },
          "metadata": {}
        },
        {
          "output_type": "display_data",
          "data": {
            "image/png": "[encoded data removed]",
            "text/plain": [
              "<Figure size 432x288 with 1 Axes>"
            ]
          },
          "metadata": {}
        },
        {
          "output_type": "stream",
          "name": "stdout",
          "text": [
            "**************************************************\n",
            "2\n"
          ]
        },
        {
          "output_type": "display_data",
          "data": {
            "image/png": "[encoded data removed]",
            "text/plain": [
              "<Figure size 432x288 with 1 Axes>"
            ]
          },
          "metadata": {}
        },
        {
          "output_type": "display_data",
          "data": {
            "image/png": "[encoded data removed]",
            "text/plain": [
              "<Figure size 432x288 with 1 Axes>"
            ]
          },
          "metadata": {}
        },
        {
          "output_type": "stream",
          "name": "stdout",
          "text": [
            "**************************************************\n",
            "3\n"
          ]
        },
        {
          "output_type": "display_data",
          "data": {
            "image/png": "[encoded data removed]",
            "text/plain": [
              "<Figure size 432x288 with 1 Axes>"
            ]
          },
          "metadata": {}
        },
        {
          "output_type": "display_data",
          "data": {
            "image/png": "[encoded data removed]",
            "text/plain": [
              "<Figure size 432x288 with 1 Axes>"
            ]
          },
          "metadata": {}
        },
        {
          "output_type": "stream",
          "name": "stdout",
          "text": [
            "**************************************************\n",
            "4\n"
          ]
        },
        {
          "output_type": "display_data",
          "data": {
            "image/png": "[encoded data removed]",
            "text/plain": [
              "<Figure size 432x288 with 1 Axes>"
            ]
          },
          "metadata": {}
        },
        {
          "output_type": "display_data",
          "data": {
            "image/png": "[encoded data removed]",
            "text/plain": [
              "<Figure size 432x288 with 1 Axes>"
            ]
          },
          "metadata": {}
        },
        {
          "output_type": "stream",
          "name": "stdout",
          "text": [
            "**************************************************\n",
            "5\n"
          ]
        },
        {
          "output_type": "display_data",
          "data": {
            "image/png": "[encoded data removed]",
            "text/plain": [
              "<Figure size 432x288 with 1 Axes>"
            ]
          },
          "metadata": {}
        },
        {
          "output_type": "display_data",
          "data": {
            "image/png": "[encoded data removed]",
            "text/plain": [
              "<Figure size 432x288 with 1 Axes>"
            ]
          },
          "metadata": {}
        },
        {
          "output_type": "stream",
          "name": "stdout",
          "text": [
            "**************************************************\n",
            "6\n"
          ]
        },
        {
          "output_type": "display_data",
          "data": {
            "image/png": "[encoded data removed]",
            "text/plain": [
              "<Figure size 432x288 with 1 Axes>"
            ]
          },
          "metadata": {}
        },
        {
          "output_type": "display_data",
          "data": {
            "image/png": "[encoded data removed]",
            "text/plain": [
              "<Figure size 432x288 with 1 Axes>"
            ]
          },
          "metadata": {}
        },
        {
          "output_type": "stream",
          "name": "stdout",
          "text": [
            "**************************************************\n",
            "7\n"
          ]
        },
        {
          "output_type": "display_data",
          "data": {
            "image/png": "[encoded data removed]",
            "text/plain": [
              "<Figure size 432x288 with 1 Axes>"
            ]
          },
          "metadata": {}
        },
        {
          "output_type": "display_data",
          "data": {
            "image/png": "[encoded data removed]",
            "text/plain": [
              "<Figure size 432x288 with 1 Axes>"
            ]
          },
          "metadata": {}
        },
        {
          "output_type": "stream",
          "name": "stdout",
          "text": [
            "**************************************************\n",
            "8\n"
          ]
        },
        {
          "output_type": "display_data",
          "data": {
            "image/png": "[encoded data removed]",
            "text/plain": [
              "<Figure size 432x288 with 1 Axes>"
            ]
          },
          "metadata": {}
        },
        {
          "output_type": "display_data",
          "data": {
            "image/png": "[encoded data removed]",
            "text/plain": [
              "<Figure size 432x288 with 1 Axes>"
            ]
          },
          "metadata": {}
        },
        {
          "output_type": "stream",
          "name": "stdout",
          "text": [
            "**************************************************\n",
            "9\n"
          ]
        },
        {
          "output_type": "display_data",
          "data": {
            "image/png": "[encoded data removed]",
            "text/plain": [
              "<Figure size 432x288 with 1 Axes>"
            ]
          },
          "metadata": {}
        },
        {
          "output_type": "display_data",
          "data": {
            "image/png": "[encoded data removed]",
            "text/plain": [
              "<Figure size 432x288 with 1 Axes>"
            ]
          },
          "metadata": {}
        },
        {
          "output_type": "stream",
          "name": "stdout",
          "text": [
            "**************************************************\n"
          ]
        }
      ]
    },
    {
      "cell_type": "markdown",
      "metadata": {
        "id": "-wPl-SK8fxR0"
      },
      "source": [
        "## Using simple ANN"
      ]
    },
    {
      "cell_type": "code",
      "metadata": {
        "id": "AdEvl_W3f0t8"
      },
      "source": [
        "# Loading the data\n",
        "(X_train,y_train),(X_test,y_test)=cifar10.load_data()\n",
        "\n",
        "# Reshaping the data\n",
        "X_train=X_train.reshape(-1, 32*32*3)\n",
        "X_train=X_train/255.0\n",
        "\n",
        "X_test=X_test.reshape(-1, 32*32*3)\n",
        "X_test=X_test/255.0\n",
        "\n",
        "y_train=tf.keras.utils.to_categorical(y_train, num_classes=10, dtype='float64')\n",
        "y_test=tf.keras.utils.to_categorical(y_test, num_classes=10, dtype='float64')"
      ],
      "execution_count": 60,
      "outputs": []
    },
    {
      "cell_type": "code",
      "metadata": {
        "colab": {
          "base_uri": "https://localhost:8080/"
        },
        "id": "a_8QzonihTjZ",
        "outputId": "b13fa63a-201c-4fb0-c25c-34b392870ba9"
      },
      "source": [
        "X_train.shape, X_test.shape, y_train.shape, y_test.shape"
      ],
      "execution_count": 61,
      "outputs": [
        {
          "output_type": "execute_result",
          "data": {
            "text/plain": [
              "((50000, 3072), (10000, 3072), (50000, 10), (10000, 10))"
            ]
          },
          "metadata": {},
          "execution_count": 61
        }
      ]
    },
    {
      "cell_type": "markdown",
      "metadata": {
        "id": "U1QWY-EGjc-X"
      },
      "source": [
        "### Model building"
      ]
    },
    {
      "cell_type": "code",
      "metadata": {
        "id": "sgJwd__hjhqa"
      },
      "source": [
        "model=Sequential()\n",
        "\n",
        "# Input Layer\n",
        "model.add(Dense(60, activation='relu', input_dim=3072))\n",
        "\n",
        "# Hidden Layers\n",
        "model.add(Dense(60, activation='relu'))\n",
        "model.add(Dropout(0.3))\n",
        "\n",
        "model.add(Dense(60, activation='relu'))\n",
        "model.add(Dropout(0.3))\n",
        "\n",
        "model.add(Dense(60, activation='relu'))\n",
        "model.add(Dropout(0.3))\n",
        "\n",
        "# Output Layer\n",
        "model.add(Dense(10, activation='softmax'))\n",
        "\n",
        "# For using custom metrics\n",
        "# https://keras.io/api/metrics/#custom-metrics"
      ],
      "execution_count": null,
      "outputs": []
    },
    {
      "cell_type": "code",
      "metadata": {
        "id": "7IHbuGodQ7Ex"
      },
      "source": [
        "model.compile(optimizer=\"SGD\", loss=\"categorical_crossentropy\", metrics=[\"accuracy\"])"
      ],
      "execution_count": null,
      "outputs": []
    },
    {
      "cell_type": "code",
      "metadata": {
        "id": "tYMD2VrFlYhg"
      },
      "source": [
        "history=model.fit(X_train,y_train,validation_data=(X_test,y_test), batch_size=32, epochs=200, verbose=2)\n",
        "\n",
        "# https://keras.io/api/models/model_training_apis/"
      ],
      "execution_count": null,
      "outputs": []
    },
    {
      "cell_type": "code",
      "metadata": {
        "id": "KihuEdGz3Jm8"
      },
      "source": [
        "model.summary()"
      ],
      "execution_count": null,
      "outputs": []
    },
    {
      "cell_type": "code",
      "metadata": {
        "id": "UFySA6ZB7yze"
      },
      "source": [
        "history.history"
      ],
      "execution_count": null,
      "outputs": []
    },
    {
      "cell_type": "code",
      "metadata": {
        "id": "1u2LAUo28C8i"
      },
      "source": [
        "plt.figure(figsize=[10,6])\n",
        "plt.plot(history.history['accuracy'],'r',linewidth=2.0)\n",
        "plt.plot(history.history['val_accuracy'],'b',linewidth=2.0)\n",
        "plt.legend(['Training Accuracy', 'Validation Accuracy'],fontsize=18)\n",
        "plt.xlabel('Epochs ',fontsize=16)\n",
        "plt.ylabel('Accuracy',fontsize=16)\n",
        "plt.title('Accuracy Curves',fontsize=16)"
      ],
      "execution_count": null,
      "outputs": []
    },
    {
      "cell_type": "markdown",
      "metadata": {
        "id": "YH3wy876BJjg"
      },
      "source": [
        "## 2nd ANN model"
      ]
    },
    {
      "cell_type": "code",
      "metadata": {
        "id": "FZfWwPC2BLp6"
      },
      "source": [
        "model2=Sequential()\n",
        "\n",
        "model2.add(Dense(800, activation='relu', input_dim=3072))\n",
        "model2.add(Dense(10, activation='softmax'))\n",
        "\n",
        "model2.compile(optimizer=\"SGD\", loss=\"categorical_crossentropy\", metrics=[\"accuracy\"])\n",
        "\n",
        "history2=model2.fit(X_train,y_train,validation_data=(X_test,y_test), batch_size=32, epochs=200, verbose=2)"
      ],
      "execution_count": null,
      "outputs": []
    },
    {
      "cell_type": "code",
      "metadata": {
        "id": "IdRqSCAwAl6S"
      },
      "source": [
        "model2.summary()"
      ],
      "execution_count": null,
      "outputs": []
    },
    {
      "cell_type": "code",
      "metadata": {
        "id": "a562uL0nXijS"
      },
      "source": [
        "history2.history"
      ],
      "execution_count": null,
      "outputs": []
    },
    {
      "cell_type": "code",
      "metadata": {
        "id": "AAyE4hi7XnPc"
      },
      "source": [
        "plt.figure(figsize=[10,6])\n",
        "plt.plot(history2.history['accuracy'],'r',linewidth=2.0)\n",
        "plt.plot(history2.history['val_accuracy'],'b',linewidth=2.0)\n",
        "plt.legend(['Training Accuracy', 'Validation Accuracy'],fontsize=18)\n",
        "plt.xlabel('Epochs ',fontsize=16)\n",
        "plt.ylabel('Accuracy',fontsize=16)\n",
        "plt.title('Accuracy Curves',fontsize=16)\n",
        "plt.show()"
      ],
      "execution_count": null,
      "outputs": []
    },
    {
      "cell_type": "code",
      "metadata": {
        "id": "I9QzHFuONryc"
      },
      "source": [
        ""
      ],
      "execution_count": null,
      "outputs": []
    },
    {
      "cell_type": "markdown",
      "metadata": {
        "id": "Qpa5IU8rkr8u"
      },
      "source": [
        "## Using CNN"
      ]
    },
    {
      "cell_type": "markdown",
      "metadata": {
        "id": "ikjCBVAok1Ti"
      },
      "source": [
        "### Changing into float and Standardizing"
      ]
    },
    {
      "cell_type": "code",
      "metadata": {
        "id": "-Uy78tQYk7Ca"
      },
      "source": [
        "# Loading the dataset\n",
        "(X_train, y_train),(X_test, y_test)=cifar10.load_data()\n",
        "\n",
        "\n",
        "X_train=X_train/255.0\n",
        "X_test=X_test/255.0\n",
        "\n",
        "X_train.dtype, X_test.dtype\n"
      ],
      "execution_count": null,
      "outputs": []
    },
    {
      "cell_type": "code",
      "metadata": {
        "id": "b8nyHWTfktnF"
      },
      "source": [
        "y_train.shape, y_test.shape"
      ],
      "execution_count": null,
      "outputs": []
    },
    {
      "cell_type": "markdown",
      "metadata": {
        "id": "MUcOL4YGloHx"
      },
      "source": [
        "### One Hot Encoding for y feature"
      ]
    },
    {
      "cell_type": "code",
      "metadata": {
        "id": "PiYekVuflrlV"
      },
      "source": [
        "from keras.utils import np_utils\n",
        "from tensorflow.keras.utils import to_categorical"
      ],
      "execution_count": null,
      "outputs": []
    },
    {
      "cell_type": "code",
      "metadata": {
        "id": "eYf-xUPTmGNi"
      },
      "source": [
        "num_classes=len(np.unique(y_train))\n",
        "num_classes"
      ],
      "execution_count": null,
      "outputs": []
    },
    {
      "cell_type": "code",
      "metadata": {
        "id": "3H40TvHkmMc1"
      },
      "source": [
        "y_train=to_categorical(y_train, num_classes)\n",
        "y_test=to_categorical(y_test, num_classes)\n",
        "\n",
        "y_train.shape, y_test.shape"
      ],
      "execution_count": null,
      "outputs": []
    },
    {
      "cell_type": "markdown",
      "metadata": {
        "id": "eoJsxYiLmqKi"
      },
      "source": [
        "## Splitting the dataset into Training, Validation and Test"
      ]
    },
    {
      "cell_type": "code",
      "metadata": {
        "id": "H3YaXf84mu-u"
      },
      "source": [
        "y_valid=y_train[:10000]\n",
        "y_train=y_train[10000:]\n",
        "\n",
        "X_valid=X_train[:10000]\n",
        "X_train=X_train[10000:]\n",
        "\n",
        "X_train.shape, X_valid.shape, X_test.shape"
      ],
      "execution_count": null,
      "outputs": []
    },
    {
      "cell_type": "code",
      "metadata": {
        "id": "ZwSKHe9EnlNa"
      },
      "source": [
        "y_train.shape, y_valid.shape, y_test.shape"
      ],
      "execution_count": null,
      "outputs": []
    },
    {
      "cell_type": "markdown",
      "metadata": {
        "id": "90E48o92oAVP"
      },
      "source": [
        "## CNN Model"
      ]
    },
    {
      "cell_type": "code",
      "metadata": {
        "id": "V2xRcCLYoCja"
      },
      "source": [
        "# Building a CNN model with Tensorflow\n",
        "\n",
        "import tensorflow as tf"
      ],
      "execution_count": null,
      "outputs": []
    },
    {
      "cell_type": "code",
      "metadata": {
        "id": "6Hn0QFs-yFbt"
      },
      "source": [
        "cnn_model=tf.keras.Sequential()\n",
        "\n",
        "cnn_model.add(tf.keras.layers.Conv2D(filters=16, kernel_size=4, activation='relu', input_shape=(32,32,3)))\n",
        "cnn_model.add(tf.keras.layers.MaxPool2D(pool_size=2))\n",
        "\n",
        "cnn_model.add(tf.keras.layers.Conv2D(filters=16, kernel_size=4, activation='relu'))\n",
        "cnn_model.add(tf.keras.layers.MaxPool2D(pool_size=2))\n",
        "\n",
        "cnn_model.add(tf.keras.layers.Conv2D(filters=16, kernel_size=4, activation='relu'))\n",
        "cnn_model.add(tf.keras.layers.MaxPool2D(pool_size=2))\n",
        "\n",
        "cnn_model.add(tf.keras.layers.Flatten())\n",
        "cnn_model.summary()\n",
        "\n",
        "# Building the ANN model on top\n",
        "\n",
        "cnn_model.add(tf.keras.layers.Dense(512, activation='relu', kernel_initializer='uniform'))\n",
        "cnn_model.add(tf.keras.layers.Dropout(0.3))\n",
        "cnn_model.add(tf.keras.layers.Dense(512, activation='relu', kernel_initializer='uniform'))\n",
        "cnn_model.add(tf.keras.layers.Dropout(0.3))\n",
        "cnn_model.add(tf.keras.layers.Dense(512, activation='relu', kernel_initializer='uniform'))\n",
        "cnn_model.add(tf.keras.layers.Dropout(0.3))\n",
        "cnn_model.add(tf.keras.layers.Dense(256, activation='relu', kernel_initializer='uniform'))\n",
        "cnn_model.add(tf.keras.layers.Dropout(0.2))\n",
        "cnn_model.add(tf.keras.layers.Dense(180, activation='relu', kernel_initializer='uniform'))\n",
        "cnn_model.add(tf.keras.layers.Dropout(0.2))\n",
        "cnn_model.add(tf.keras.layers.Dense(90, activation='relu', kernel_initializer='uniform'))\n",
        "\n",
        "cnn_model.add(tf.keras.layers.Dense(10, activation='softmax', kernel_initializer='uniform'))\n",
        "\n",
        "cnn_model.compile(optimizer='adam', loss='categorical_crossentropy', metrics=['accuracy'])\n",
        "cnn_model.summary()\n"
      ],
      "execution_count": null,
      "outputs": []
    },
    {
      "cell_type": "markdown",
      "metadata": {
        "id": "5Q20lEjhpoFa"
      },
      "source": [
        "## Fitting the CNN model"
      ]
    },
    {
      "cell_type": "code",
      "metadata": {
        "id": "ER7HRsxOpp1O"
      },
      "source": [
        "answers=cnn_model.fit(X_train, y_train, validation_data=(X_valid, y_valid), batch_size=32, epochs=50, verbose=1)"
      ],
      "execution_count": null,
      "outputs": []
    },
    {
      "cell_type": "markdown",
      "metadata": {
        "id": "y_kcO_nqr76m"
      },
      "source": [
        "## Evaluating the CNN model"
      ]
    },
    {
      "cell_type": "code",
      "metadata": {
        "id": "xK0a6jyMr--_"
      },
      "source": [
        "results=cnn_model.evaluate(X_test, y_test)\n",
        "results"
      ],
      "execution_count": null,
      "outputs": []
    },
    {
      "cell_type": "code",
      "metadata": {
        "id": "tToZcq9Gm08f"
      },
      "source": [
        "answers.history.keys()"
      ],
      "execution_count": null,
      "outputs": []
    },
    {
      "cell_type": "code",
      "metadata": {
        "id": "pwV9WVU6rqYA"
      },
      "source": [
        "plt.plot(answers.history['val_accuracy'],label='Validation Accuracy');\n",
        "plt.plot(answers.history['accuracy'],label='Training Accuracy');\n",
        "plt.legend;"
      ],
      "execution_count": null,
      "outputs": []
    },
    {
      "cell_type": "markdown",
      "metadata": {
        "id": "PKErSP8Qxpz0"
      },
      "source": [
        "## Using Keras-Tuners"
      ]
    },
    {
      "cell_type": "code",
      "metadata": {
        "id": "_i2YFEXQxsJZ"
      },
      "source": [
        "def build_model(hp):\n",
        "  model=keras.Sequential([\n",
        "    keras.layers.Conv2D(\n",
        "        filters=hp.Int('conv_1_filter', min_value=32, max_value=128, step=16),\n",
        "        kernel_size=hp.Choice('conv_1_kernel', values=(3,5)),\n",
        "        activation='relu',\n",
        "        input_shape=(28,28,1)),\n",
        "\n",
        "    keras.layers.Conv2D(\n",
        "        filters=hp.Int('conv_2_filter', min_value=32, max_value=128, step=16),\n",
        "        kernel_size=hp.Choice('conv_2_kernel', values=(3,5)),\n",
        "        activation='relu'),\n",
        "\n",
        "    keras.layers.Flatten(),\n",
        "\n",
        "    keras.layers.Dense(\n",
        "        units=hp.Int('dense_1_units', min_value=32, max_value=128, step=16),\n",
        "        activation='relu'),\n",
        "\n",
        "    keras.layers.Dense(10, activation='softmax')])\n",
        "\n",
        "  model.compile(optimizer='adam',\n",
        "                loss='sparse_categorical_crossentropy', \n",
        "                metrics=['accuracy'])\n",
        "\n",
        "  return model"
      ],
      "execution_count": null,
      "outputs": []
    },
    {
      "cell_type": "markdown",
      "metadata": {
        "id": "9z3eyg8_yIma"
      },
      "source": [
        "## Using Random Search to find the best hyperparameters"
      ]
    },
    {
      "cell_type": "code",
      "metadata": {
        "id": "wLsRp0PgyNLg"
      },
      "source": [
        "!pip install keras-tuner"
      ],
      "execution_count": null,
      "outputs": []
    },
    {
      "cell_type": "code",
      "metadata": {
        "id": "QOIIBBUSyUFM"
      },
      "source": [
        "from keras_tuner import RandomSearch\n",
        "from keras_tuner.engine.hyperparameters import HyperParameters"
      ],
      "execution_count": null,
      "outputs": []
    },
    {
      "cell_type": "code",
      "metadata": {
        "id": "Sm16hFJGyQxd"
      },
      "source": [
        "tuner_search=RandomSearch(build_model, objective='val_accuracy', max_trials=5, directory='output', project_name='cifar10_classification')\n",
        "\n",
        "tuner_search.search(X_train,y_train,epochs=3,validation_split=0.1)"
      ],
      "execution_count": null,
      "outputs": []
    },
    {
      "cell_type": "code",
      "metadata": {
        "id": "PqugqkRRyFgy"
      },
      "source": [
        ""
      ],
      "execution_count": null,
      "outputs": []
    },
    {
      "cell_type": "markdown",
      "metadata": {
        "id": "28Gwk_nHgZgP"
      },
      "source": [
        "# Building CNN using Transfer Learning"
      ]
    },
    {
      "cell_type": "markdown",
      "metadata": {
        "id": "RpyU0q1SgjF9"
      },
      "source": [
        "## Importing the libraries"
      ]
    },
    {
      "cell_type": "code",
      "metadata": {
        "id": "YDUWyIV5glGz"
      },
      "source": [
        "import numpy as np\n",
        "import matplotlib.pyplot as plt\n",
        "import seaborn as sns\n",
        "import tensorflow as tf"
      ],
      "execution_count": 63,
      "outputs": []
    },
    {
      "cell_type": "markdown",
      "metadata": {
        "id": "icLsgQHVgqFU"
      },
      "source": [
        "## Loading the dataset"
      ]
    },
    {
      "cell_type": "code",
      "metadata": {
        "id": "GE6-6NhkgsGx"
      },
      "source": [
        "import keras\n",
        "from keras.datasets import cifar10\n",
        "from keras.models import Sequential\n",
        "from keras.layers import Dense, Dropout, Conv2D, MaxPool2D, Flatten "
      ],
      "execution_count": 64,
      "outputs": []
    },
    {
      "cell_type": "code",
      "metadata": {
        "id": "hpOxQJhmi-rk"
      },
      "source": [
        "(x_train, y_train),(x_test, y_test)=cifar10.load_data()"
      ],
      "execution_count": 65,
      "outputs": []
    },
    {
      "cell_type": "code",
      "metadata": {
        "id": "y3j_N-xcsZ_k",
        "colab": {
          "base_uri": "https://localhost:8080/"
        },
        "outputId": "40283653-5dd6-4dc4-f555-92d3b3a45bd1"
      },
      "source": [
        "x_train.shape, x_test.shape, y_train.shape, y_test.shape"
      ],
      "execution_count": 66,
      "outputs": [
        {
          "output_type": "execute_result",
          "data": {
            "text/plain": [
              "((50000, 32, 32, 3), (10000, 32, 32, 3), (50000, 1), (10000, 1))"
            ]
          },
          "metadata": {},
          "execution_count": 66
        }
      ]
    },
    {
      "cell_type": "code",
      "metadata": {
        "colab": {
          "base_uri": "https://localhost:8080/"
        },
        "id": "49d0YaePjumD",
        "outputId": "bf3ca53a-317e-4e79-f3ca-074a34b587fa"
      },
      "source": [
        "x_train, x_train.dtype"
      ],
      "execution_count": 67,
      "outputs": [
        {
          "output_type": "execute_result",
          "data": {
            "text/plain": [
              "(array([[[[ 59,  62,  63],\n",
              "          [ 43,  46,  45],\n",
              "          [ 50,  48,  43],\n",
              "          ...,\n",
              "          [158, 132, 108],\n",
              "          [152, 125, 102],\n",
              "          [148, 124, 103]],\n",
              " \n",
              "         [[ 16,  20,  20],\n",
              "          [  0,   0,   0],\n",
              "          [ 18,   8,   0],\n",
              "          ...,\n",
              "          [123,  88,  55],\n",
              "          [119,  83,  50],\n",
              "          [122,  87,  57]],\n",
              " \n",
              "         [[ 25,  24,  21],\n",
              "          [ 16,   7,   0],\n",
              "          [ 49,  27,   8],\n",
              "          ...,\n",
              "          [118,  84,  50],\n",
              "          [120,  84,  50],\n",
              "          [109,  73,  42]],\n",
              " \n",
              "         ...,\n",
              " \n",
              "         [[208, 170,  96],\n",
              "          [201, 153,  34],\n",
              "          [198, 161,  26],\n",
              "          ...,\n",
              "          [160, 133,  70],\n",
              "          [ 56,  31,   7],\n",
              "          [ 53,  34,  20]],\n",
              " \n",
              "         [[180, 139,  96],\n",
              "          [173, 123,  42],\n",
              "          [186, 144,  30],\n",
              "          ...,\n",
              "          [184, 148,  94],\n",
              "          [ 97,  62,  34],\n",
              "          [ 83,  53,  34]],\n",
              " \n",
              "         [[177, 144, 116],\n",
              "          [168, 129,  94],\n",
              "          [179, 142,  87],\n",
              "          ...,\n",
              "          [216, 184, 140],\n",
              "          [151, 118,  84],\n",
              "          [123,  92,  72]]],\n",
              " \n",
              " \n",
              "        [[[154, 177, 187],\n",
              "          [126, 137, 136],\n",
              "          [105, 104,  95],\n",
              "          ...,\n",
              "          [ 91,  95,  71],\n",
              "          [ 87,  90,  71],\n",
              "          [ 79,  81,  70]],\n",
              " \n",
              "         [[140, 160, 169],\n",
              "          [145, 153, 154],\n",
              "          [125, 125, 118],\n",
              "          ...,\n",
              "          [ 96,  99,  78],\n",
              "          [ 77,  80,  62],\n",
              "          [ 71,  73,  61]],\n",
              " \n",
              "         [[140, 155, 164],\n",
              "          [139, 146, 149],\n",
              "          [115, 115, 112],\n",
              "          ...,\n",
              "          [ 79,  82,  64],\n",
              "          [ 68,  70,  55],\n",
              "          [ 67,  69,  55]],\n",
              " \n",
              "         ...,\n",
              " \n",
              "         [[175, 167, 166],\n",
              "          [156, 154, 160],\n",
              "          [154, 160, 170],\n",
              "          ...,\n",
              "          [ 42,  34,  36],\n",
              "          [ 61,  53,  57],\n",
              "          [ 93,  83,  91]],\n",
              " \n",
              "         [[165, 154, 128],\n",
              "          [156, 152, 130],\n",
              "          [159, 161, 142],\n",
              "          ...,\n",
              "          [103,  93,  96],\n",
              "          [123, 114, 120],\n",
              "          [131, 121, 131]],\n",
              " \n",
              "         [[163, 148, 120],\n",
              "          [158, 148, 122],\n",
              "          [163, 156, 133],\n",
              "          ...,\n",
              "          [143, 133, 139],\n",
              "          [143, 134, 142],\n",
              "          [143, 133, 144]]],\n",
              " \n",
              " \n",
              "        [[[255, 255, 255],\n",
              "          [253, 253, 253],\n",
              "          [253, 253, 253],\n",
              "          ...,\n",
              "          [253, 253, 253],\n",
              "          [253, 253, 253],\n",
              "          [253, 253, 253]],\n",
              " \n",
              "         [[255, 255, 255],\n",
              "          [255, 255, 255],\n",
              "          [255, 255, 255],\n",
              "          ...,\n",
              "          [255, 255, 255],\n",
              "          [255, 255, 255],\n",
              "          [255, 255, 255]],\n",
              " \n",
              "         [[255, 255, 255],\n",
              "          [254, 254, 254],\n",
              "          [254, 254, 254],\n",
              "          ...,\n",
              "          [254, 254, 254],\n",
              "          [254, 254, 254],\n",
              "          [254, 254, 254]],\n",
              " \n",
              "         ...,\n",
              " \n",
              "         [[113, 120, 112],\n",
              "          [111, 118, 111],\n",
              "          [105, 112, 106],\n",
              "          ...,\n",
              "          [ 72,  81,  80],\n",
              "          [ 72,  80,  79],\n",
              "          [ 72,  80,  79]],\n",
              " \n",
              "         [[111, 118, 110],\n",
              "          [104, 111, 104],\n",
              "          [ 99, 106,  98],\n",
              "          ...,\n",
              "          [ 68,  75,  73],\n",
              "          [ 70,  76,  75],\n",
              "          [ 78,  84,  82]],\n",
              " \n",
              "         [[106, 113, 105],\n",
              "          [ 99, 106,  98],\n",
              "          [ 95, 102,  94],\n",
              "          ...,\n",
              "          [ 78,  85,  83],\n",
              "          [ 79,  85,  83],\n",
              "          [ 80,  86,  84]]],\n",
              " \n",
              " \n",
              "        ...,\n",
              " \n",
              " \n",
              "        [[[ 35, 178, 235],\n",
              "          [ 40, 176, 239],\n",
              "          [ 42, 176, 241],\n",
              "          ...,\n",
              "          [ 99, 177, 219],\n",
              "          [ 79, 147, 197],\n",
              "          [ 89, 148, 189]],\n",
              " \n",
              "         [[ 57, 182, 234],\n",
              "          [ 44, 184, 250],\n",
              "          [ 50, 183, 240],\n",
              "          ...,\n",
              "          [156, 182, 200],\n",
              "          [141, 177, 206],\n",
              "          [116, 149, 175]],\n",
              " \n",
              "         [[ 98, 197, 237],\n",
              "          [ 64, 189, 252],\n",
              "          [ 69, 192, 245],\n",
              "          ...,\n",
              "          [188, 195, 206],\n",
              "          [119, 135, 147],\n",
              "          [ 61,  79,  90]],\n",
              " \n",
              "         ...,\n",
              " \n",
              "         [[ 73,  79,  77],\n",
              "          [ 53,  63,  68],\n",
              "          [ 54,  68,  80],\n",
              "          ...,\n",
              "          [ 17,  40,  64],\n",
              "          [ 21,  36,  51],\n",
              "          [ 33,  48,  49]],\n",
              " \n",
              "         [[ 61,  68,  75],\n",
              "          [ 55,  70,  86],\n",
              "          [ 57,  79, 103],\n",
              "          ...,\n",
              "          [ 24,  48,  72],\n",
              "          [ 17,  35,  53],\n",
              "          [  7,  23,  32]],\n",
              " \n",
              "         [[ 44,  56,  73],\n",
              "          [ 46,  66,  88],\n",
              "          [ 49,  77, 105],\n",
              "          ...,\n",
              "          [ 27,  52,  77],\n",
              "          [ 21,  43,  66],\n",
              "          [ 12,  31,  50]]],\n",
              " \n",
              " \n",
              "        [[[189, 211, 240],\n",
              "          [186, 208, 236],\n",
              "          [185, 207, 235],\n",
              "          ...,\n",
              "          [175, 195, 224],\n",
              "          [172, 194, 222],\n",
              "          [169, 194, 220]],\n",
              " \n",
              "         [[194, 210, 239],\n",
              "          [191, 207, 236],\n",
              "          [190, 206, 235],\n",
              "          ...,\n",
              "          [173, 192, 220],\n",
              "          [171, 191, 218],\n",
              "          [167, 190, 216]],\n",
              " \n",
              "         [[208, 219, 244],\n",
              "          [205, 216, 240],\n",
              "          [204, 215, 239],\n",
              "          ...,\n",
              "          [175, 191, 217],\n",
              "          [172, 190, 216],\n",
              "          [169, 191, 215]],\n",
              " \n",
              "         ...,\n",
              " \n",
              "         [[207, 199, 181],\n",
              "          [203, 195, 175],\n",
              "          [203, 196, 173],\n",
              "          ...,\n",
              "          [135, 132, 127],\n",
              "          [162, 158, 150],\n",
              "          [168, 163, 151]],\n",
              " \n",
              "         [[198, 190, 170],\n",
              "          [189, 181, 159],\n",
              "          [180, 172, 147],\n",
              "          ...,\n",
              "          [178, 171, 160],\n",
              "          [175, 169, 156],\n",
              "          [175, 169, 154]],\n",
              " \n",
              "         [[198, 189, 173],\n",
              "          [189, 181, 162],\n",
              "          [178, 170, 149],\n",
              "          ...,\n",
              "          [195, 184, 169],\n",
              "          [196, 189, 171],\n",
              "          [195, 190, 171]]],\n",
              " \n",
              " \n",
              "        [[[229, 229, 239],\n",
              "          [236, 237, 247],\n",
              "          [234, 236, 247],\n",
              "          ...,\n",
              "          [217, 219, 233],\n",
              "          [221, 223, 234],\n",
              "          [222, 223, 233]],\n",
              " \n",
              "         [[222, 221, 229],\n",
              "          [239, 239, 249],\n",
              "          [233, 234, 246],\n",
              "          ...,\n",
              "          [223, 223, 236],\n",
              "          [227, 228, 238],\n",
              "          [210, 211, 220]],\n",
              " \n",
              "         [[213, 206, 211],\n",
              "          [234, 232, 239],\n",
              "          [231, 233, 244],\n",
              "          ...,\n",
              "          [220, 220, 232],\n",
              "          [220, 219, 232],\n",
              "          [202, 203, 215]],\n",
              " \n",
              "         ...,\n",
              " \n",
              "         [[150, 143, 135],\n",
              "          [140, 135, 127],\n",
              "          [132, 127, 120],\n",
              "          ...,\n",
              "          [224, 222, 218],\n",
              "          [230, 228, 225],\n",
              "          [241, 241, 238]],\n",
              " \n",
              "         [[137, 132, 126],\n",
              "          [130, 127, 120],\n",
              "          [125, 121, 115],\n",
              "          ...,\n",
              "          [181, 180, 178],\n",
              "          [202, 201, 198],\n",
              "          [212, 211, 207]],\n",
              " \n",
              "         [[122, 119, 114],\n",
              "          [118, 116, 110],\n",
              "          [120, 116, 111],\n",
              "          ...,\n",
              "          [179, 177, 173],\n",
              "          [164, 164, 162],\n",
              "          [163, 163, 161]]]], dtype=uint8), dtype('uint8'))"
            ]
          },
          "metadata": {},
          "execution_count": 67
        }
      ]
    },
    {
      "cell_type": "markdown",
      "metadata": {
        "id": "VfLR9kYlg8gY"
      },
      "source": [
        "## Standardizing the data"
      ]
    },
    {
      "cell_type": "code",
      "metadata": {
        "colab": {
          "base_uri": "https://localhost:8080/"
        },
        "id": "nzRvsaM-jteg",
        "outputId": "dc63676f-9cad-4036-958a-71f70f509a5c"
      },
      "source": [
        "x_train=x_train/255.0\n",
        "\n",
        "x_test=x_test/255.0\n",
        "\n",
        "x_train.dtype, x_test.dtype, x_train.shape, x_test.shape"
      ],
      "execution_count": 68,
      "outputs": [
        {
          "output_type": "execute_result",
          "data": {
            "text/plain": [
              "(dtype('float64'), dtype('float64'), (50000, 32, 32, 3), (10000, 32, 32, 3))"
            ]
          },
          "metadata": {},
          "execution_count": 68
        }
      ]
    },
    {
      "cell_type": "code",
      "metadata": {
        "colab": {
          "base_uri": "https://localhost:8080/"
        },
        "id": "tPeH90P9mn7n",
        "outputId": "a83b35ff-8897-4da7-884b-fba887616fec"
      },
      "source": [
        "x_train"
      ],
      "execution_count": 69,
      "outputs": [
        {
          "output_type": "execute_result",
          "data": {
            "text/plain": [
              "array([[[[0.23137255, 0.24313725, 0.24705882],\n",
              "         [0.16862745, 0.18039216, 0.17647059],\n",
              "         [0.19607843, 0.18823529, 0.16862745],\n",
              "         ...,\n",
              "         [0.61960784, 0.51764706, 0.42352941],\n",
              "         [0.59607843, 0.49019608, 0.4       ],\n",
              "         [0.58039216, 0.48627451, 0.40392157]],\n",
              "\n",
              "        [[0.0627451 , 0.07843137, 0.07843137],\n",
              "         [0.        , 0.        , 0.        ],\n",
              "         [0.07058824, 0.03137255, 0.        ],\n",
              "         ...,\n",
              "         [0.48235294, 0.34509804, 0.21568627],\n",
              "         [0.46666667, 0.3254902 , 0.19607843],\n",
              "         [0.47843137, 0.34117647, 0.22352941]],\n",
              "\n",
              "        [[0.09803922, 0.09411765, 0.08235294],\n",
              "         [0.0627451 , 0.02745098, 0.        ],\n",
              "         [0.19215686, 0.10588235, 0.03137255],\n",
              "         ...,\n",
              "         [0.4627451 , 0.32941176, 0.19607843],\n",
              "         [0.47058824, 0.32941176, 0.19607843],\n",
              "         [0.42745098, 0.28627451, 0.16470588]],\n",
              "\n",
              "        ...,\n",
              "\n",
              "        [[0.81568627, 0.66666667, 0.37647059],\n",
              "         [0.78823529, 0.6       , 0.13333333],\n",
              "         [0.77647059, 0.63137255, 0.10196078],\n",
              "         ...,\n",
              "         [0.62745098, 0.52156863, 0.2745098 ],\n",
              "         [0.21960784, 0.12156863, 0.02745098],\n",
              "         [0.20784314, 0.13333333, 0.07843137]],\n",
              "\n",
              "        [[0.70588235, 0.54509804, 0.37647059],\n",
              "         [0.67843137, 0.48235294, 0.16470588],\n",
              "         [0.72941176, 0.56470588, 0.11764706],\n",
              "         ...,\n",
              "         [0.72156863, 0.58039216, 0.36862745],\n",
              "         [0.38039216, 0.24313725, 0.13333333],\n",
              "         [0.3254902 , 0.20784314, 0.13333333]],\n",
              "\n",
              "        [[0.69411765, 0.56470588, 0.45490196],\n",
              "         [0.65882353, 0.50588235, 0.36862745],\n",
              "         [0.70196078, 0.55686275, 0.34117647],\n",
              "         ...,\n",
              "         [0.84705882, 0.72156863, 0.54901961],\n",
              "         [0.59215686, 0.4627451 , 0.32941176],\n",
              "         [0.48235294, 0.36078431, 0.28235294]]],\n",
              "\n",
              "\n",
              "       [[[0.60392157, 0.69411765, 0.73333333],\n",
              "         [0.49411765, 0.5372549 , 0.53333333],\n",
              "         [0.41176471, 0.40784314, 0.37254902],\n",
              "         ...,\n",
              "         [0.35686275, 0.37254902, 0.27843137],\n",
              "         [0.34117647, 0.35294118, 0.27843137],\n",
              "         [0.30980392, 0.31764706, 0.2745098 ]],\n",
              "\n",
              "        [[0.54901961, 0.62745098, 0.6627451 ],\n",
              "         [0.56862745, 0.6       , 0.60392157],\n",
              "         [0.49019608, 0.49019608, 0.4627451 ],\n",
              "         ...,\n",
              "         [0.37647059, 0.38823529, 0.30588235],\n",
              "         [0.30196078, 0.31372549, 0.24313725],\n",
              "         [0.27843137, 0.28627451, 0.23921569]],\n",
              "\n",
              "        [[0.54901961, 0.60784314, 0.64313725],\n",
              "         [0.54509804, 0.57254902, 0.58431373],\n",
              "         [0.45098039, 0.45098039, 0.43921569],\n",
              "         ...,\n",
              "         [0.30980392, 0.32156863, 0.25098039],\n",
              "         [0.26666667, 0.2745098 , 0.21568627],\n",
              "         [0.2627451 , 0.27058824, 0.21568627]],\n",
              "\n",
              "        ...,\n",
              "\n",
              "        [[0.68627451, 0.65490196, 0.65098039],\n",
              "         [0.61176471, 0.60392157, 0.62745098],\n",
              "         [0.60392157, 0.62745098, 0.66666667],\n",
              "         ...,\n",
              "         [0.16470588, 0.13333333, 0.14117647],\n",
              "         [0.23921569, 0.20784314, 0.22352941],\n",
              "         [0.36470588, 0.3254902 , 0.35686275]],\n",
              "\n",
              "        [[0.64705882, 0.60392157, 0.50196078],\n",
              "         [0.61176471, 0.59607843, 0.50980392],\n",
              "         [0.62352941, 0.63137255, 0.55686275],\n",
              "         ...,\n",
              "         [0.40392157, 0.36470588, 0.37647059],\n",
              "         [0.48235294, 0.44705882, 0.47058824],\n",
              "         [0.51372549, 0.4745098 , 0.51372549]],\n",
              "\n",
              "        [[0.63921569, 0.58039216, 0.47058824],\n",
              "         [0.61960784, 0.58039216, 0.47843137],\n",
              "         [0.63921569, 0.61176471, 0.52156863],\n",
              "         ...,\n",
              "         [0.56078431, 0.52156863, 0.54509804],\n",
              "         [0.56078431, 0.5254902 , 0.55686275],\n",
              "         [0.56078431, 0.52156863, 0.56470588]]],\n",
              "\n",
              "\n",
              "       [[[1.        , 1.        , 1.        ],\n",
              "         [0.99215686, 0.99215686, 0.99215686],\n",
              "         [0.99215686, 0.99215686, 0.99215686],\n",
              "         ...,\n",
              "         [0.99215686, 0.99215686, 0.99215686],\n",
              "         [0.99215686, 0.99215686, 0.99215686],\n",
              "         [0.99215686, 0.99215686, 0.99215686]],\n",
              "\n",
              "        [[1.        , 1.        , 1.        ],\n",
              "         [1.        , 1.        , 1.        ],\n",
              "         [1.        , 1.        , 1.        ],\n",
              "         ...,\n",
              "         [1.        , 1.        , 1.        ],\n",
              "         [1.        , 1.        , 1.        ],\n",
              "         [1.        , 1.        , 1.        ]],\n",
              "\n",
              "        [[1.        , 1.        , 1.        ],\n",
              "         [0.99607843, 0.99607843, 0.99607843],\n",
              "         [0.99607843, 0.99607843, 0.99607843],\n",
              "         ...,\n",
              "         [0.99607843, 0.99607843, 0.99607843],\n",
              "         [0.99607843, 0.99607843, 0.99607843],\n",
              "         [0.99607843, 0.99607843, 0.99607843]],\n",
              "\n",
              "        ...,\n",
              "\n",
              "        [[0.44313725, 0.47058824, 0.43921569],\n",
              "         [0.43529412, 0.4627451 , 0.43529412],\n",
              "         [0.41176471, 0.43921569, 0.41568627],\n",
              "         ...,\n",
              "         [0.28235294, 0.31764706, 0.31372549],\n",
              "         [0.28235294, 0.31372549, 0.30980392],\n",
              "         [0.28235294, 0.31372549, 0.30980392]],\n",
              "\n",
              "        [[0.43529412, 0.4627451 , 0.43137255],\n",
              "         [0.40784314, 0.43529412, 0.40784314],\n",
              "         [0.38823529, 0.41568627, 0.38431373],\n",
              "         ...,\n",
              "         [0.26666667, 0.29411765, 0.28627451],\n",
              "         [0.2745098 , 0.29803922, 0.29411765],\n",
              "         [0.30588235, 0.32941176, 0.32156863]],\n",
              "\n",
              "        [[0.41568627, 0.44313725, 0.41176471],\n",
              "         [0.38823529, 0.41568627, 0.38431373],\n",
              "         [0.37254902, 0.4       , 0.36862745],\n",
              "         ...,\n",
              "         [0.30588235, 0.33333333, 0.3254902 ],\n",
              "         [0.30980392, 0.33333333, 0.3254902 ],\n",
              "         [0.31372549, 0.3372549 , 0.32941176]]],\n",
              "\n",
              "\n",
              "       ...,\n",
              "\n",
              "\n",
              "       [[[0.1372549 , 0.69803922, 0.92156863],\n",
              "         [0.15686275, 0.69019608, 0.9372549 ],\n",
              "         [0.16470588, 0.69019608, 0.94509804],\n",
              "         ...,\n",
              "         [0.38823529, 0.69411765, 0.85882353],\n",
              "         [0.30980392, 0.57647059, 0.77254902],\n",
              "         [0.34901961, 0.58039216, 0.74117647]],\n",
              "\n",
              "        [[0.22352941, 0.71372549, 0.91764706],\n",
              "         [0.17254902, 0.72156863, 0.98039216],\n",
              "         [0.19607843, 0.71764706, 0.94117647],\n",
              "         ...,\n",
              "         [0.61176471, 0.71372549, 0.78431373],\n",
              "         [0.55294118, 0.69411765, 0.80784314],\n",
              "         [0.45490196, 0.58431373, 0.68627451]],\n",
              "\n",
              "        [[0.38431373, 0.77254902, 0.92941176],\n",
              "         [0.25098039, 0.74117647, 0.98823529],\n",
              "         [0.27058824, 0.75294118, 0.96078431],\n",
              "         ...,\n",
              "         [0.7372549 , 0.76470588, 0.80784314],\n",
              "         [0.46666667, 0.52941176, 0.57647059],\n",
              "         [0.23921569, 0.30980392, 0.35294118]],\n",
              "\n",
              "        ...,\n",
              "\n",
              "        [[0.28627451, 0.30980392, 0.30196078],\n",
              "         [0.20784314, 0.24705882, 0.26666667],\n",
              "         [0.21176471, 0.26666667, 0.31372549],\n",
              "         ...,\n",
              "         [0.06666667, 0.15686275, 0.25098039],\n",
              "         [0.08235294, 0.14117647, 0.2       ],\n",
              "         [0.12941176, 0.18823529, 0.19215686]],\n",
              "\n",
              "        [[0.23921569, 0.26666667, 0.29411765],\n",
              "         [0.21568627, 0.2745098 , 0.3372549 ],\n",
              "         [0.22352941, 0.30980392, 0.40392157],\n",
              "         ...,\n",
              "         [0.09411765, 0.18823529, 0.28235294],\n",
              "         [0.06666667, 0.1372549 , 0.20784314],\n",
              "         [0.02745098, 0.09019608, 0.1254902 ]],\n",
              "\n",
              "        [[0.17254902, 0.21960784, 0.28627451],\n",
              "         [0.18039216, 0.25882353, 0.34509804],\n",
              "         [0.19215686, 0.30196078, 0.41176471],\n",
              "         ...,\n",
              "         [0.10588235, 0.20392157, 0.30196078],\n",
              "         [0.08235294, 0.16862745, 0.25882353],\n",
              "         [0.04705882, 0.12156863, 0.19607843]]],\n",
              "\n",
              "\n",
              "       [[[0.74117647, 0.82745098, 0.94117647],\n",
              "         [0.72941176, 0.81568627, 0.9254902 ],\n",
              "         [0.7254902 , 0.81176471, 0.92156863],\n",
              "         ...,\n",
              "         [0.68627451, 0.76470588, 0.87843137],\n",
              "         [0.6745098 , 0.76078431, 0.87058824],\n",
              "         [0.6627451 , 0.76078431, 0.8627451 ]],\n",
              "\n",
              "        [[0.76078431, 0.82352941, 0.9372549 ],\n",
              "         [0.74901961, 0.81176471, 0.9254902 ],\n",
              "         [0.74509804, 0.80784314, 0.92156863],\n",
              "         ...,\n",
              "         [0.67843137, 0.75294118, 0.8627451 ],\n",
              "         [0.67058824, 0.74901961, 0.85490196],\n",
              "         [0.65490196, 0.74509804, 0.84705882]],\n",
              "\n",
              "        [[0.81568627, 0.85882353, 0.95686275],\n",
              "         [0.80392157, 0.84705882, 0.94117647],\n",
              "         [0.8       , 0.84313725, 0.9372549 ],\n",
              "         ...,\n",
              "         [0.68627451, 0.74901961, 0.85098039],\n",
              "         [0.6745098 , 0.74509804, 0.84705882],\n",
              "         [0.6627451 , 0.74901961, 0.84313725]],\n",
              "\n",
              "        ...,\n",
              "\n",
              "        [[0.81176471, 0.78039216, 0.70980392],\n",
              "         [0.79607843, 0.76470588, 0.68627451],\n",
              "         [0.79607843, 0.76862745, 0.67843137],\n",
              "         ...,\n",
              "         [0.52941176, 0.51764706, 0.49803922],\n",
              "         [0.63529412, 0.61960784, 0.58823529],\n",
              "         [0.65882353, 0.63921569, 0.59215686]],\n",
              "\n",
              "        [[0.77647059, 0.74509804, 0.66666667],\n",
              "         [0.74117647, 0.70980392, 0.62352941],\n",
              "         [0.70588235, 0.6745098 , 0.57647059],\n",
              "         ...,\n",
              "         [0.69803922, 0.67058824, 0.62745098],\n",
              "         [0.68627451, 0.6627451 , 0.61176471],\n",
              "         [0.68627451, 0.6627451 , 0.60392157]],\n",
              "\n",
              "        [[0.77647059, 0.74117647, 0.67843137],\n",
              "         [0.74117647, 0.70980392, 0.63529412],\n",
              "         [0.69803922, 0.66666667, 0.58431373],\n",
              "         ...,\n",
              "         [0.76470588, 0.72156863, 0.6627451 ],\n",
              "         [0.76862745, 0.74117647, 0.67058824],\n",
              "         [0.76470588, 0.74509804, 0.67058824]]],\n",
              "\n",
              "\n",
              "       [[[0.89803922, 0.89803922, 0.9372549 ],\n",
              "         [0.9254902 , 0.92941176, 0.96862745],\n",
              "         [0.91764706, 0.9254902 , 0.96862745],\n",
              "         ...,\n",
              "         [0.85098039, 0.85882353, 0.91372549],\n",
              "         [0.86666667, 0.8745098 , 0.91764706],\n",
              "         [0.87058824, 0.8745098 , 0.91372549]],\n",
              "\n",
              "        [[0.87058824, 0.86666667, 0.89803922],\n",
              "         [0.9372549 , 0.9372549 , 0.97647059],\n",
              "         [0.91372549, 0.91764706, 0.96470588],\n",
              "         ...,\n",
              "         [0.8745098 , 0.8745098 , 0.9254902 ],\n",
              "         [0.89019608, 0.89411765, 0.93333333],\n",
              "         [0.82352941, 0.82745098, 0.8627451 ]],\n",
              "\n",
              "        [[0.83529412, 0.80784314, 0.82745098],\n",
              "         [0.91764706, 0.90980392, 0.9372549 ],\n",
              "         [0.90588235, 0.91372549, 0.95686275],\n",
              "         ...,\n",
              "         [0.8627451 , 0.8627451 , 0.90980392],\n",
              "         [0.8627451 , 0.85882353, 0.90980392],\n",
              "         [0.79215686, 0.79607843, 0.84313725]],\n",
              "\n",
              "        ...,\n",
              "\n",
              "        [[0.58823529, 0.56078431, 0.52941176],\n",
              "         [0.54901961, 0.52941176, 0.49803922],\n",
              "         [0.51764706, 0.49803922, 0.47058824],\n",
              "         ...,\n",
              "         [0.87843137, 0.87058824, 0.85490196],\n",
              "         [0.90196078, 0.89411765, 0.88235294],\n",
              "         [0.94509804, 0.94509804, 0.93333333]],\n",
              "\n",
              "        [[0.5372549 , 0.51764706, 0.49411765],\n",
              "         [0.50980392, 0.49803922, 0.47058824],\n",
              "         [0.49019608, 0.4745098 , 0.45098039],\n",
              "         ...,\n",
              "         [0.70980392, 0.70588235, 0.69803922],\n",
              "         [0.79215686, 0.78823529, 0.77647059],\n",
              "         [0.83137255, 0.82745098, 0.81176471]],\n",
              "\n",
              "        [[0.47843137, 0.46666667, 0.44705882],\n",
              "         [0.4627451 , 0.45490196, 0.43137255],\n",
              "         [0.47058824, 0.45490196, 0.43529412],\n",
              "         ...,\n",
              "         [0.70196078, 0.69411765, 0.67843137],\n",
              "         [0.64313725, 0.64313725, 0.63529412],\n",
              "         [0.63921569, 0.63921569, 0.63137255]]]])"
            ]
          },
          "metadata": {},
          "execution_count": 69
        }
      ]
    },
    {
      "cell_type": "markdown",
      "metadata": {
        "id": "zudoDVWYkRz8"
      },
      "source": [
        "## One Hot Encoding for y feature"
      ]
    },
    {
      "cell_type": "code",
      "metadata": {
        "id": "KE5QsbEWkVbH"
      },
      "source": [
        "from keras.utils import np_utils\n",
        "from tensorflow.keras.utils import to_categorical"
      ],
      "execution_count": 70,
      "outputs": []
    },
    {
      "cell_type": "code",
      "metadata": {
        "colab": {
          "base_uri": "https://localhost:8080/"
        },
        "id": "3KQr-WOekn6D",
        "outputId": "76a8c59c-2d5b-47f6-8846-4b0057dc8555"
      },
      "source": [
        "y_train.shape, y_test.shape"
      ],
      "execution_count": 71,
      "outputs": [
        {
          "output_type": "execute_result",
          "data": {
            "text/plain": [
              "((50000, 1), (10000, 1))"
            ]
          },
          "metadata": {},
          "execution_count": 71
        }
      ]
    },
    {
      "cell_type": "code",
      "metadata": {
        "id": "7ABTGbYVk9E4"
      },
      "source": [
        "num_class=len(np.unique(y_train))"
      ],
      "execution_count": 72,
      "outputs": []
    },
    {
      "cell_type": "code",
      "metadata": {
        "colab": {
          "base_uri": "https://localhost:8080/"
        },
        "id": "qIlfqxHtlWHi",
        "outputId": "6cb049d1-424b-45f4-cf74-5c55eed85a9d"
      },
      "source": [
        "y_train=to_categorical(y_train, num_class)\n",
        "y_test=to_categorical(y_test, num_class)\n",
        "\n",
        "y_train.shape, y_test.shape"
      ],
      "execution_count": 73,
      "outputs": [
        {
          "output_type": "execute_result",
          "data": {
            "text/plain": [
              "((50000, 10), (10000, 10))"
            ]
          },
          "metadata": {},
          "execution_count": 73
        }
      ]
    },
    {
      "cell_type": "markdown",
      "metadata": {
        "id": "iLDVqIGRlteZ"
      },
      "source": [
        "## Splitting the training data into training and validation"
      ]
    },
    {
      "cell_type": "code",
      "metadata": {
        "colab": {
          "base_uri": "https://localhost:8080/"
        },
        "id": "wSLHMoael-aM",
        "outputId": "11f88290-9474-40a5-b880-6d0a3c84470c"
      },
      "source": [
        "x_valid=x_train[40000:]\n",
        "y_valid=y_train[40000:]\n",
        "\n",
        "x_train=x_train[:40000]\n",
        "y_train=y_train[:40000]\n",
        "\n",
        "x_train.shape, x_valid.shape, x_test.shape"
      ],
      "execution_count": 74,
      "outputs": [
        {
          "output_type": "execute_result",
          "data": {
            "text/plain": [
              "((40000, 32, 32, 3), (10000, 32, 32, 3), (10000, 32, 32, 3))"
            ]
          },
          "metadata": {},
          "execution_count": 74
        }
      ]
    },
    {
      "cell_type": "code",
      "metadata": {
        "colab": {
          "base_uri": "https://localhost:8080/"
        },
        "id": "EahV4IVNmeon",
        "outputId": "94f32bd1-7f7e-452b-ec54-492b8a5d8b3b"
      },
      "source": [
        "y_train.shape, y_valid.shape, y_test.shape"
      ],
      "execution_count": 75,
      "outputs": [
        {
          "output_type": "execute_result",
          "data": {
            "text/plain": [
              "((40000, 10), (10000, 10), (10000, 10))"
            ]
          },
          "metadata": {},
          "execution_count": 75
        }
      ]
    },
    {
      "cell_type": "markdown",
      "metadata": {
        "id": "zHj8cNOJo7Lu"
      },
      "source": [
        "## Transfer Learning - Resnet50"
      ]
    },
    {
      "cell_type": "code",
      "metadata": {
        "id": "gj9nYEIKo9_R"
      },
      "source": [
        "from keras.models import Model, load_model\n",
        "from tensorflow.keras.applications.resnet50 import preprocess_input\n",
        "from keras.layers import GlobalAveragePooling2D, Dropout"
      ],
      "execution_count": 76,
      "outputs": []
    },
    {
      "cell_type": "code",
      "metadata": {
        "id": "nMen6RYjpmGd",
        "colab": {
          "base_uri": "https://localhost:8080/"
        },
        "outputId": "40ddfa4b-4eba-4690-ca00-18de5be143da"
      },
      "source": [
        "# Import resnet as the base model\n",
        "base_model=tf.keras.applications.ResNet50(include_top=False, weights='imagenet')\n",
        "''\n",
        "# Use resnet model only for feature extraction and not for learning; we will freeze all the layers that we don't need\n",
        "for layer in base_model.layers:\n",
        "  layer.trainable=False\n",
        "\n",
        "# Take the output of the base layers\n",
        "base_model_output=base_model.output\n",
        "\n",
        "# Add our own layers\n",
        "\n",
        "## Pool layer\n",
        "x=GlobalAveragePooling2D()(base_model_output)\n",
        "\n",
        "## Flatten layer\n",
        "x=Flatten()(x)\n",
        "\n",
        "## FC layer\n",
        "x=Dense(5000, activation='relu')(x)\n",
        "\n",
        "## Dropout layer\n",
        "x=Dropout(0.3)(x)\n",
        "\n",
        "## Outer layer\n",
        "x=Dense(10, activation='softmax')(x)"
      ],
      "execution_count": 77,
      "outputs": [
        {
          "output_type": "stream",
          "name": "stdout",
          "text": [
            "Downloading data from https://storage.googleapis.com/tensorflow/keras-applications/resnet/resnet50_weights_tf_dim_ordering_tf_kernels_notop.h5\n",
            "94773248/94765736 [==============================] - 1s 0us/step\n",
            "94781440/94765736 [==============================] - 1s 0us/step\n"
          ]
        }
      ]
    },
    {
      "cell_type": "code",
      "metadata": {
        "colab": {
          "base_uri": "https://localhost:8080/"
        },
        "id": "pDxZGuxPlyMM",
        "outputId": "9bacf738-0340-49b0-bb29-9c1370c51bdf"
      },
      "source": [
        "# Initializing the resnet model\n",
        "\n",
        "resnet_model=Model(inputs=base_model.input, outputs=x)\n",
        "\n",
        "resnet_model.summary()"
      ],
      "execution_count": 78,
      "outputs": [
        {
          "output_type": "stream",
          "name": "stdout",
          "text": [
            "Model: \"model_2\"\n",
            "__________________________________________________________________________________________________\n",
            " Layer (type)                   Output Shape         Param #     Connected to                     \n",
            "==================================================================================================\n",
            " input_7 (InputLayer)           [(None, None, None,  0           []                               \n",
            "                                 3)]                                                              \n",
            "                                                                                                  \n",
            " conv1_pad (ZeroPadding2D)      (None, None, None,   0           ['input_7[0][0]']                \n",
            "                                3)                                                                \n",
            "                                                                                                  \n",
            " conv1_conv (Conv2D)            (None, None, None,   9472        ['conv1_pad[0][0]']              \n",
            "                                64)                                                               \n",
            "                                                                                                  \n",
            " conv1_bn (BatchNormalization)  (None, None, None,   256         ['conv1_conv[0][0]']             \n",
            "                                64)                                                               \n",
            "                                                                                                  \n",
            " conv1_relu (Activation)        (None, None, None,   0           ['conv1_bn[0][0]']               \n",
            "                                64)                                                               \n",
            "                                                                                                  \n",
            " pool1_pad (ZeroPadding2D)      (None, None, None,   0           ['conv1_relu[0][0]']             \n",
            "                                64)                                                               \n",
            "                                                                                                  \n",
            " pool1_pool (MaxPooling2D)      (None, None, None,   0           ['pool1_pad[0][0]']              \n",
            "                                64)                                                               \n",
            "                                                                                                  \n",
            " conv2_block1_1_conv (Conv2D)   (None, None, None,   4160        ['pool1_pool[0][0]']             \n",
            "                                64)                                                               \n",
            "                                                                                                  \n",
            " conv2_block1_1_bn (BatchNormal  (None, None, None,   256        ['conv2_block1_1_conv[0][0]']    \n",
            " ization)                       64)                                                               \n",
            "                                                                                                  \n",
            " conv2_block1_1_relu (Activatio  (None, None, None,   0          ['conv2_block1_1_bn[0][0]']      \n",
            " n)                             64)                                                               \n",
            "                                                                                                  \n",
            " conv2_block1_2_conv (Conv2D)   (None, None, None,   36928       ['conv2_block1_1_relu[0][0]']    \n",
            "                                64)                                                               \n",
            "                                                                                                  \n",
            " conv2_block1_2_bn (BatchNormal  (None, None, None,   256        ['conv2_block1_2_conv[0][0]']    \n",
            " ization)                       64)                                                               \n",
            "                                                                                                  \n",
            " conv2_block1_2_relu (Activatio  (None, None, None,   0          ['conv2_block1_2_bn[0][0]']      \n",
            " n)                             64)                                                               \n",
            "                                                                                                  \n",
            " conv2_block1_0_conv (Conv2D)   (None, None, None,   16640       ['pool1_pool[0][0]']             \n",
            "                                256)                                                              \n",
            "                                                                                                  \n",
            " conv2_block1_3_conv (Conv2D)   (None, None, None,   16640       ['conv2_block1_2_relu[0][0]']    \n",
            "                                256)                                                              \n",
            "                                                                                                  \n",
            " conv2_block1_0_bn (BatchNormal  (None, None, None,   1024       ['conv2_block1_0_conv[0][0]']    \n",
            " ization)                       256)                                                              \n",
            "                                                                                                  \n",
            " conv2_block1_3_bn (BatchNormal  (None, None, None,   1024       ['conv2_block1_3_conv[0][0]']    \n",
            " ization)                       256)                                                              \n",
            "                                                                                                  \n",
            " conv2_block1_add (Add)         (None, None, None,   0           ['conv2_block1_0_bn[0][0]',      \n",
            "                                256)                              'conv2_block1_3_bn[0][0]']      \n",
            "                                                                                                  \n",
            " conv2_block1_out (Activation)  (None, None, None,   0           ['conv2_block1_add[0][0]']       \n",
            "                                256)                                                              \n",
            "                                                                                                  \n",
            " conv2_block2_1_conv (Conv2D)   (None, None, None,   16448       ['conv2_block1_out[0][0]']       \n",
            "                                64)                                                               \n",
            "                                                                                                  \n",
            " conv2_block2_1_bn (BatchNormal  (None, None, None,   256        ['conv2_block2_1_conv[0][0]']    \n",
            " ization)                       64)                                                               \n",
            "                                                                                                  \n",
            " conv2_block2_1_relu (Activatio  (None, None, None,   0          ['conv2_block2_1_bn[0][0]']      \n",
            " n)                             64)                                                               \n",
            "                                                                                                  \n",
            " conv2_block2_2_conv (Conv2D)   (None, None, None,   36928       ['conv2_block2_1_relu[0][0]']    \n",
            "                                64)                                                               \n",
            "                                                                                                  \n",
            " conv2_block2_2_bn (BatchNormal  (None, None, None,   256        ['conv2_block2_2_conv[0][0]']    \n",
            " ization)                       64)                                                               \n",
            "                                                                                                  \n",
            " conv2_block2_2_relu (Activatio  (None, None, None,   0          ['conv2_block2_2_bn[0][0]']      \n",
            " n)                             64)                                                               \n",
            "                                                                                                  \n",
            " conv2_block2_3_conv (Conv2D)   (None, None, None,   16640       ['conv2_block2_2_relu[0][0]']    \n",
            "                                256)                                                              \n",
            "                                                                                                  \n",
            " conv2_block2_3_bn (BatchNormal  (None, None, None,   1024       ['conv2_block2_3_conv[0][0]']    \n",
            " ization)                       256)                                                              \n",
            "                                                                                                  \n",
            " conv2_block2_add (Add)         (None, None, None,   0           ['conv2_block1_out[0][0]',       \n",
            "                                256)                              'conv2_block2_3_bn[0][0]']      \n",
            "                                                                                                  \n",
            " conv2_block2_out (Activation)  (None, None, None,   0           ['conv2_block2_add[0][0]']       \n",
            "                                256)                                                              \n",
            "                                                                                                  \n",
            " conv2_block3_1_conv (Conv2D)   (None, None, None,   16448       ['conv2_block2_out[0][0]']       \n",
            "                                64)                                                               \n",
            "                                                                                                  \n",
            " conv2_block3_1_bn (BatchNormal  (None, None, None,   256        ['conv2_block3_1_conv[0][0]']    \n",
            " ization)                       64)                                                               \n",
            "                                                                                                  \n",
            " conv2_block3_1_relu (Activatio  (None, None, None,   0          ['conv2_block3_1_bn[0][0]']      \n",
            " n)                             64)                                                               \n",
            "                                                                                                  \n",
            " conv2_block3_2_conv (Conv2D)   (None, None, None,   36928       ['conv2_block3_1_relu[0][0]']    \n",
            "                                64)                                                               \n",
            "                                                                                                  \n",
            " conv2_block3_2_bn (BatchNormal  (None, None, None,   256        ['conv2_block3_2_conv[0][0]']    \n",
            " ization)                       64)                                                               \n",
            "                                                                                                  \n",
            " conv2_block3_2_relu (Activatio  (None, None, None,   0          ['conv2_block3_2_bn[0][0]']      \n",
            " n)                             64)                                                               \n",
            "                                                                                                  \n",
            " conv2_block3_3_conv (Conv2D)   (None, None, None,   16640       ['conv2_block3_2_relu[0][0]']    \n",
            "                                256)                                                              \n",
            "                                                                                                  \n",
            " conv2_block3_3_bn (BatchNormal  (None, None, None,   1024       ['conv2_block3_3_conv[0][0]']    \n",
            " ization)                       256)                                                              \n",
            "                                                                                                  \n",
            " conv2_block3_add (Add)         (None, None, None,   0           ['conv2_block2_out[0][0]',       \n",
            "                                256)                              'conv2_block3_3_bn[0][0]']      \n",
            "                                                                                                  \n",
            " conv2_block3_out (Activation)  (None, None, None,   0           ['conv2_block3_add[0][0]']       \n",
            "                                256)                                                              \n",
            "                                                                                                  \n",
            " conv3_block1_1_conv (Conv2D)   (None, None, None,   32896       ['conv2_block3_out[0][0]']       \n",
            "                                128)                                                              \n",
            "                                                                                                  \n",
            " conv3_block1_1_bn (BatchNormal  (None, None, None,   512        ['conv3_block1_1_conv[0][0]']    \n",
            " ization)                       128)                                                              \n",
            "                                                                                                  \n",
            " conv3_block1_1_relu (Activatio  (None, None, None,   0          ['conv3_block1_1_bn[0][0]']      \n",
            " n)                             128)                                                              \n",
            "                                                                                                  \n",
            " conv3_block1_2_conv (Conv2D)   (None, None, None,   147584      ['conv3_block1_1_relu[0][0]']    \n",
            "                                128)                                                              \n",
            "                                                                                                  \n",
            " conv3_block1_2_bn (BatchNormal  (None, None, None,   512        ['conv3_block1_2_conv[0][0]']    \n",
            " ization)                       128)                                                              \n",
            "                                                                                                  \n",
            " conv3_block1_2_relu (Activatio  (None, None, None,   0          ['conv3_block1_2_bn[0][0]']      \n",
            " n)                             128)                                                              \n",
            "                                                                                                  \n",
            " conv3_block1_0_conv (Conv2D)   (None, None, None,   131584      ['conv2_block3_out[0][0]']       \n",
            "                                512)                                                              \n",
            "                                                                                                  \n",
            " conv3_block1_3_conv (Conv2D)   (None, None, None,   66048       ['conv3_block1_2_relu[0][0]']    \n",
            "                                512)                                                              \n",
            "                                                                                                  \n",
            " conv3_block1_0_bn (BatchNormal  (None, None, None,   2048       ['conv3_block1_0_conv[0][0]']    \n",
            " ization)                       512)                                                              \n",
            "                                                                                                  \n",
            " conv3_block1_3_bn (BatchNormal  (None, None, None,   2048       ['conv3_block1_3_conv[0][0]']    \n",
            " ization)                       512)                                                              \n",
            "                                                                                                  \n",
            " conv3_block1_add (Add)         (None, None, None,   0           ['conv3_block1_0_bn[0][0]',      \n",
            "                                512)                              'conv3_block1_3_bn[0][0]']      \n",
            "                                                                                                  \n",
            " conv3_block1_out (Activation)  (None, None, None,   0           ['conv3_block1_add[0][0]']       \n",
            "                                512)                                                              \n",
            "                                                                                                  \n",
            " conv3_block2_1_conv (Conv2D)   (None, None, None,   65664       ['conv3_block1_out[0][0]']       \n",
            "                                128)                                                              \n",
            "                                                                                                  \n",
            " conv3_block2_1_bn (BatchNormal  (None, None, None,   512        ['conv3_block2_1_conv[0][0]']    \n",
            " ization)                       128)                                                              \n",
            "                                                                                                  \n",
            " conv3_block2_1_relu (Activatio  (None, None, None,   0          ['conv3_block2_1_bn[0][0]']      \n",
            " n)                             128)                                                              \n",
            "                                                                                                  \n",
            " conv3_block2_2_conv (Conv2D)   (None, None, None,   147584      ['conv3_block2_1_relu[0][0]']    \n",
            "                                128)                                                              \n",
            "                                                                                                  \n",
            " conv3_block2_2_bn (BatchNormal  (None, None, None,   512        ['conv3_block2_2_conv[0][0]']    \n",
            " ization)                       128)                                                              \n",
            "                                                                                                  \n",
            " conv3_block2_2_relu (Activatio  (None, None, None,   0          ['conv3_block2_2_bn[0][0]']      \n",
            " n)                             128)                                                              \n",
            "                                                                                                  \n",
            " conv3_block2_3_conv (Conv2D)   (None, None, None,   66048       ['conv3_block2_2_relu[0][0]']    \n",
            "                                512)                                                              \n",
            "                                                                                                  \n",
            " conv3_block2_3_bn (BatchNormal  (None, None, None,   2048       ['conv3_block2_3_conv[0][0]']    \n",
            " ization)                       512)                                                              \n",
            "                                                                                                  \n",
            " conv3_block2_add (Add)         (None, None, None,   0           ['conv3_block1_out[0][0]',       \n",
            "                                512)                              'conv3_block2_3_bn[0][0]']      \n",
            "                                                                                                  \n",
            " conv3_block2_out (Activation)  (None, None, None,   0           ['conv3_block2_add[0][0]']       \n",
            "                                512)                                                              \n",
            "                                                                                                  \n",
            " conv3_block3_1_conv (Conv2D)   (None, None, None,   65664       ['conv3_block2_out[0][0]']       \n",
            "                                128)                                                              \n",
            "                                                                                                  \n",
            " conv3_block3_1_bn (BatchNormal  (None, None, None,   512        ['conv3_block3_1_conv[0][0]']    \n",
            " ization)                       128)                                                              \n",
            "                                                                                                  \n",
            " conv3_block3_1_relu (Activatio  (None, None, None,   0          ['conv3_block3_1_bn[0][0]']      \n",
            " n)                             128)                                                              \n",
            "                                                                                                  \n",
            " conv3_block3_2_conv (Conv2D)   (None, None, None,   147584      ['conv3_block3_1_relu[0][0]']    \n",
            "                                128)                                                              \n",
            "                                                                                                  \n",
            " conv3_block3_2_bn (BatchNormal  (None, None, None,   512        ['conv3_block3_2_conv[0][0]']    \n",
            " ization)                       128)                                                              \n",
            "                                                                                                  \n",
            " conv3_block3_2_relu (Activatio  (None, None, None,   0          ['conv3_block3_2_bn[0][0]']      \n",
            " n)                             128)                                                              \n",
            "                                                                                                  \n",
            " conv3_block3_3_conv (Conv2D)   (None, None, None,   66048       ['conv3_block3_2_relu[0][0]']    \n",
            "                                512)                                                              \n",
            "                                                                                                  \n",
            " conv3_block3_3_bn (BatchNormal  (None, None, None,   2048       ['conv3_block3_3_conv[0][0]']    \n",
            " ization)                       512)                                                              \n",
            "                                                                                                  \n",
            " conv3_block3_add (Add)         (None, None, None,   0           ['conv3_block2_out[0][0]',       \n",
            "                                512)                              'conv3_block3_3_bn[0][0]']      \n",
            "                                                                                                  \n",
            " conv3_block3_out (Activation)  (None, None, None,   0           ['conv3_block3_add[0][0]']       \n",
            "                                512)                                                              \n",
            "                                                                                                  \n",
            " conv3_block4_1_conv (Conv2D)   (None, None, None,   65664       ['conv3_block3_out[0][0]']       \n",
            "                                128)                                                              \n",
            "                                                                                                  \n",
            " conv3_block4_1_bn (BatchNormal  (None, None, None,   512        ['conv3_block4_1_conv[0][0]']    \n",
            " ization)                       128)                                                              \n",
            "                                                                                                  \n",
            " conv3_block4_1_relu (Activatio  (None, None, None,   0          ['conv3_block4_1_bn[0][0]']      \n",
            " n)                             128)                                                              \n",
            "                                                                                                  \n",
            " conv3_block4_2_conv (Conv2D)   (None, None, None,   147584      ['conv3_block4_1_relu[0][0]']    \n",
            "                                128)                                                              \n",
            "                                                                                                  \n",
            " conv3_block4_2_bn (BatchNormal  (None, None, None,   512        ['conv3_block4_2_conv[0][0]']    \n",
            " ization)                       128)                                                              \n",
            "                                                                                                  \n",
            " conv3_block4_2_relu (Activatio  (None, None, None,   0          ['conv3_block4_2_bn[0][0]']      \n",
            " n)                             128)                                                              \n",
            "                                                                                                  \n",
            " conv3_block4_3_conv (Conv2D)   (None, None, None,   66048       ['conv3_block4_2_relu[0][0]']    \n",
            "                                512)                                                              \n",
            "                                                                                                  \n",
            " conv3_block4_3_bn (BatchNormal  (None, None, None,   2048       ['conv3_block4_3_conv[0][0]']    \n",
            " ization)                       512)                                                              \n",
            "                                                                                                  \n",
            " conv3_block4_add (Add)         (None, None, None,   0           ['conv3_block3_out[0][0]',       \n",
            "                                512)                              'conv3_block4_3_bn[0][0]']      \n",
            "                                                                                                  \n",
            " conv3_block4_out (Activation)  (None, None, None,   0           ['conv3_block4_add[0][0]']       \n",
            "                                512)                                                              \n",
            "                                                                                                  \n",
            " conv4_block1_1_conv (Conv2D)   (None, None, None,   131328      ['conv3_block4_out[0][0]']       \n",
            "                                256)                                                              \n",
            "                                                                                                  \n",
            " conv4_block1_1_bn (BatchNormal  (None, None, None,   1024       ['conv4_block1_1_conv[0][0]']    \n",
            " ization)                       256)                                                              \n",
            "                                                                                                  \n",
            " conv4_block1_1_relu (Activatio  (None, None, None,   0          ['conv4_block1_1_bn[0][0]']      \n",
            " n)                             256)                                                              \n",
            "                                                                                                  \n",
            " conv4_block1_2_conv (Conv2D)   (None, None, None,   590080      ['conv4_block1_1_relu[0][0]']    \n",
            "                                256)                                                              \n",
            "                                                                                                  \n",
            " conv4_block1_2_bn (BatchNormal  (None, None, None,   1024       ['conv4_block1_2_conv[0][0]']    \n",
            " ization)                       256)                                                              \n",
            "                                                                                                  \n",
            " conv4_block1_2_relu (Activatio  (None, None, None,   0          ['conv4_block1_2_bn[0][0]']      \n",
            " n)                             256)                                                              \n",
            "                                                                                                  \n",
            " conv4_block1_0_conv (Conv2D)   (None, None, None,   525312      ['conv3_block4_out[0][0]']       \n",
            "                                1024)                                                             \n",
            "                                                                                                  \n",
            " conv4_block1_3_conv (Conv2D)   (None, None, None,   263168      ['conv4_block1_2_relu[0][0]']    \n",
            "                                1024)                                                             \n",
            "                                                                                                  \n",
            " conv4_block1_0_bn (BatchNormal  (None, None, None,   4096       ['conv4_block1_0_conv[0][0]']    \n",
            " ization)                       1024)                                                             \n",
            "                                                                                                  \n",
            " conv4_block1_3_bn (BatchNormal  (None, None, None,   4096       ['conv4_block1_3_conv[0][0]']    \n",
            " ization)                       1024)                                                             \n",
            "                                                                                                  \n",
            " conv4_block1_add (Add)         (None, None, None,   0           ['conv4_block1_0_bn[0][0]',      \n",
            "                                1024)                             'conv4_block1_3_bn[0][0]']      \n",
            "                                                                                                  \n",
            " conv4_block1_out (Activation)  (None, None, None,   0           ['conv4_block1_add[0][0]']       \n",
            "                                1024)                                                             \n",
            "                                                                                                  \n",
            " conv4_block2_1_conv (Conv2D)   (None, None, None,   262400      ['conv4_block1_out[0][0]']       \n",
            "                                256)                                                              \n",
            "                                                                                                  \n",
            " conv4_block2_1_bn (BatchNormal  (None, None, None,   1024       ['conv4_block2_1_conv[0][0]']    \n",
            " ization)                       256)                                                              \n",
            "                                                                                                  \n",
            " conv4_block2_1_relu (Activatio  (None, None, None,   0          ['conv4_block2_1_bn[0][0]']      \n",
            " n)                             256)                                                              \n",
            "                                                                                                  \n",
            " conv4_block2_2_conv (Conv2D)   (None, None, None,   590080      ['conv4_block2_1_relu[0][0]']    \n",
            "                                256)                                                              \n",
            "                                                                                                  \n",
            " conv4_block2_2_bn (BatchNormal  (None, None, None,   1024       ['conv4_block2_2_conv[0][0]']    \n",
            " ization)                       256)                                                              \n",
            "                                                                                                  \n",
            " conv4_block2_2_relu (Activatio  (None, None, None,   0          ['conv4_block2_2_bn[0][0]']      \n",
            " n)                             256)                                                              \n",
            "                                                                                                  \n",
            " conv4_block2_3_conv (Conv2D)   (None, None, None,   263168      ['conv4_block2_2_relu[0][0]']    \n",
            "                                1024)                                                             \n",
            "                                                                                                  \n",
            " conv4_block2_3_bn (BatchNormal  (None, None, None,   4096       ['conv4_block2_3_conv[0][0]']    \n",
            " ization)                       1024)                                                             \n",
            "                                                                                                  \n",
            " conv4_block2_add (Add)         (None, None, None,   0           ['conv4_block1_out[0][0]',       \n",
            "                                1024)                             'conv4_block2_3_bn[0][0]']      \n",
            "                                                                                                  \n",
            " conv4_block2_out (Activation)  (None, None, None,   0           ['conv4_block2_add[0][0]']       \n",
            "                                1024)                                                             \n",
            "                                                                                                  \n",
            " conv4_block3_1_conv (Conv2D)   (None, None, None,   262400      ['conv4_block2_out[0][0]']       \n",
            "                                256)                                                              \n",
            "                                                                                                  \n",
            " conv4_block3_1_bn (BatchNormal  (None, None, None,   1024       ['conv4_block3_1_conv[0][0]']    \n",
            " ization)                       256)                                                              \n",
            "                                                                                                  \n",
            " conv4_block3_1_relu (Activatio  (None, None, None,   0          ['conv4_block3_1_bn[0][0]']      \n",
            " n)                             256)                                                              \n",
            "                                                                                                  \n",
            " conv4_block3_2_conv (Conv2D)   (None, None, None,   590080      ['conv4_block3_1_relu[0][0]']    \n",
            "                                256)                                                              \n",
            "                                                                                                  \n",
            " conv4_block3_2_bn (BatchNormal  (None, None, None,   1024       ['conv4_block3_2_conv[0][0]']    \n",
            " ization)                       256)                                                              \n",
            "                                                                                                  \n",
            " conv4_block3_2_relu (Activatio  (None, None, None,   0          ['conv4_block3_2_bn[0][0]']      \n",
            " n)                             256)                                                              \n",
            "                                                                                                  \n",
            " conv4_block3_3_conv (Conv2D)   (None, None, None,   263168      ['conv4_block3_2_relu[0][0]']    \n",
            "                                1024)                                                             \n",
            "                                                                                                  \n",
            " conv4_block3_3_bn (BatchNormal  (None, None, None,   4096       ['conv4_block3_3_conv[0][0]']    \n",
            " ization)                       1024)                                                             \n",
            "                                                                                                  \n",
            " conv4_block3_add (Add)         (None, None, None,   0           ['conv4_block2_out[0][0]',       \n",
            "                                1024)                             'conv4_block3_3_bn[0][0]']      \n",
            "                                                                                                  \n",
            " conv4_block3_out (Activation)  (None, None, None,   0           ['conv4_block3_add[0][0]']       \n",
            "                                1024)                                                             \n",
            "                                                                                                  \n",
            " conv4_block4_1_conv (Conv2D)   (None, None, None,   262400      ['conv4_block3_out[0][0]']       \n",
            "                                256)                                                              \n",
            "                                                                                                  \n",
            " conv4_block4_1_bn (BatchNormal  (None, None, None,   1024       ['conv4_block4_1_conv[0][0]']    \n",
            " ization)                       256)                                                              \n",
            "                                                                                                  \n",
            " conv4_block4_1_relu (Activatio  (None, None, None,   0          ['conv4_block4_1_bn[0][0]']      \n",
            " n)                             256)                                                              \n",
            "                                                                                                  \n",
            " conv4_block4_2_conv (Conv2D)   (None, None, None,   590080      ['conv4_block4_1_relu[0][0]']    \n",
            "                                256)                                                              \n",
            "                                                                                                  \n",
            " conv4_block4_2_bn (BatchNormal  (None, None, None,   1024       ['conv4_block4_2_conv[0][0]']    \n",
            " ization)                       256)                                                              \n",
            "                                                                                                  \n",
            " conv4_block4_2_relu (Activatio  (None, None, None,   0          ['conv4_block4_2_bn[0][0]']      \n",
            " n)                             256)                                                              \n",
            "                                                                                                  \n",
            " conv4_block4_3_conv (Conv2D)   (None, None, None,   263168      ['conv4_block4_2_relu[0][0]']    \n",
            "                                1024)                                                             \n",
            "                                                                                                  \n",
            " conv4_block4_3_bn (BatchNormal  (None, None, None,   4096       ['conv4_block4_3_conv[0][0]']    \n",
            " ization)                       1024)                                                             \n",
            "                                                                                                  \n",
            " conv4_block4_add (Add)         (None, None, None,   0           ['conv4_block3_out[0][0]',       \n",
            "                                1024)                             'conv4_block4_3_bn[0][0]']      \n",
            "                                                                                                  \n",
            " conv4_block4_out (Activation)  (None, None, None,   0           ['conv4_block4_add[0][0]']       \n",
            "                                1024)                                                             \n",
            "                                                                                                  \n",
            " conv4_block5_1_conv (Conv2D)   (None, None, None,   262400      ['conv4_block4_out[0][0]']       \n",
            "                                256)                                                              \n",
            "                                                                                                  \n",
            " conv4_block5_1_bn (BatchNormal  (None, None, None,   1024       ['conv4_block5_1_conv[0][0]']    \n",
            " ization)                       256)                                                              \n",
            "                                                                                                  \n",
            " conv4_block5_1_relu (Activatio  (None, None, None,   0          ['conv4_block5_1_bn[0][0]']      \n",
            " n)                             256)                                                              \n",
            "                                                                                                  \n",
            " conv4_block5_2_conv (Conv2D)   (None, None, None,   590080      ['conv4_block5_1_relu[0][0]']    \n",
            "                                256)                                                              \n",
            "                                                                                                  \n",
            " conv4_block5_2_bn (BatchNormal  (None, None, None,   1024       ['conv4_block5_2_conv[0][0]']    \n",
            " ization)                       256)                                                              \n",
            "                                                                                                  \n",
            " conv4_block5_2_relu (Activatio  (None, None, None,   0          ['conv4_block5_2_bn[0][0]']      \n",
            " n)                             256)                                                              \n",
            "                                                                                                  \n",
            " conv4_block5_3_conv (Conv2D)   (None, None, None,   263168      ['conv4_block5_2_relu[0][0]']    \n",
            "                                1024)                                                             \n",
            "                                                                                                  \n",
            " conv4_block5_3_bn (BatchNormal  (None, None, None,   4096       ['conv4_block5_3_conv[0][0]']    \n",
            " ization)                       1024)                                                             \n",
            "                                                                                                  \n",
            " conv4_block5_add (Add)         (None, None, None,   0           ['conv4_block4_out[0][0]',       \n",
            "                                1024)                             'conv4_block5_3_bn[0][0]']      \n",
            "                                                                                                  \n",
            " conv4_block5_out (Activation)  (None, None, None,   0           ['conv4_block5_add[0][0]']       \n",
            "                                1024)                                                             \n",
            "                                                                                                  \n",
            " conv4_block6_1_conv (Conv2D)   (None, None, None,   262400      ['conv4_block5_out[0][0]']       \n",
            "                                256)                                                              \n",
            "                                                                                                  \n",
            " conv4_block6_1_bn (BatchNormal  (None, None, None,   1024       ['conv4_block6_1_conv[0][0]']    \n",
            " ization)                       256)                                                              \n",
            "                                                                                                  \n",
            " conv4_block6_1_relu (Activatio  (None, None, None,   0          ['conv4_block6_1_bn[0][0]']      \n",
            " n)                             256)                                                              \n",
            "                                                                                                  \n",
            " conv4_block6_2_conv (Conv2D)   (None, None, None,   590080      ['conv4_block6_1_relu[0][0]']    \n",
            "                                256)                                                              \n",
            "                                                                                                  \n",
            " conv4_block6_2_bn (BatchNormal  (None, None, None,   1024       ['conv4_block6_2_conv[0][0]']    \n",
            " ization)                       256)                                                              \n",
            "                                                                                                  \n",
            " conv4_block6_2_relu (Activatio  (None, None, None,   0          ['conv4_block6_2_bn[0][0]']      \n",
            " n)                             256)                                                              \n",
            "                                                                                                  \n",
            " conv4_block6_3_conv (Conv2D)   (None, None, None,   263168      ['conv4_block6_2_relu[0][0]']    \n",
            "                                1024)                                                             \n",
            "                                                                                                  \n",
            " conv4_block6_3_bn (BatchNormal  (None, None, None,   4096       ['conv4_block6_3_conv[0][0]']    \n",
            " ization)                       1024)                                                             \n",
            "                                                                                                  \n",
            " conv4_block6_add (Add)         (None, None, None,   0           ['conv4_block5_out[0][0]',       \n",
            "                                1024)                             'conv4_block6_3_bn[0][0]']      \n",
            "                                                                                                  \n",
            " conv4_block6_out (Activation)  (None, None, None,   0           ['conv4_block6_add[0][0]']       \n",
            "                                1024)                                                             \n",
            "                                                                                                  \n",
            " conv5_block1_1_conv (Conv2D)   (None, None, None,   524800      ['conv4_block6_out[0][0]']       \n",
            "                                512)                                                              \n",
            "                                                                                                  \n",
            " conv5_block1_1_bn (BatchNormal  (None, None, None,   2048       ['conv5_block1_1_conv[0][0]']    \n",
            " ization)                       512)                                                              \n",
            "                                                                                                  \n",
            " conv5_block1_1_relu (Activatio  (None, None, None,   0          ['conv5_block1_1_bn[0][0]']      \n",
            " n)                             512)                                                              \n",
            "                                                                                                  \n",
            " conv5_block1_2_conv (Conv2D)   (None, None, None,   2359808     ['conv5_block1_1_relu[0][0]']    \n",
            "                                512)                                                              \n",
            "                                                                                                  \n",
            " conv5_block1_2_bn (BatchNormal  (None, None, None,   2048       ['conv5_block1_2_conv[0][0]']    \n",
            " ization)                       512)                                                              \n",
            "                                                                                                  \n",
            " conv5_block1_2_relu (Activatio  (None, None, None,   0          ['conv5_block1_2_bn[0][0]']      \n",
            " n)                             512)                                                              \n",
            "                                                                                                  \n",
            " conv5_block1_0_conv (Conv2D)   (None, None, None,   2099200     ['conv4_block6_out[0][0]']       \n",
            "                                2048)                                                             \n",
            "                                                                                                  \n",
            " conv5_block1_3_conv (Conv2D)   (None, None, None,   1050624     ['conv5_block1_2_relu[0][0]']    \n",
            "                                2048)                                                             \n",
            "                                                                                                  \n",
            " conv5_block1_0_bn (BatchNormal  (None, None, None,   8192       ['conv5_block1_0_conv[0][0]']    \n",
            " ization)                       2048)                                                             \n",
            "                                                                                                  \n",
            " conv5_block1_3_bn (BatchNormal  (None, None, None,   8192       ['conv5_block1_3_conv[0][0]']    \n",
            " ization)                       2048)                                                             \n",
            "                                                                                                  \n",
            " conv5_block1_add (Add)         (None, None, None,   0           ['conv5_block1_0_bn[0][0]',      \n",
            "                                2048)                             'conv5_block1_3_bn[0][0]']      \n",
            "                                                                                                  \n",
            " conv5_block1_out (Activation)  (None, None, None,   0           ['conv5_block1_add[0][0]']       \n",
            "                                2048)                                                             \n",
            "                                                                                                  \n",
            " conv5_block2_1_conv (Conv2D)   (None, None, None,   1049088     ['conv5_block1_out[0][0]']       \n",
            "                                512)                                                              \n",
            "                                                                                                  \n",
            " conv5_block2_1_bn (BatchNormal  (None, None, None,   2048       ['conv5_block2_1_conv[0][0]']    \n",
            " ization)                       512)                                                              \n",
            "                                                                                                  \n",
            " conv5_block2_1_relu (Activatio  (None, None, None,   0          ['conv5_block2_1_bn[0][0]']      \n",
            " n)                             512)                                                              \n",
            "                                                                                                  \n",
            " conv5_block2_2_conv (Conv2D)   (None, None, None,   2359808     ['conv5_block2_1_relu[0][0]']    \n",
            "                                512)                                                              \n",
            "                                                                                                  \n",
            " conv5_block2_2_bn (BatchNormal  (None, None, None,   2048       ['conv5_block2_2_conv[0][0]']    \n",
            " ization)                       512)                                                              \n",
            "                                                                                                  \n",
            " conv5_block2_2_relu (Activatio  (None, None, None,   0          ['conv5_block2_2_bn[0][0]']      \n",
            " n)                             512)                                                              \n",
            "                                                                                                  \n",
            " conv5_block2_3_conv (Conv2D)   (None, None, None,   1050624     ['conv5_block2_2_relu[0][0]']    \n",
            "                                2048)                                                             \n",
            "                                                                                                  \n",
            " conv5_block2_3_bn (BatchNormal  (None, None, None,   8192       ['conv5_block2_3_conv[0][0]']    \n",
            " ization)                       2048)                                                             \n",
            "                                                                                                  \n",
            " conv5_block2_add (Add)         (None, None, None,   0           ['conv5_block1_out[0][0]',       \n",
            "                                2048)                             'conv5_block2_3_bn[0][0]']      \n",
            "                                                                                                  \n",
            " conv5_block2_out (Activation)  (None, None, None,   0           ['conv5_block2_add[0][0]']       \n",
            "                                2048)                                                             \n",
            "                                                                                                  \n",
            " conv5_block3_1_conv (Conv2D)   (None, None, None,   1049088     ['conv5_block2_out[0][0]']       \n",
            "                                512)                                                              \n",
            "                                                                                                  \n",
            " conv5_block3_1_bn (BatchNormal  (None, None, None,   2048       ['conv5_block3_1_conv[0][0]']    \n",
            " ization)                       512)                                                              \n",
            "                                                                                                  \n",
            " conv5_block3_1_relu (Activatio  (None, None, None,   0          ['conv5_block3_1_bn[0][0]']      \n",
            " n)                             512)                                                              \n",
            "                                                                                                  \n",
            " conv5_block3_2_conv (Conv2D)   (None, None, None,   2359808     ['conv5_block3_1_relu[0][0]']    \n",
            "                                512)                                                              \n",
            "                                                                                                  \n",
            " conv5_block3_2_bn (BatchNormal  (None, None, None,   2048       ['conv5_block3_2_conv[0][0]']    \n",
            " ization)                       512)                                                              \n",
            "                                                                                                  \n",
            " conv5_block3_2_relu (Activatio  (None, None, None,   0          ['conv5_block3_2_bn[0][0]']      \n",
            " n)                             512)                                                              \n",
            "                                                                                                  \n",
            " conv5_block3_3_conv (Conv2D)   (None, None, None,   1050624     ['conv5_block3_2_relu[0][0]']    \n",
            "                                2048)                                                             \n",
            "                                                                                                  \n",
            " conv5_block3_3_bn (BatchNormal  (None, None, None,   8192       ['conv5_block3_3_conv[0][0]']    \n",
            " ization)                       2048)                                                             \n",
            "                                                                                                  \n",
            " conv5_block3_add (Add)         (None, None, None,   0           ['conv5_block2_out[0][0]',       \n",
            "                                2048)                             'conv5_block3_3_bn[0][0]']      \n",
            "                                                                                                  \n",
            " conv5_block3_out (Activation)  (None, None, None,   0           ['conv5_block3_add[0][0]']       \n",
            "                                2048)                                                             \n",
            "                                                                                                  \n",
            " global_average_pooling2d_5 (Gl  (None, 2048)        0           ['conv5_block3_out[0][0]']       \n",
            " obalAveragePooling2D)                                                                            \n",
            "                                                                                                  \n",
            " flatten_5 (Flatten)            (None, 2048)         0           ['global_average_pooling2d_5[0][0\n",
            "                                                                 ]']                              \n",
            "                                                                                                  \n",
            " dense_10 (Dense)               (None, 5000)         10245000    ['flatten_5[0][0]']              \n",
            "                                                                                                  \n",
            " dropout_5 (Dropout)            (None, 5000)         0           ['dense_10[0][0]']               \n",
            "                                                                                                  \n",
            " dense_11 (Dense)               (None, 10)           50010       ['dropout_5[0][0]']              \n",
            "                                                                                                  \n",
            "==================================================================================================\n",
            "Total params: 33,882,722\n",
            "Trainable params: 10,295,010\n",
            "Non-trainable params: 23,587,712\n",
            "__________________________________________________________________________________________________\n"
          ]
        }
      ]
    },
    {
      "cell_type": "code",
      "metadata": {
        "id": "iAg6SAEkuZqx"
      },
      "source": [
        "resnet_model.compile(optimizer='adam', loss='categorical_crossentropy', metrics=['accuracy'])"
      ],
      "execution_count": 79,
      "outputs": []
    },
    {
      "cell_type": "code",
      "metadata": {
        "colab": {
          "base_uri": "https://localhost:8080/"
        },
        "id": "Y-dlVZ99vFt8",
        "outputId": "c49843c9-7c3d-413b-e804-caa925d540e0"
      },
      "source": [
        "resnet_model_history=resnet_model.fit(x_train, y_train, epochs=50, validation_data=(x_valid, y_valid))"
      ],
      "execution_count": 80,
      "outputs": [
        {
          "output_type": "stream",
          "name": "stdout",
          "text": [
            "Epoch 1/50\n",
            "1250/1250 [==============================] - 54s 40ms/step - loss: 2.1936 - accuracy: 0.2103 - val_loss: 1.9749 - val_accuracy: 0.2703\n",
            "Epoch 2/50\n",
            "1250/1250 [==============================] - 50s 40ms/step - loss: 1.9960 - accuracy: 0.2614 - val_loss: 1.9247 - val_accuracy: 0.3034\n",
            "Epoch 3/50\n",
            "1250/1250 [==============================] - 50s 40ms/step - loss: 1.9630 - accuracy: 0.2756 - val_loss: 1.8937 - val_accuracy: 0.3077\n",
            "Epoch 4/50\n",
            "1250/1250 [==============================] - 48s 38ms/step - loss: 1.9406 - accuracy: 0.2878 - val_loss: 1.8587 - val_accuracy: 0.3155\n",
            "Epoch 5/50\n",
            "1250/1250 [==============================] - 49s 39ms/step - loss: 1.9101 - accuracy: 0.3009 - val_loss: 1.8460 - val_accuracy: 0.3282\n",
            "Epoch 6/50\n",
            "1250/1250 [==============================] - 50s 40ms/step - loss: 1.9005 - accuracy: 0.3056 - val_loss: 1.8256 - val_accuracy: 0.3500\n",
            "Epoch 7/50\n",
            "1250/1250 [==============================] - 48s 38ms/step - loss: 1.8907 - accuracy: 0.3081 - val_loss: 1.7937 - val_accuracy: 0.3542\n",
            "Epoch 8/50\n",
            "1250/1250 [==============================] - 50s 40ms/step - loss: 1.8749 - accuracy: 0.3179 - val_loss: 1.7636 - val_accuracy: 0.3549\n",
            "Epoch 9/50\n",
            "1250/1250 [==============================] - 50s 40ms/step - loss: 1.8685 - accuracy: 0.3209 - val_loss: 1.7962 - val_accuracy: 0.3571\n",
            "Epoch 10/50\n",
            "1250/1250 [==============================] - 48s 39ms/step - loss: 1.8684 - accuracy: 0.3173 - val_loss: 1.8150 - val_accuracy: 0.3557\n",
            "Epoch 11/50\n",
            "1250/1250 [==============================] - 48s 39ms/step - loss: 1.8705 - accuracy: 0.3134 - val_loss: 1.8070 - val_accuracy: 0.3528\n",
            "Epoch 12/50\n",
            "1250/1250 [==============================] - 50s 40ms/step - loss: 1.8562 - accuracy: 0.3255 - val_loss: 1.7935 - val_accuracy: 0.3548\n",
            "Epoch 13/50\n",
            "1250/1250 [==============================] - 48s 39ms/step - loss: 1.8513 - accuracy: 0.3271 - val_loss: 1.7449 - val_accuracy: 0.3712\n",
            "Epoch 14/50\n",
            "1250/1250 [==============================] - 50s 40ms/step - loss: 1.8536 - accuracy: 0.3277 - val_loss: 1.7601 - val_accuracy: 0.3656\n",
            "Epoch 15/50\n",
            "1250/1250 [==============================] - 48s 39ms/step - loss: 1.8419 - accuracy: 0.3274 - val_loss: 1.7733 - val_accuracy: 0.3651\n",
            "Epoch 16/50\n",
            "1250/1250 [==============================] - 48s 39ms/step - loss: 1.8375 - accuracy: 0.3268 - val_loss: 1.7506 - val_accuracy: 0.3680\n",
            "Epoch 17/50\n",
            "1250/1250 [==============================] - 50s 40ms/step - loss: 1.8349 - accuracy: 0.3314 - val_loss: 1.7670 - val_accuracy: 0.3764\n",
            "Epoch 18/50\n",
            "1250/1250 [==============================] - 48s 39ms/step - loss: 1.8389 - accuracy: 0.3319 - val_loss: 1.7718 - val_accuracy: 0.3635\n",
            "Epoch 19/50\n",
            "1250/1250 [==============================] - 51s 41ms/step - loss: 1.8411 - accuracy: 0.3278 - val_loss: 1.7389 - val_accuracy: 0.3744\n",
            "Epoch 20/50\n",
            "1250/1250 [==============================] - 48s 39ms/step - loss: 1.8300 - accuracy: 0.3300 - val_loss: 1.7139 - val_accuracy: 0.3940\n",
            "Epoch 21/50\n",
            "1250/1250 [==============================] - 48s 39ms/step - loss: 1.8237 - accuracy: 0.3365 - val_loss: 1.7167 - val_accuracy: 0.3823\n",
            "Epoch 22/50\n",
            "1250/1250 [==============================] - 48s 39ms/step - loss: 1.8245 - accuracy: 0.3365 - val_loss: 1.7414 - val_accuracy: 0.3540\n",
            "Epoch 23/50\n",
            "1250/1250 [==============================] - 48s 39ms/step - loss: 1.8256 - accuracy: 0.3349 - val_loss: 1.7508 - val_accuracy: 0.3627\n",
            "Epoch 24/50\n",
            "1250/1250 [==============================] - 49s 39ms/step - loss: 1.8241 - accuracy: 0.3374 - val_loss: 1.7155 - val_accuracy: 0.3811\n",
            "Epoch 25/50\n",
            "1250/1250 [==============================] - 51s 40ms/step - loss: 1.8209 - accuracy: 0.3373 - val_loss: 1.7501 - val_accuracy: 0.3712\n",
            "Epoch 26/50\n",
            "1250/1250 [==============================] - 51s 41ms/step - loss: 1.8138 - accuracy: 0.3377 - val_loss: 1.7306 - val_accuracy: 0.3827\n",
            "Epoch 27/50\n",
            "1250/1250 [==============================] - 48s 38ms/step - loss: 1.8190 - accuracy: 0.3398 - val_loss: 1.7426 - val_accuracy: 0.3663\n",
            "Epoch 28/50\n",
            "1250/1250 [==============================] - 50s 40ms/step - loss: 1.8104 - accuracy: 0.3391 - val_loss: 1.6934 - val_accuracy: 0.3930\n",
            "Epoch 29/50\n",
            "1250/1250 [==============================] - 50s 40ms/step - loss: 1.7998 - accuracy: 0.3418 - val_loss: 1.6942 - val_accuracy: 0.3960\n",
            "Epoch 30/50\n",
            "1250/1250 [==============================] - 48s 38ms/step - loss: 1.7994 - accuracy: 0.3458 - val_loss: 1.7306 - val_accuracy: 0.3798\n",
            "Epoch 31/50\n",
            "1250/1250 [==============================] - 48s 38ms/step - loss: 1.8081 - accuracy: 0.3392 - val_loss: 1.7510 - val_accuracy: 0.3793\n",
            "Epoch 32/50\n",
            "1250/1250 [==============================] - 48s 38ms/step - loss: 1.8062 - accuracy: 0.3457 - val_loss: 1.6925 - val_accuracy: 0.3936\n",
            "Epoch 33/50\n",
            "1250/1250 [==============================] - 48s 38ms/step - loss: 1.8085 - accuracy: 0.3437 - val_loss: 1.7297 - val_accuracy: 0.3628\n",
            "Epoch 34/50\n",
            "1250/1250 [==============================] - 48s 38ms/step - loss: 1.8133 - accuracy: 0.3365 - val_loss: 1.7257 - val_accuracy: 0.3786\n",
            "Epoch 35/50\n",
            "1250/1250 [==============================] - 50s 40ms/step - loss: 1.8077 - accuracy: 0.3406 - val_loss: 1.7171 - val_accuracy: 0.3865\n",
            "Epoch 36/50\n",
            "1250/1250 [==============================] - 48s 38ms/step - loss: 1.8004 - accuracy: 0.3438 - val_loss: 1.7165 - val_accuracy: 0.3768\n",
            "Epoch 37/50\n",
            "1250/1250 [==============================] - 48s 38ms/step - loss: 1.7965 - accuracy: 0.3446 - val_loss: 1.6766 - val_accuracy: 0.4014\n",
            "Epoch 38/50\n",
            "1250/1250 [==============================] - 50s 40ms/step - loss: 1.7984 - accuracy: 0.3444 - val_loss: 1.7755 - val_accuracy: 0.3597\n",
            "Epoch 39/50\n",
            "1250/1250 [==============================] - 48s 38ms/step - loss: 1.8094 - accuracy: 0.3399 - val_loss: 1.7030 - val_accuracy: 0.3865\n",
            "Epoch 40/50\n",
            "1250/1250 [==============================] - 48s 38ms/step - loss: 1.8016 - accuracy: 0.3444 - val_loss: 1.7086 - val_accuracy: 0.3830\n",
            "Epoch 41/50\n",
            "1250/1250 [==============================] - 48s 38ms/step - loss: 1.7877 - accuracy: 0.3474 - val_loss: 1.7011 - val_accuracy: 0.3860\n",
            "Epoch 42/50\n",
            "1250/1250 [==============================] - 49s 39ms/step - loss: 1.7903 - accuracy: 0.3478 - val_loss: 1.6598 - val_accuracy: 0.4083\n",
            "Epoch 43/50\n",
            "1250/1250 [==============================] - 48s 38ms/step - loss: 1.7856 - accuracy: 0.3507 - val_loss: 1.6572 - val_accuracy: 0.4080\n",
            "Epoch 44/50\n",
            "1250/1250 [==============================] - 48s 38ms/step - loss: 1.7919 - accuracy: 0.3509 - val_loss: 1.6781 - val_accuracy: 0.3965\n",
            "Epoch 45/50\n",
            "1250/1250 [==============================] - 50s 40ms/step - loss: 1.7864 - accuracy: 0.3510 - val_loss: 1.6794 - val_accuracy: 0.3957\n",
            "Epoch 46/50\n",
            "1250/1250 [==============================] - 50s 40ms/step - loss: 1.7846 - accuracy: 0.3490 - val_loss: 1.7069 - val_accuracy: 0.3941\n",
            "Epoch 47/50\n",
            "1250/1250 [==============================] - 48s 38ms/step - loss: 1.7790 - accuracy: 0.3537 - val_loss: 1.6851 - val_accuracy: 0.3883\n",
            "Epoch 48/50\n",
            "1250/1250 [==============================] - 48s 38ms/step - loss: 1.7844 - accuracy: 0.3501 - val_loss: 1.6969 - val_accuracy: 0.3877\n",
            "Epoch 49/50\n",
            "1250/1250 [==============================] - 48s 38ms/step - loss: 1.7753 - accuracy: 0.3535 - val_loss: 1.6749 - val_accuracy: 0.3985\n",
            "Epoch 50/50\n",
            "1250/1250 [==============================] - 48s 38ms/step - loss: 1.7820 - accuracy: 0.3517 - val_loss: 1.6967 - val_accuracy: 0.3895\n"
          ]
        }
      ]
    },
    {
      "cell_type": "markdown",
      "metadata": {
        "id": "aqrUUtOlXEFV"
      },
      "source": [
        "## Evaluating the model"
      ]
    },
    {
      "cell_type": "code",
      "metadata": {
        "colab": {
          "base_uri": "https://localhost:8080/"
        },
        "id": "TSMhX3muXGVK",
        "outputId": "3fd29ca5-dee6-4fa5-fd75-4dfe2db999c8"
      },
      "source": [
        "results=resnet_model.evaluate(x_test, y_test)\n",
        "results"
      ],
      "execution_count": 81,
      "outputs": [
        {
          "output_type": "stream",
          "name": "stdout",
          "text": [
            "313/313 [==============================] - 9s 29ms/step - loss: 1.6987 - accuracy: 0.3880\n"
          ]
        },
        {
          "output_type": "execute_result",
          "data": {
            "text/plain": [
              "[1.6986998319625854, 0.3880000114440918]"
            ]
          },
          "metadata": {},
          "execution_count": 81
        }
      ]
    },
    {
      "cell_type": "code",
      "metadata": {
        "colab": {
          "base_uri": "https://localhost:8080/"
        },
        "id": "iCtHRU3vXZVX",
        "outputId": "77310148-1fe6-4e4f-cd55-e249c53d0745"
      },
      "source": [
        "resnet_model_history.history.keys()"
      ],
      "execution_count": 82,
      "outputs": [
        {
          "output_type": "execute_result",
          "data": {
            "text/plain": [
              "dict_keys(['loss', 'accuracy', 'val_loss', 'val_accuracy'])"
            ]
          },
          "metadata": {},
          "execution_count": 82
        }
      ]
    },
    {
      "cell_type": "code",
      "metadata": {
        "id": "8mTuCPFDv3XT",
        "colab": {
          "base_uri": "https://localhost:8080/",
          "height": 0
        },
        "outputId": "94dc6497-bfef-4596-9489-4403768c2b80"
      },
      "source": [
        "plt.plot(resnet_model_history.history['val_accuracy'],label='Validation Accuracy');\n",
        "plt.plot(resnet_model_history.history['accuracy'],label='Training Accuracy');\n",
        "plt.legend;"
      ],
      "execution_count": 83,
      "outputs": [
        {
          "output_type": "display_data",
          "data": {
            "image/png": "[encoded data removed]",
            "text/plain": [
              "<Figure size 432x288 with 1 Axes>"
            ]
          },
          "metadata": {}
        }
      ]
    },
    {
      "cell_type": "markdown",
      "metadata": {
        "id": "SmDpsAqnYZJm"
      },
      "source": [
        "## Transfer Learning - VGG net"
      ]
    },
    {
      "cell_type": "code",
      "metadata": {
        "id": "mVSO0repYn3W"
      },
      "source": [
        "import tensorflow\n",
        "\n",
        "from keras.models import Model, load_model\n",
        "from keras.layers import GlobalAveragePooling2D, Dropout\n",
        "\n",
        "\n",
        "vgg_model=tensorflow.keras.applications.VGG19(include_top=False, weights=\"imagenet\", classifier_activation=\"softmax\")\n",
        "\n",
        "# Use resnet model only for feature extraction and not for learning; we will freeze all the layers that we don't need\n",
        "for layer in vgg_model.layers:\n",
        "  layer.trainable=False\n",
        "\n",
        "# Take the output of the base layers\n",
        "vgg_model_output=vgg_model.output\n",
        "\n",
        "# Add our own layers\n",
        "\n",
        "## Pool layer\n",
        "x=GlobalAveragePooling2D()(vgg_model_output)\n",
        "\n",
        "## Flatten layer\n",
        "x=Flatten()(x)\n",
        "\n",
        "## FC layer\n",
        "x=Dense(5000, activation='relu')(x)\n",
        "\n",
        "## Dropout layer\n",
        "x=Dropout(0.3)(x)\n",
        "\n",
        "## Outer layer\n",
        "x=Dense(10, activation='softmax')(x)"
      ],
      "execution_count": 84,
      "outputs": []
    },
    {
      "cell_type": "code",
      "metadata": {
        "colab": {
          "base_uri": "https://localhost:8080/"
        },
        "id": "G6ZCyh8GaIUQ",
        "outputId": "e541a13d-c93e-4134-c2eb-c69d35fe3d4e"
      },
      "source": [
        "# Initializing the VGG model\n",
        "\n",
        "vgg_model=Model(inputs=vgg_model.input, outputs=x)\n",
        "\n",
        "vgg_model.summary()"
      ],
      "execution_count": 85,
      "outputs": [
        {
          "output_type": "stream",
          "name": "stdout",
          "text": [
            "Model: \"model_3\"\n",
            "_________________________________________________________________\n",
            " Layer (type)                Output Shape              Param #   \n",
            "=================================================================\n",
            " input_8 (InputLayer)        [(None, None, None, 3)]   0         \n",
            "                                                                 \n",
            " block1_conv1 (Conv2D)       (None, None, None, 64)    1792      \n",
            "                                                                 \n",
            " block1_conv2 (Conv2D)       (None, None, None, 64)    36928     \n",
            "                                                                 \n",
            " block1_pool (MaxPooling2D)  (None, None, None, 64)    0         \n",
            "                                                                 \n",
            " block2_conv1 (Conv2D)       (None, None, None, 128)   73856     \n",
            "                                                                 \n",
            " block2_conv2 (Conv2D)       (None, None, None, 128)   147584    \n",
            "                                                                 \n",
            " block2_pool (MaxPooling2D)  (None, None, None, 128)   0         \n",
            "                                                                 \n",
            " block3_conv1 (Conv2D)       (None, None, None, 256)   295168    \n",
            "                                                                 \n",
            " block3_conv2 (Conv2D)       (None, None, None, 256)   590080    \n",
            "                                                                 \n",
            " block3_conv3 (Conv2D)       (None, None, None, 256)   590080    \n",
            "                                                                 \n",
            " block3_conv4 (Conv2D)       (None, None, None, 256)   590080    \n",
            "                                                                 \n",
            " block3_pool (MaxPooling2D)  (None, None, None, 256)   0         \n",
            "                                                                 \n",
            " block4_conv1 (Conv2D)       (None, None, None, 512)   1180160   \n",
            "                                                                 \n",
            " block4_conv2 (Conv2D)       (None, None, None, 512)   2359808   \n",
            "                                                                 \n",
            " block4_conv3 (Conv2D)       (None, None, None, 512)   2359808   \n",
            "                                                                 \n",
            " block4_conv4 (Conv2D)       (None, None, None, 512)   2359808   \n",
            "                                                                 \n",
            " block4_pool (MaxPooling2D)  (None, None, None, 512)   0         \n",
            "                                                                 \n",
            " block5_conv1 (Conv2D)       (None, None, None, 512)   2359808   \n",
            "                                                                 \n",
            " block5_conv2 (Conv2D)       (None, None, None, 512)   2359808   \n",
            "                                                                 \n",
            " block5_conv3 (Conv2D)       (None, None, None, 512)   2359808   \n",
            "                                                                 \n",
            " block5_conv4 (Conv2D)       (None, None, None, 512)   2359808   \n",
            "                                                                 \n",
            " block5_pool (MaxPooling2D)  (None, None, None, 512)   0         \n",
            "                                                                 \n",
            " global_average_pooling2d_6   (None, 512)              0         \n",
            " (GlobalAveragePooling2D)                                        \n",
            "                                                                 \n",
            " flatten_6 (Flatten)         (None, 512)               0         \n",
            "                                                                 \n",
            " dense_12 (Dense)            (None, 5000)              2565000   \n",
            "                                                                 \n",
            " dropout_6 (Dropout)         (None, 5000)              0         \n",
            "                                                                 \n",
            " dense_13 (Dense)            (None, 10)                50010     \n",
            "                                                                 \n",
            "=================================================================\n",
            "Total params: 22,639,394\n",
            "Trainable params: 2,615,010\n",
            "Non-trainable params: 20,024,384\n",
            "_________________________________________________________________\n"
          ]
        }
      ]
    },
    {
      "cell_type": "code",
      "metadata": {
        "colab": {
          "base_uri": "https://localhost:8080/"
        },
        "id": "hzmynSdwclqK",
        "outputId": "5aa45f07-de12-41b8-b300-852ebe6ae53e"
      },
      "source": [
        "vgg_model.compile(optimizer='adam', loss='categorical_crossentropy', metrics=['accuracy'])\n",
        "\n",
        "vgg_model_history=vgg_model.fit(x_train, y_train, epochs=10, validation_data=(x_valid, y_valid))"
      ],
      "execution_count": 86,
      "outputs": [
        {
          "output_type": "stream",
          "name": "stdout",
          "text": [
            "Epoch 1/10\n",
            "1250/1250 [==============================] - 38s 29ms/step - loss: 1.4425 - accuracy: 0.4904 - val_loss: 1.3197 - val_accuracy: 0.5295\n",
            "Epoch 2/10\n",
            "1250/1250 [==============================] - 36s 29ms/step - loss: 1.2833 - accuracy: 0.5489 - val_loss: 1.2617 - val_accuracy: 0.5489\n",
            "Epoch 3/10\n",
            "1250/1250 [==============================] - 37s 29ms/step - loss: 1.2204 - accuracy: 0.5714 - val_loss: 1.2239 - val_accuracy: 0.5682\n",
            "Epoch 4/10\n",
            "1250/1250 [==============================] - 37s 29ms/step - loss: 1.1687 - accuracy: 0.5863 - val_loss: 1.1811 - val_accuracy: 0.5829\n",
            "Epoch 5/10\n",
            "1250/1250 [==============================] - 36s 29ms/step - loss: 1.1302 - accuracy: 0.5979 - val_loss: 1.1911 - val_accuracy: 0.5824\n",
            "Epoch 6/10\n",
            "1250/1250 [==============================] - 36s 29ms/step - loss: 1.0939 - accuracy: 0.6152 - val_loss: 1.1750 - val_accuracy: 0.5840\n",
            "Epoch 7/10\n",
            "1250/1250 [==============================] - 36s 29ms/step - loss: 1.0610 - accuracy: 0.6245 - val_loss: 1.1439 - val_accuracy: 0.6045\n",
            "Epoch 8/10\n",
            "1250/1250 [==============================] - 37s 29ms/step - loss: 1.0283 - accuracy: 0.6338 - val_loss: 1.1528 - val_accuracy: 0.6009\n",
            "Epoch 9/10\n",
            "1250/1250 [==============================] - 36s 29ms/step - loss: 0.9990 - accuracy: 0.6455 - val_loss: 1.1502 - val_accuracy: 0.6044\n",
            "Epoch 10/10\n",
            "1250/1250 [==============================] - 36s 29ms/step - loss: 0.9712 - accuracy: 0.6557 - val_loss: 1.1718 - val_accuracy: 0.6027\n"
          ]
        }
      ]
    },
    {
      "cell_type": "markdown",
      "metadata": {
        "id": "WLvkAOFMe5AQ"
      },
      "source": [
        "## Evaluating the VGG model"
      ]
    },
    {
      "cell_type": "code",
      "metadata": {
        "colab": {
          "base_uri": "https://localhost:8080/"
        },
        "id": "_m4mtorGe7rd",
        "outputId": "b8a0e9e4-8b25-4d4a-f5ea-19a5057a86f6"
      },
      "source": [
        "vgg_results=vgg_model.evaluate(x_test, y_test)\n",
        "vgg_results"
      ],
      "execution_count": 87,
      "outputs": [
        {
          "output_type": "stream",
          "name": "stdout",
          "text": [
            "313/313 [==============================] - 8s 24ms/step - loss: 1.1745 - accuracy: 0.6031\n"
          ]
        },
        {
          "output_type": "execute_result",
          "data": {
            "text/plain": [
              "[1.1744790077209473, 0.6031000018119812]"
            ]
          },
          "metadata": {},
          "execution_count": 87
        }
      ]
    },
    {
      "cell_type": "code",
      "metadata": {
        "id": "WG_ApD3ClkKP",
        "colab": {
          "base_uri": "https://localhost:8080/"
        },
        "outputId": "2f4aeb23-30aa-4188-bade-4ffc1372e7e2"
      },
      "source": [
        "vgg_model_history.history.keys()"
      ],
      "execution_count": 88,
      "outputs": [
        {
          "output_type": "execute_result",
          "data": {
            "text/plain": [
              "dict_keys(['loss', 'accuracy', 'val_loss', 'val_accuracy'])"
            ]
          },
          "metadata": {},
          "execution_count": 88
        }
      ]
    },
    {
      "cell_type": "code",
      "metadata": {
        "id": "1uGfjR1Gg-b0",
        "colab": {
          "base_uri": "https://localhost:8080/",
          "height": 268
        },
        "outputId": "378f4511-cca7-41ba-8298-7b025bcfa1b8"
      },
      "source": [
        "plt.plot(vgg_model_history.history['val_accuracy'],label='Validation Accuracy');\n",
        "plt.plot(vgg_model_history.history['accuracy'],label='Training Accuracy');\n",
        "plt.legend;"
      ],
      "execution_count": 89,
      "outputs": [
        {
          "output_type": "display_data",
          "data": {
            "image/png": "[encoded data removed]",
            "text/plain": [
              "<Figure size 432x288 with 1 Axes>"
            ]
          },
          "metadata": {}
        }
      ]
    },
    {
      "cell_type": "markdown",
      "metadata": {
        "id": "o3jP7Rbifl9s"
      },
      "source": [
        "## Transfer Learning - VGG net with Batch Normalization"
      ]
    },
    {
      "cell_type": "code",
      "metadata": {
        "id": "yRChdWbpfrog"
      },
      "source": [
        "import tensorflow\n",
        "\n",
        "from keras.models import Model, load_model\n",
        "from keras.layers import GlobalAveragePooling2D, Dropout, BatchNormalization\n",
        "\n",
        "\n",
        "vgg_model=tensorflow.keras.applications.VGG19(include_top=False, weights=\"imagenet\", classifier_activation=\"softmax\")\n",
        "\n",
        "# Use resnet model only for feature extraction and not for learning; we will freeze all the layers that we don't need\n",
        "for layer in vgg_model.layers:\n",
        "  layer.trainable=False\n",
        "\n",
        "# Take the output of the base layers\n",
        "vgg_model_output=vgg_model.output\n",
        "\n",
        "# Add our own layers\n",
        "\n",
        "## Pool layer\n",
        "x=GlobalAveragePooling2D()(vgg_model_output)\n",
        "\n",
        "## Flatten layer\n",
        "x=Flatten()(x)\n",
        "\n",
        "## Batch Normalization layer\n",
        "x=BatchNormalization()(x)\n",
        "\n",
        "## FC layer\n",
        "x=Dense(5000, activation='relu')(x)\n",
        "\n",
        "## Batch Normalization layer\n",
        "x=BatchNormalization()(x)\n",
        "\n",
        "## Dropout layer\n",
        "x=Dropout(0.3)(x)\n",
        "\n",
        "## Outer layer\n",
        "x=Dense(10, activation='softmax')(x)"
      ],
      "execution_count": 90,
      "outputs": []
    },
    {
      "cell_type": "code",
      "metadata": {
        "colab": {
          "base_uri": "https://localhost:8080/"
        },
        "id": "qjsWCpxujxUm",
        "outputId": "32d389e6-565a-42ca-ceed-2956d4615a41"
      },
      "source": [
        "# Initializing the VGG model with batch normalization\n",
        "\n",
        "vgg_model_bn=Model(inputs=vgg_model.input, outputs=x)\n",
        "\n",
        "vgg_model_bn.summary()"
      ],
      "execution_count": 91,
      "outputs": [
        {
          "output_type": "stream",
          "name": "stdout",
          "text": [
            "Model: \"model_4\"\n",
            "_________________________________________________________________\n",
            " Layer (type)                Output Shape              Param #   \n",
            "=================================================================\n",
            " input_9 (InputLayer)        [(None, None, None, 3)]   0         \n",
            "                                                                 \n",
            " block1_conv1 (Conv2D)       (None, None, None, 64)    1792      \n",
            "                                                                 \n",
            " block1_conv2 (Conv2D)       (None, None, None, 64)    36928     \n",
            "                                                                 \n",
            " block1_pool (MaxPooling2D)  (None, None, None, 64)    0         \n",
            "                                                                 \n",
            " block2_conv1 (Conv2D)       (None, None, None, 128)   73856     \n",
            "                                                                 \n",
            " block2_conv2 (Conv2D)       (None, None, None, 128)   147584    \n",
            "                                                                 \n",
            " block2_pool (MaxPooling2D)  (None, None, None, 128)   0         \n",
            "                                                                 \n",
            " block3_conv1 (Conv2D)       (None, None, None, 256)   295168    \n",
            "                                                                 \n",
            " block3_conv2 (Conv2D)       (None, None, None, 256)   590080    \n",
            "                                                                 \n",
            " block3_conv3 (Conv2D)       (None, None, None, 256)   590080    \n",
            "                                                                 \n",
            " block3_conv4 (Conv2D)       (None, None, None, 256)   590080    \n",
            "                                                                 \n",
            " block3_pool (MaxPooling2D)  (None, None, None, 256)   0         \n",
            "                                                                 \n",
            " block4_conv1 (Conv2D)       (None, None, None, 512)   1180160   \n",
            "                                                                 \n",
            " block4_conv2 (Conv2D)       (None, None, None, 512)   2359808   \n",
            "                                                                 \n",
            " block4_conv3 (Conv2D)       (None, None, None, 512)   2359808   \n",
            "                                                                 \n",
            " block4_conv4 (Conv2D)       (None, None, None, 512)   2359808   \n",
            "                                                                 \n",
            " block4_pool (MaxPooling2D)  (None, None, None, 512)   0         \n",
            "                                                                 \n",
            " block5_conv1 (Conv2D)       (None, None, None, 512)   2359808   \n",
            "                                                                 \n",
            " block5_conv2 (Conv2D)       (None, None, None, 512)   2359808   \n",
            "                                                                 \n",
            " block5_conv3 (Conv2D)       (None, None, None, 512)   2359808   \n",
            "                                                                 \n",
            " block5_conv4 (Conv2D)       (None, None, None, 512)   2359808   \n",
            "                                                                 \n",
            " block5_pool (MaxPooling2D)  (None, None, None, 512)   0         \n",
            "                                                                 \n",
            " global_average_pooling2d_7   (None, 512)              0         \n",
            " (GlobalAveragePooling2D)                                        \n",
            "                                                                 \n",
            " flatten_7 (Flatten)         (None, 512)               0         \n",
            "                                                                 \n",
            " batch_normalization_5 (Batc  (None, 512)              2048      \n",
            " hNormalization)                                                 \n",
            "                                                                 \n",
            " dense_14 (Dense)            (None, 5000)              2565000   \n",
            "                                                                 \n",
            " batch_normalization_6 (Batc  (None, 5000)             20000     \n",
            " hNormalization)                                                 \n",
            "                                                                 \n",
            " dropout_7 (Dropout)         (None, 5000)              0         \n",
            "                                                                 \n",
            " dense_15 (Dense)            (None, 10)                50010     \n",
            "                                                                 \n",
            "=================================================================\n",
            "Total params: 22,661,442\n",
            "Trainable params: 2,626,034\n",
            "Non-trainable params: 20,035,408\n",
            "_________________________________________________________________\n"
          ]
        }
      ]
    },
    {
      "cell_type": "code",
      "metadata": {
        "id": "0NI92Gi9oboW",
        "colab": {
          "base_uri": "https://localhost:8080/"
        },
        "outputId": "ef5c2a86-ef25-4b89-d8d3-c000bc192891"
      },
      "source": [
        "vgg_model_bn.compile(optimizer='adam', loss='categorical_crossentropy', metrics=['accuracy'])\n",
        "\n",
        "vgg_model_bn_history=vgg_model_bn.fit(x_train, y_train, epochs=10, validation_data=(x_valid, y_valid))"
      ],
      "execution_count": 92,
      "outputs": [
        {
          "output_type": "stream",
          "name": "stdout",
          "text": [
            "Epoch 1/10\n",
            "1250/1250 [==============================] - 40s 31ms/step - loss: 2.2492 - accuracy: 0.4370 - val_loss: 1.7003 - val_accuracy: 0.5095\n",
            "Epoch 2/10\n",
            "1250/1250 [==============================] - 39s 31ms/step - loss: 1.7839 - accuracy: 0.4835 - val_loss: 1.7979 - val_accuracy: 0.5037\n",
            "Epoch 3/10\n",
            "1250/1250 [==============================] - 42s 34ms/step - loss: 1.6047 - accuracy: 0.5143 - val_loss: 1.6508 - val_accuracy: 0.5264\n",
            "Epoch 4/10\n",
            "1250/1250 [==============================] - 39s 31ms/step - loss: 1.5077 - accuracy: 0.5308 - val_loss: 1.4510 - val_accuracy: 0.5503\n",
            "Epoch 5/10\n",
            "1250/1250 [==============================] - ETA: 0s - loss: 1.3755 - accuracy: 0.5559Epoch 6/10\n",
            "1250/1250 [==============================] - 38s 31ms/step - loss: 1.3001 - accuracy: 0.5680 - val_loss: 1.5103 - val_accuracy: 0.5519\n",
            "Epoch 7/10\n",
            "1250/1250 [==============================] - 38s 31ms/step - loss: 1.2413 - accuracy: 0.5790 - val_loss: 1.4792 - val_accuracy: 0.5589\n",
            "Epoch 8/10\n",
            "1250/1250 [==============================] - 38s 31ms/step - loss: 1.1974 - accuracy: 0.5938 - val_loss: 1.4825 - val_accuracy: 0.5678\n",
            "Epoch 9/10\n",
            "1250/1250 [==============================] - 39s 31ms/step - loss: 1.1456 - accuracy: 0.6047 - val_loss: 1.6194 - val_accuracy: 0.5594\n",
            "Epoch 10/10\n",
            "1250/1250 [==============================] - 38s 31ms/step - loss: 1.1158 - accuracy: 0.6143 - val_loss: 1.5444 - val_accuracy: 0.5742\n"
          ]
        }
      ]
    },
    {
      "cell_type": "markdown",
      "metadata": {
        "id": "Wtz1UGYdojJe"
      },
      "source": [
        "## Evaluating the VGG model with Batch Normalization"
      ]
    },
    {
      "cell_type": "code",
      "metadata": {
        "colab": {
          "base_uri": "https://localhost:8080/"
        },
        "id": "AbzOpF9WonNd",
        "outputId": "4ec43460-95bb-449f-ceb2-340b0dde50c0"
      },
      "source": [
        "vgg_bn_results=vgg_model_bn.evaluate(x_test, y_test)\n",
        "vgg_bn_results"
      ],
      "execution_count": 94,
      "outputs": [
        {
          "output_type": "stream",
          "name": "stdout",
          "text": [
            "313/313 [==============================] - 7s 24ms/step - loss: 1.5212 - accuracy: 0.5803\n"
          ]
        },
        {
          "output_type": "execute_result",
          "data": {
            "text/plain": [
              "[1.521194338798523, 0.580299973487854]"
            ]
          },
          "metadata": {},
          "execution_count": 94
        }
      ]
    },
    {
      "cell_type": "code",
      "metadata": {
        "id": "Pi3dXuJOnNNA",
        "colab": {
          "base_uri": "https://localhost:8080/"
        },
        "outputId": "fc32fa9e-6329-4706-dd69-a68959f3f2ed"
      },
      "source": [
        "vgg_model_bn_history.history.keys()"
      ],
      "execution_count": 95,
      "outputs": [
        {
          "output_type": "execute_result",
          "data": {
            "text/plain": [
              "dict_keys(['loss', 'accuracy', 'val_loss', 'val_accuracy'])"
            ]
          },
          "metadata": {},
          "execution_count": 95
        }
      ]
    },
    {
      "cell_type": "code",
      "metadata": {
        "id": "yvphKAx7m9So",
        "colab": {
          "base_uri": "https://localhost:8080/",
          "height": 268
        },
        "outputId": "675c7428-0a84-491c-8eae-8c0d31415b73"
      },
      "source": [
        "plt.plot(vgg_model_bn_history.history['val_accuracy'],label='Validation Accuracy');\n",
        "plt.plot(vgg_model_bn_history.history['accuracy'],label='Training Accuracy');\n",
        "plt.legend;"
      ],
      "execution_count": 96,
      "outputs": [
        {
          "output_type": "display_data",
          "data": {
            "image/png": "[encoded data removed]",
            "text/plain": [
              "<Figure size 432x288 with 1 Axes>"
            ]
          },
          "metadata": {}
        }
      ]
    }
  ]
}