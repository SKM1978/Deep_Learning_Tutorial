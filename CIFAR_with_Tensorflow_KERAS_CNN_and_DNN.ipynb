{
  "nbformat": 4,
  "nbformat_minor": 0,
  "metadata": {
    "kernelspec": {
      "display_name": "Python 3",
      "language": "python",
      "name": "python3"
    },
    "language_info": {
      "codemirror_mode": {
        "name": "ipython",
        "version": 3
      },
      "file_extension": ".py",
      "mimetype": "text/x-python",
      "name": "python",
      "nbconvert_exporter": "python",
      "pygments_lexer": "ipython3",
      "version": "3.8.8"
    },
    "colab": {
      "name": "CIFAR with Tensorflow/KERAS - CNN and DNN.ipynb",
      "provenance": [],
      "toc_visible": true,
      "include_colab_link": true
    }
  },
  "cells": [
    {
      "cell_type": "markdown",
      "metadata": {
        "id": "view-in-github",
        "colab_type": "text"
      },
      "source": [
        "<a href=\"https://colab.research.google.com/github/aayushkubb/Deep_Learning_Tutorial/blob/master/CIFAR_with_Tensorflow_KERAS_CNN_and_DNN.ipynb\" target=\"_parent\"><img src=\"https://colab.research.google.com/assets/colab-badge.svg\" alt=\"Open In Colab\"/></a>"
      ]
    },
    {
      "cell_type": "markdown",
      "metadata": {
        "id": "Ij2ahOKYIQ1I"
      },
      "source": [
        "### Import the Libraries"
      ]
    },
    {
      "cell_type": "code",
      "metadata": {
        "id": "opb2RYYyIQ1L"
      },
      "source": [
        "import numpy as np\n",
        "import matplotlib.pyplot as plt\n",
        "import seaborn as sns\n",
        "import tensorflow as tf\n",
        "sns.set()\n"
      ],
      "execution_count": null,
      "outputs": []
    },
    {
      "cell_type": "markdown",
      "metadata": {
        "id": "GHjBdX16IQ1N"
      },
      "source": [
        "### Load the Dataset and Prepare testing and training data"
      ]
    },
    {
      "cell_type": "code",
      "metadata": {
        "id": "HuXgk5EOIQ1O"
      },
      "source": [
        "from keras.datasets import cifar10\n",
        "import keras\n",
        "from keras.models import Sequential\n",
        "from keras.layers import Dense"
      ],
      "execution_count": null,
      "outputs": []
    },
    {
      "cell_type": "code",
      "metadata": {
        "id": "17vp1CzIIQ1P"
      },
      "source": [
        "(x_train,y_train),(x_test,y_test)=cifar10.load_data()"
      ],
      "execution_count": null,
      "outputs": []
    },
    {
      "cell_type": "code",
      "metadata": {
        "colab": {
          "base_uri": "https://localhost:8080/"
        },
        "id": "WPq4C628IQ1R",
        "outputId": "1e13b376-9539-480e-8e36-598ea2dff5fa"
      },
      "source": [
        "print(x_train.shape)\n",
        "print(x_test.shape)\n"
      ],
      "execution_count": null,
      "outputs": [
        {
          "output_type": "stream",
          "name": "stdout",
          "text": [
            "(50000, 32, 32, 3)\n",
            "(10000, 32, 32, 3)\n"
          ]
        }
      ]
    },
    {
      "cell_type": "code",
      "metadata": {
        "colab": {
          "base_uri": "https://localhost:8080/",
          "height": 259
        },
        "id": "x1SRuGLcIaLD",
        "outputId": "4e2ecd8c-78b3-411f-90c0-3b45e319df2a"
      },
      "source": [
        "print('Training data shape : ', x_train.shape, y_train.shape)\n",
        "\n",
        "print('Testing data shape : ', x_test.shape, y_test.shape)\n",
        "\n",
        "# Find the unique numbers from the train labels\n",
        "classes = np.unique(y_train)\n",
        "nClasses = len(classes)\n",
        "print('Total number of outputs : ', nClasses)\n",
        "print('Output classes : ', classes)\n",
        "\n",
        "plt.figure(figsize=[4,2])\n",
        "\n",
        "# Display the first image in training data\n",
        "plt.subplot(121)\n",
        "plt.imshow(x_train[0,:,:], cmap='gray')\n",
        "plt.title(\"Ground Truth : {}\".format(y_train[0]))\n",
        "\n",
        "# Display the first image in testing data\n",
        "plt.subplot(122)\n",
        "plt.imshow(x_test[0,:,:], cmap='gray')\n",
        "plt.title(\"Ground Truth : {}\".format(y_test[0]))"
      ],
      "execution_count": null,
      "outputs": [
        {
          "output_type": "stream",
          "name": "stdout",
          "text": [
            "Training data shape :  (50000, 32, 32, 3) (50000, 1)\n",
            "Testing data shape :  (10000, 32, 32, 3) (10000, 1)\n",
            "Total number of outputs :  10\n",
            "Output classes :  [0 1 2 3 4 5 6 7 8 9]\n"
          ]
        },
        {
          "output_type": "execute_result",
          "data": {
            "text/plain": [
              "Text(0.5, 1.0, 'Ground Truth : [3]')"
            ]
          },
          "metadata": {},
          "execution_count": 15
        },
        {
          "output_type": "display_data",
          "data": {
            "image/png": "[encoded data removed]",
            "text/plain": [
              "<Figure size 288x144 with 2 Axes>"
            ]
          },
          "metadata": {}
        }
      ]
    },
    {
      "cell_type": "markdown",
      "metadata": {
        "id": "uhMex-_KOMSl"
      },
      "source": [
        "# Approach -1 - Using simple DNN"
      ]
    },
    {
      "cell_type": "code",
      "metadata": {
        "id": "5BV8jl6COP3g"
      },
      "source": [
        "# Load the data\n",
        "(x_train,y_train),(x_test,y_test)=cifar10.load_data()\n",
        "\n",
        "# train set / data \n",
        "x_train = x_train.reshape(-1, 32*32*3)\n",
        "x_train = x_train.astype('float32') / 255\n",
        "\n",
        "\n",
        "\n",
        "# test set / data \n",
        "x_test = x_test.reshape(-1, 32*32*3)\n",
        "x_test = x_test.astype('float32') / 255\n",
        "\n",
        "# train set / target \n",
        "y_train = tf.keras.utils.to_categorical(y_train , num_classes=10)\n",
        "\n",
        "# test set / target \n",
        "y_test = tf.keras.utils.to_categorical(y_test , num_classes=10)"
      ],
      "execution_count": null,
      "outputs": []
    },
    {
      "cell_type": "code",
      "metadata": {
        "colab": {
          "base_uri": "https://localhost:8080/"
        },
        "id": "qdoz13C0Omds",
        "outputId": "952934db-dda4-4cbc-bee3-d007ead76747"
      },
      "source": [
        "#Models\n",
        "model = Sequential()\n",
        "model.add(Dense(800, input_dim=3072, activation=\"relu\"))\n",
        "model.add(Dense(10, activation=\"softmax\"))\n",
        "\n",
        "model.compile(loss=\"categorical_crossentropy\", optimizer=\"SGD\", metrics=[\"accuracy\"])\n",
        "history = model.fit(x_train, y_train, validation_data=(x_test,y_test),\n",
        "                    batch_size=200, \n",
        "                    epochs=2,  \n",
        "                    verbose=1)"
      ],
      "execution_count": null,
      "outputs": [
        {
          "output_type": "stream",
          "name": "stdout",
          "text": [
            "Epoch 1/2\n",
            "250/250 [==============================] - 12s 46ms/step - loss: 1.9936 - accuracy: 0.2904 - val_loss: 1.8896 - val_accuracy: 0.3248\n",
            "Epoch 2/2\n",
            "250/250 [==============================] - 11s 46ms/step - loss: 1.8391 - accuracy: 0.3593 - val_loss: 1.8035 - val_accuracy: 0.3704\n"
          ]
        }
      ]
    },
    {
      "cell_type": "code",
      "metadata": {
        "colab": {
          "base_uri": "https://localhost:8080/",
          "height": 432
        },
        "id": "XhZg7hTqOmVI",
        "outputId": "dc87c6ac-2b5d-44fc-f238-493b3718b05a"
      },
      "source": [
        "import matplotlib.pyplot as plt\n",
        "plt.figure(figsize=[8,6])\n",
        "plt.plot(history.history['loss'],'r',linewidth=3.0)\n",
        "plt.plot(history.history['val_loss'],'b',linewidth=3.0)\n",
        "plt.legend(['Training loss', 'Validation Loss'],fontsize=18)\n",
        "plt.xlabel('Epochs ',fontsize=16)\n",
        "plt.ylabel('Loss',fontsize=16)\n",
        "plt.title('Loss Curves',fontsize=16)"
      ],
      "execution_count": null,
      "outputs": [
        {
          "output_type": "execute_result",
          "data": {
            "text/plain": [
              "Text(0.5, 1.0, 'Loss Curves')"
            ]
          },
          "metadata": {},
          "execution_count": 22
        },
        {
          "output_type": "display_data",
          "data": {
            "image/png": "[encoded data removed]",
            "text/plain": [
              "<Figure size 576x432 with 1 Axes>"
            ]
          },
          "metadata": {}
        }
      ]
    },
    {
      "cell_type": "markdown",
      "metadata": {
        "id": "TdLCjMNAAl1U"
      },
      "source": [
        "# Approach -2 : Using CNN"
      ]
    },
    {
      "cell_type": "markdown",
      "metadata": {
        "id": "aHl7atlQIQ1S"
      },
      "source": [
        "## Change the Datatype to Float and Normalize it"
      ]
    },
    {
      "cell_type": "code",
      "metadata": {
        "id": "k9QWdrxZIQ1S"
      },
      "source": [
        "# Load the data\n",
        "(x_train,y_train),(x_test,y_test)=cifar10.load_data()\n",
        "\n",
        "#Normalize\n",
        "x_train=x_train.astype('float64')/255\n",
        "x_test=x_test.astype('float64')/255"
      ],
      "execution_count": null,
      "outputs": []
    },
    {
      "cell_type": "code",
      "metadata": {
        "colab": {
          "base_uri": "https://localhost:8080/"
        },
        "id": "HfKVxkGNIQ1T",
        "outputId": "38eedaa4-c909-4a54-ae6a-910035b6fb1d"
      },
      "source": [
        "print(y_train.shape)\n",
        "print(y_test.shape)"
      ],
      "execution_count": null,
      "outputs": [
        {
          "output_type": "stream",
          "name": "stdout",
          "text": [
            "(50000, 1)\n",
            "(10000, 1)\n"
          ]
        }
      ]
    },
    {
      "cell_type": "markdown",
      "metadata": {
        "id": "PIwm67YzIQ1U"
      },
      "source": [
        "## Do the one hot Encoding of the Dependent Variable using Keras.utils"
      ]
    },
    {
      "cell_type": "code",
      "metadata": {
        "id": "nxfOBs_WIQ1U"
      },
      "source": [
        "from keras.utils import np_utils\n",
        "from tensorflow.keras.utils import to_categorical"
      ],
      "execution_count": null,
      "outputs": []
    },
    {
      "cell_type": "code",
      "metadata": {
        "id": "Nfq2PcoBIQ1V"
      },
      "source": [
        "num_classes= len(np.unique(y_train))"
      ],
      "execution_count": null,
      "outputs": []
    },
    {
      "cell_type": "code",
      "metadata": {
        "id": "HUkpy3LzIQ1W"
      },
      "source": [
        "y_train= to_categorical(y_train,num_classes)\n",
        "y_test=to_categorical(y_test,num_classes)\n"
      ],
      "execution_count": null,
      "outputs": []
    },
    {
      "cell_type": "markdown",
      "metadata": {
        "id": "lIf4vb8QIQ1W"
      },
      "source": [
        "### Divide the Training Dataset into  validation, Training and Test."
      ]
    },
    {
      "cell_type": "code",
      "metadata": {
        "id": "MkmQQQ3hIQ1W"
      },
      "source": [
        "(y_train, y_valid) = y_train[5000:], y_train[:5000]\n",
        "(x_train, x_valid) = x_train[5000:], x_train[:5000]"
      ],
      "execution_count": null,
      "outputs": []
    },
    {
      "cell_type": "code",
      "metadata": {
        "colab": {
          "base_uri": "https://localhost:8080/"
        },
        "id": "ANfGVuusIQ1X",
        "outputId": "c6d78e0d-09a5-46f1-e7ae-d3d033b2a549"
      },
      "source": [
        "print(y_train.shape)\n",
        "print(x_train.shape)"
      ],
      "execution_count": null,
      "outputs": [
        {
          "output_type": "stream",
          "name": "stdout",
          "text": [
            "(45000, 10)\n",
            "(45000, 32, 32, 3)\n"
          ]
        }
      ]
    },
    {
      "cell_type": "code",
      "metadata": {
        "colab": {
          "base_uri": "https://localhost:8080/"
        },
        "id": "bpBahc2IIQ1X",
        "outputId": "5f957d01-5b9d-4bd9-f610-90b6dd39d79f"
      },
      "source": [
        "print(y_valid.shape)\n",
        "print(x_valid.shape)\n"
      ],
      "execution_count": null,
      "outputs": [
        {
          "output_type": "stream",
          "name": "stdout",
          "text": [
            "(5000, 10)\n",
            "(5000, 32, 32, 3)\n"
          ]
        }
      ]
    },
    {
      "cell_type": "markdown",
      "metadata": {
        "id": "iKi7ba9QIQ1Y"
      },
      "source": [
        "## Build a CNN Architecture with Tensorflow"
      ]
    },
    {
      "cell_type": "code",
      "metadata": {
        "id": "4B_E1oGjCORZ"
      },
      "source": [
        "import tensorflow as tf"
      ],
      "execution_count": null,
      "outputs": []
    },
    {
      "cell_type": "code",
      "metadata": {
        "colab": {
          "base_uri": "https://localhost:8080/"
        },
        "id": "aPCcsEepIQ1Y",
        "outputId": "3597adab-ad86-4a0b-e119-b11af4bbd1e1"
      },
      "source": [
        "del model\n",
        "model= tf.keras.Sequential()\n",
        "\n",
        "model.add(tf.keras.layers.Conv2D(filters=16,kernel_size=3,activation='relu',input_shape=(32,32,3)))\n",
        "model.add(tf.keras.layers.MaxPooling2D(pool_size=2))\n",
        "\n",
        "model.add(tf.keras.layers.Conv2D(filters=16,kernel_size=3,activation='relu'))\n",
        "model.add(tf.keras.layers.MaxPooling2D(pool_size=2))\n",
        "\n",
        "model.add(tf.keras.layers.Conv2D(filters=16,kernel_size=3,activation='relu'))\n",
        "model.add(tf.keras.layers.MaxPooling2D(pool_size=2))\n",
        "\n",
        "model.add(tf.keras.layers.Flatten())\n",
        "model.add(Dense(10, activation='softmax'))\n",
        "\n",
        "model.compile(optimizer='adam',loss=\"categorical_crossentropy\",metrics=['accuracy'])\n",
        "model.summary()"
      ],
      "execution_count": null,
      "outputs": [
        {
          "output_type": "stream",
          "name": "stdout",
          "text": [
            "Model: \"sequential_8\"\n",
            "_________________________________________________________________\n",
            "Layer (type)                 Output Shape              Param #   \n",
            "=================================================================\n",
            "conv2d_18 (Conv2D)           (None, 30, 30, 16)        448       \n",
            "_________________________________________________________________\n",
            "max_pooling2d_18 (MaxPooling (None, 15, 15, 16)        0         \n",
            "_________________________________________________________________\n",
            "conv2d_19 (Conv2D)           (None, 13, 13, 16)        2320      \n",
            "_________________________________________________________________\n",
            "max_pooling2d_19 (MaxPooling (None, 6, 6, 16)          0         \n",
            "_________________________________________________________________\n",
            "conv2d_20 (Conv2D)           (None, 4, 4, 16)          2320      \n",
            "_________________________________________________________________\n",
            "max_pooling2d_20 (MaxPooling (None, 2, 2, 16)          0         \n",
            "_________________________________________________________________\n",
            "flatten_4 (Flatten)          (None, 64)                0         \n",
            "_________________________________________________________________\n",
            "dense_5 (Dense)              (None, 10)                650       \n",
            "=================================================================\n",
            "Total params: 5,738\n",
            "Trainable params: 5,738\n",
            "Non-trainable params: 0\n",
            "_________________________________________________________________\n"
          ]
        }
      ]
    },
    {
      "cell_type": "code",
      "metadata": {
        "colab": {
          "base_uri": "https://localhost:8080/"
        },
        "id": "qIuB3NXgC4-M",
        "outputId": "dcdde495-52ac-40f7-961c-92614039815f"
      },
      "source": [
        "x_train.shape,y_train.shape"
      ],
      "execution_count": null,
      "outputs": [
        {
          "output_type": "execute_result",
          "data": {
            "text/plain": [
              "((45000, 32, 32, 3), (45000, 10))"
            ]
          },
          "metadata": {},
          "execution_count": 55
        }
      ]
    },
    {
      "cell_type": "code",
      "metadata": {
        "colab": {
          "base_uri": "https://localhost:8080/"
        },
        "id": "k8Uz0oGZBzKM",
        "outputId": "4826fa4f-a4c2-41dc-f7eb-7377ca46ebe2"
      },
      "source": [
        "answers=model.fit(x_train,y_train,\n",
        "                  validation_data=(x_valid,y_valid),\n",
        "                  shuffle=True,epochs=2,verbose=2,batch_size=200)"
      ],
      "execution_count": null,
      "outputs": [
        {
          "output_type": "stream",
          "name": "stdout",
          "text": [
            "Epoch 1/2\n",
            "225/225 - 24s - loss: 1.6416 - accuracy: 0.3952 - val_loss: 1.5994 - val_accuracy: 0.4042\n",
            "Epoch 2/2\n",
            "225/225 - 24s - loss: 1.5534 - accuracy: 0.4319 - val_loss: 1.4935 - val_accuracy: 0.4422\n"
          ]
        }
      ]
    },
    {
      "cell_type": "markdown",
      "metadata": {
        "id": "LOzbnSYIIQ1h"
      },
      "source": [
        "### Stack an ANN on top of CNN"
      ]
    },
    {
      "cell_type": "code",
      "metadata": {
        "colab": {
          "base_uri": "https://localhost:8080/"
        },
        "id": "5xx53QCzEgGb",
        "outputId": "04c6658f-bc6c-4448-87b7-a4d46ee691ea"
      },
      "source": [
        "model= tf.keras.Sequential()\n",
        "model.add(tf.keras.layers.Conv2D(filters=16,kernel_size=3,activation='relu',input_shape=(32,32,3)))\n",
        "model.add(tf.keras.layers.MaxPooling2D(pool_size=2))\n",
        "\n",
        "model.add(tf.keras.layers.Conv2D(filters=16,kernel_size=3,activation='relu'))\n",
        "model.add(tf.keras.layers.MaxPooling2D(pool_size=2))\n",
        "\n",
        "model.add(tf.keras.layers.Conv2D(filters=16,kernel_size=3,activation='relu'))\n",
        "model.add(tf.keras.layers.MaxPooling2D(pool_size=2))\n",
        "\n",
        "model.add(tf.keras.layers.Flatten())\n",
        "model.summary()\n",
        "\n",
        "### Stack an ANN on top of CNN\n",
        "\n",
        "model.add(tf.keras.layers.Dense(units=512,activation='relu',kernel_initializer='uniform'))\n",
        "model.add(tf.keras.layers.Dense(units=512,activation='relu',kernel_initializer='uniform'))\n",
        "model.add(tf.keras.layers.Dense(units=512,activation='relu',kernel_initializer='uniform'))\n",
        "\n",
        "model.add(tf.keras.layers.Dense(units=512,activation='relu',kernel_initializer='uniform'))\n",
        "model.add(tf.keras.layers.Dense(units=512,activation='relu',kernel_initializer='uniform'))\n",
        "model.add(tf.keras.layers.Dense(units=512,activation='relu',kernel_initializer='uniform'))\n",
        "\n",
        "model.add(tf.keras.layers.Dense(units=10,activation='softmax',kernel_initializer='uniform'))\n",
        "\n",
        "model.compile(optimizer='adam',loss=\"categorical_crossentropy\",metrics=['accuracy'])\n",
        "\n",
        "model.summary()"
      ],
      "execution_count": null,
      "outputs": [
        {
          "output_type": "stream",
          "name": "stdout",
          "text": [
            "Model: \"sequential_9\"\n",
            "_________________________________________________________________\n",
            "Layer (type)                 Output Shape              Param #   \n",
            "=================================================================\n",
            "conv2d_21 (Conv2D)           (None, 30, 30, 16)        448       \n",
            "_________________________________________________________________\n",
            "max_pooling2d_21 (MaxPooling (None, 15, 15, 16)        0         \n",
            "_________________________________________________________________\n",
            "conv2d_22 (Conv2D)           (None, 13, 13, 16)        2320      \n",
            "_________________________________________________________________\n",
            "max_pooling2d_22 (MaxPooling (None, 6, 6, 16)          0         \n",
            "_________________________________________________________________\n",
            "conv2d_23 (Conv2D)           (None, 4, 4, 16)          2320      \n",
            "_________________________________________________________________\n",
            "max_pooling2d_23 (MaxPooling (None, 2, 2, 16)          0         \n",
            "_________________________________________________________________\n",
            "flatten_5 (Flatten)          (None, 64)                0         \n",
            "=================================================================\n",
            "Total params: 5,088\n",
            "Trainable params: 5,088\n",
            "Non-trainable params: 0\n",
            "_________________________________________________________________\n",
            "Model: \"sequential_9\"\n",
            "_________________________________________________________________\n",
            "Layer (type)                 Output Shape              Param #   \n",
            "=================================================================\n",
            "conv2d_21 (Conv2D)           (None, 30, 30, 16)        448       \n",
            "_________________________________________________________________\n",
            "max_pooling2d_21 (MaxPooling (None, 15, 15, 16)        0         \n",
            "_________________________________________________________________\n",
            "conv2d_22 (Conv2D)           (None, 13, 13, 16)        2320      \n",
            "_________________________________________________________________\n",
            "max_pooling2d_22 (MaxPooling (None, 6, 6, 16)          0         \n",
            "_________________________________________________________________\n",
            "conv2d_23 (Conv2D)           (None, 4, 4, 16)          2320      \n",
            "_________________________________________________________________\n",
            "max_pooling2d_23 (MaxPooling (None, 2, 2, 16)          0         \n",
            "_________________________________________________________________\n",
            "flatten_5 (Flatten)          (None, 64)                0         \n",
            "_________________________________________________________________\n",
            "dense_6 (Dense)              (None, 512)               33280     \n",
            "_________________________________________________________________\n",
            "dense_7 (Dense)              (None, 512)               262656    \n",
            "_________________________________________________________________\n",
            "dense_8 (Dense)              (None, 512)               262656    \n",
            "_________________________________________________________________\n",
            "dense_9 (Dense)              (None, 512)               262656    \n",
            "_________________________________________________________________\n",
            "dense_10 (Dense)             (None, 512)               262656    \n",
            "_________________________________________________________________\n",
            "dense_11 (Dense)             (None, 512)               262656    \n",
            "_________________________________________________________________\n",
            "dense_12 (Dense)             (None, 10)                5130      \n",
            "=================================================================\n",
            "Total params: 1,356,778\n",
            "Trainable params: 1,356,778\n",
            "Non-trainable params: 0\n",
            "_________________________________________________________________\n"
          ]
        }
      ]
    },
    {
      "cell_type": "markdown",
      "metadata": {
        "id": "2imNDJGJIQ1i"
      },
      "source": [
        "### Fit the model"
      ]
    },
    {
      "cell_type": "code",
      "metadata": {
        "colab": {
          "base_uri": "https://localhost:8080/"
        },
        "id": "_jXI9_aPIQ1i",
        "outputId": "8e6a31ef-0948-48c8-e7b5-f9b69fffdae0"
      },
      "source": [
        "answers=model.fit(x_train,y_train,validation_data=(x_valid,y_valid),shuffle=True,epochs=2,verbose=2,batch_size=500)"
      ],
      "execution_count": null,
      "outputs": [
        {
          "output_type": "stream",
          "name": "stdout",
          "text": [
            "Epoch 1/2\n",
            "90/90 - 31s - loss: 2.0492 - accuracy: 0.1882 - val_loss: 1.8892 - val_accuracy: 0.2302\n",
            "Epoch 2/2\n",
            "90/90 - 31s - loss: 1.8243 - accuracy: 0.2700 - val_loss: 1.7288 - val_accuracy: 0.3192\n"
          ]
        }
      ]
    },
    {
      "cell_type": "markdown",
      "metadata": {
        "id": "iiRWlQqDIQ1j"
      },
      "source": [
        "### Evaluate the Results"
      ]
    },
    {
      "cell_type": "code",
      "metadata": {
        "colab": {
          "base_uri": "https://localhost:8080/"
        },
        "id": "LhuJ29CiIQ1j",
        "outputId": "35194761-0e5e-45a4-fa9c-43c2d22e55fe"
      },
      "source": [
        "results=model.evaluate(x_test,y_test)"
      ],
      "execution_count": null,
      "outputs": [
        {
          "output_type": "stream",
          "name": "stdout",
          "text": [
            "313/313 [==============================] - 4s 12ms/step - loss: 1.7195 - accuracy: 0.3229\n"
          ]
        }
      ]
    },
    {
      "cell_type": "code",
      "metadata": {
        "colab": {
          "base_uri": "https://localhost:8080/"
        },
        "id": "tsUoFq0fIQ1j",
        "outputId": "eb67c715-078e-450c-ccce-e80005357f4f"
      },
      "source": [
        "results"
      ],
      "execution_count": null,
      "outputs": [
        {
          "output_type": "execute_result",
          "data": {
            "text/plain": [
              "[1.7194870710372925, 0.3228999972343445]"
            ]
          },
          "metadata": {},
          "execution_count": 62
        }
      ]
    },
    {
      "cell_type": "code",
      "metadata": {
        "colab": {
          "base_uri": "https://localhost:8080/"
        },
        "id": "Mcqb_EtKIQ1j",
        "outputId": "52f057b0-dde8-4f7e-b92a-85c24b514356"
      },
      "source": [
        "answers.history.keys()"
      ],
      "execution_count": null,
      "outputs": [
        {
          "output_type": "execute_result",
          "data": {
            "text/plain": [
              "dict_keys(['loss', 'accuracy', 'val_loss', 'val_accuracy'])"
            ]
          },
          "metadata": {},
          "execution_count": 63
        }
      ]
    },
    {
      "cell_type": "code",
      "metadata": {
        "colab": {
          "base_uri": "https://localhost:8080/",
          "height": 268
        },
        "id": "_rVwanJ-IQ1k",
        "outputId": "1662cf03-0472-47da-f0d9-dd5a82c80b18"
      },
      "source": [
        "plt.plot(answers.history['val_loss'],label='Validation Loss');\n",
        "plt.plot(answers.history['loss'],label='Training Loss');\n",
        "plt.legend();"
      ],
      "execution_count": null,
      "outputs": [
        {
          "output_type": "display_data",
          "data": {
            "image/png": "[encoded data removed]",
            "text/plain": [
              "<Figure size 432x288 with 1 Axes>"
            ]
          },
          "metadata": {}
        }
      ]
    },
    {
      "cell_type": "code",
      "metadata": {
        "colab": {
          "base_uri": "https://localhost:8080/",
          "height": 268
        },
        "id": "3aNT7bD2IQ1k",
        "outputId": "d1c0625a-d51c-48ca-a7cf-a7eaf3455b88"
      },
      "source": [
        "plt.plot(answers.history['val_accuracy'],label='Validation Accuracy');\n",
        "plt.plot(answers.history['accuracy'],label='Training Accuracy');\n",
        "plt.legend;"
      ],
      "execution_count": null,
      "outputs": [
        {
          "output_type": "display_data",
          "data": {
            "image/png": "[encoded data removed]",
            "text/plain": [
              "<Figure size 432x288 with 1 Axes>"
            ]
          },
          "metadata": {}
        }
      ]
    },
    {
      "cell_type": "markdown",
      "metadata": {
        "id": "DUY2Pfq2ExAx"
      },
      "source": [
        "# Alternative Approach\n",
        "https://www.kaggle.com/aayushkubba/cifar-10-analysis-with-a-neural-network"
      ]
    }
  ]
}