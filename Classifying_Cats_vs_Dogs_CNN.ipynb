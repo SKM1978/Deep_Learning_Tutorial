{
  "nbformat": 4,
  "nbformat_minor": 0,
  "metadata": {
    "colab": {
      "name": "Classifying Cats vs. Dogs - CNN.ipynb",
      "provenance": [],
      "collapsed_sections": [],
      "mount_file_id": "1jgsLehf1ASG650xmSFmQQ37nI9WkZ4mG",
      "authorship_tag": "ABX9TyMj3VqMHCoTPgjaoVeFWzRh",
      "include_colab_link": true
    },
    "kernelspec": {
      "name": "python3",
      "display_name": "Python 3"
    },
    "language_info": {
      "name": "python"
    },
    "accelerator": "GPU"
  },
  "cells": [
    {
      "cell_type": "markdown",
      "metadata": {
        "id": "view-in-github",
        "colab_type": "text"
      },
      "source": [
        "<a href=\"https://colab.research.google.com/github/SKM1978/Deep_Learning_Tutorial/blob/master/Classifying_Cats_vs_Dogs_CNN.ipynb\" target=\"_parent\"><img src=\"https://colab.research.google.com/assets/colab-badge.svg\" alt=\"Open In Colab\"/></a>"
      ]
    },
    {
      "cell_type": "markdown",
      "metadata": {
        "id": "6W_IN5G8IGSl"
      },
      "source": [
        "# Importing the libraries"
      ]
    },
    {
      "cell_type": "code",
      "metadata": {
        "id": "xt4eoGVoILHq"
      },
      "source": [
        "import numpy as np\n",
        "import matplotlib.pyplot as plt\n",
        "import seaborn as sns\n",
        "import tensorflow as tf\n",
        "\n",
        "import keras\n",
        "from keras.models import Sequential\n",
        "from keras.layers import Dense, Dropout, Flatten, MaxPool2D, Conv2D, GlobalAveragePooling2D, BatchNormalization\n",
        "from keras.models import Model, load_model\n",
        "\n",
        "from tensorflow.keras.applications.resnet50 import preprocess_input\n"
      ],
      "execution_count": 1,
      "outputs": []
    },
    {
      "cell_type": "markdown",
      "metadata": {
        "id": "H6EzCi2XI0iq"
      },
      "source": [
        "# Uploading the dataset"
      ]
    },
    {
      "cell_type": "markdown",
      "metadata": {
        "id": "x8t3A3C4hM0Y"
      },
      "source": [
        "### Steps in uploading the dataset\n",
        "- Upload in Google Drive\n",
        "- Mount the Google Drive"
      ]
    },
    {
      "cell_type": "code",
      "metadata": {
        "colab": {
          "base_uri": "https://localhost:8080/"
        },
        "id": "-og_n3D5nyLc",
        "outputId": "90c5ca5c-1a15-4591-c2f1-4d51d3c95ea7"
      },
      "source": [
        "# Mounting Google Drive\n",
        "\n",
        "from google.colab import drive\n",
        "drive.mount('/content/drive')"
      ],
      "execution_count": null,
      "outputs": [
        {
          "output_type": "stream",
          "name": "stdout",
          "text": [
            "Drive already mounted at /content/drive; to attempt to forcibly remount, call drive.mount(\"/content/drive\", force_remount=True).\n"
          ]
        }
      ]
    },
    {
      "cell_type": "code",
      "metadata": {
        "id": "z44wmorEZY5_"
      },
      "source": [
        "!pip install -q keras"
      ],
      "execution_count": 2,
      "outputs": []
    },
    {
      "cell_type": "code",
      "metadata": {
        "id": "eyb3Ofdtb-1w"
      },
      "source": [
        "# checking if the installation has happened properly\n",
        "\n",
        "import keras"
      ],
      "execution_count": 3,
      "outputs": []
    },
    {
      "cell_type": "code",
      "metadata": {
        "id": "44hOVVFCcNf8"
      },
      "source": [
        "# Resizing all images\n",
        "\n",
        "IMAGE_SIZE=[224,224]\n",
        "\n",
        "\n",
        "# Path to train and test images\n",
        "\n",
        "train_path='/content/drive/MyDrive/Cats & Dogs - Copy/train'\n",
        "test_path='/content/drive/MyDrive/Cats & Dogs - Copy/test'"
      ],
      "execution_count": 4,
      "outputs": []
    },
    {
      "cell_type": "markdown",
      "metadata": {
        "id": "UIh61Nn9EId7"
      },
      "source": [
        "# Transfer Learning with ResNet-50 model"
      ]
    },
    {
      "cell_type": "code",
      "metadata": {
        "id": "TByE5eeSFZcy",
        "colab": {
          "base_uri": "https://localhost:8080/"
        },
        "outputId": "bf376d76-93fe-439c-b2c9-19e4de345e4f"
      },
      "source": [
        "resnet=tf.keras.applications.ResNet50(input_shape=IMAGE_SIZE+[3], include_top=False, weights='imagenet')\n",
        "\n",
        "# Using resnet model only for feature extraction and not for learning, by freezing all the layers that we don't need\n",
        "for layer in resnet.layers:\n",
        "  layer.trainable=False\n",
        "\n",
        "# Taking the output of the base layers\n",
        "resnet_output=resnet.output\n",
        "\n",
        "# Adding our own layers\n",
        "\n",
        "## Pool Layer\n",
        "x=GlobalAveragePooling2D()(resnet_output)\n",
        "\n",
        "## Flatten Layer\n",
        "x=Flatten()(x)\n",
        "\n",
        "## Batch Normalization\n",
        "x=BatchNormalization()(x)\n",
        "\n",
        "## Fully connected Layer\n",
        "x=Dense(500, activation='relu')(x)\n",
        "\n",
        "## Batch Normalization\n",
        "x=BatchNormalization()(x)\n",
        "\n",
        "## Dropout Layer\n",
        "x=Dropout(0.3)(x)\n",
        "\n",
        "## Batch Normalization\n",
        "x=BatchNormalization()(x)\n",
        "\n",
        "## Outer Layer\n",
        "x=Dense(2, activation='sigmoid')(x)"
      ],
      "execution_count": 5,
      "outputs": [
        {
          "output_type": "stream",
          "name": "stdout",
          "text": [
            "Downloading data from https://storage.googleapis.com/tensorflow/keras-applications/resnet/resnet50_weights_tf_dim_ordering_tf_kernels_notop.h5\n",
            "94773248/94765736 [==============================] - 1s 0us/step\n",
            "94781440/94765736 [==============================] - 1s 0us/step\n"
          ]
        }
      ]
    },
    {
      "cell_type": "code",
      "metadata": {
        "colab": {
          "base_uri": "https://localhost:8080/"
        },
        "id": "w3glLUGbEd7G",
        "outputId": "a6c7a1b7-9341-4f71-8397-01e4d03636db"
      },
      "source": [
        "# Initializing the resnet model\n",
        "\n",
        "rs_model=Model(inputs=resnet.input, outputs=x)\n",
        "\n",
        "rs_model.summary()"
      ],
      "execution_count": 6,
      "outputs": [
        {
          "output_type": "stream",
          "name": "stdout",
          "text": [
            "Model: \"model\"\n",
            "__________________________________________________________________________________________________\n",
            " Layer (type)                   Output Shape         Param #     Connected to                     \n",
            "==================================================================================================\n",
            " input_1 (InputLayer)           [(None, 224, 224, 3  0           []                               \n",
            "                                )]                                                                \n",
            "                                                                                                  \n",
            " conv1_pad (ZeroPadding2D)      (None, 230, 230, 3)  0           ['input_1[0][0]']                \n",
            "                                                                                                  \n",
            " conv1_conv (Conv2D)            (None, 112, 112, 64  9472        ['conv1_pad[0][0]']              \n",
            "                                )                                                                 \n",
            "                                                                                                  \n",
            " conv1_bn (BatchNormalization)  (None, 112, 112, 64  256         ['conv1_conv[0][0]']             \n",
            "                                )                                                                 \n",
            "                                                                                                  \n",
            " conv1_relu (Activation)        (None, 112, 112, 64  0           ['conv1_bn[0][0]']               \n",
            "                                )                                                                 \n",
            "                                                                                                  \n",
            " pool1_pad (ZeroPadding2D)      (None, 114, 114, 64  0           ['conv1_relu[0][0]']             \n",
            "                                )                                                                 \n",
            "                                                                                                  \n",
            " pool1_pool (MaxPooling2D)      (None, 56, 56, 64)   0           ['pool1_pad[0][0]']              \n",
            "                                                                                                  \n",
            " conv2_block1_1_conv (Conv2D)   (None, 56, 56, 64)   4160        ['pool1_pool[0][0]']             \n",
            "                                                                                                  \n",
            " conv2_block1_1_bn (BatchNormal  (None, 56, 56, 64)  256         ['conv2_block1_1_conv[0][0]']    \n",
            " ization)                                                                                         \n",
            "                                                                                                  \n",
            " conv2_block1_1_relu (Activatio  (None, 56, 56, 64)  0           ['conv2_block1_1_bn[0][0]']      \n",
            " n)                                                                                               \n",
            "                                                                                                  \n",
            " conv2_block1_2_conv (Conv2D)   (None, 56, 56, 64)   36928       ['conv2_block1_1_relu[0][0]']    \n",
            "                                                                                                  \n",
            " conv2_block1_2_bn (BatchNormal  (None, 56, 56, 64)  256         ['conv2_block1_2_conv[0][0]']    \n",
            " ization)                                                                                         \n",
            "                                                                                                  \n",
            " conv2_block1_2_relu (Activatio  (None, 56, 56, 64)  0           ['conv2_block1_2_bn[0][0]']      \n",
            " n)                                                                                               \n",
            "                                                                                                  \n",
            " conv2_block1_0_conv (Conv2D)   (None, 56, 56, 256)  16640       ['pool1_pool[0][0]']             \n",
            "                                                                                                  \n",
            " conv2_block1_3_conv (Conv2D)   (None, 56, 56, 256)  16640       ['conv2_block1_2_relu[0][0]']    \n",
            "                                                                                                  \n",
            " conv2_block1_0_bn (BatchNormal  (None, 56, 56, 256)  1024       ['conv2_block1_0_conv[0][0]']    \n",
            " ization)                                                                                         \n",
            "                                                                                                  \n",
            " conv2_block1_3_bn (BatchNormal  (None, 56, 56, 256)  1024       ['conv2_block1_3_conv[0][0]']    \n",
            " ization)                                                                                         \n",
            "                                                                                                  \n",
            " conv2_block1_add (Add)         (None, 56, 56, 256)  0           ['conv2_block1_0_bn[0][0]',      \n",
            "                                                                  'conv2_block1_3_bn[0][0]']      \n",
            "                                                                                                  \n",
            " conv2_block1_out (Activation)  (None, 56, 56, 256)  0           ['conv2_block1_add[0][0]']       \n",
            "                                                                                                  \n",
            " conv2_block2_1_conv (Conv2D)   (None, 56, 56, 64)   16448       ['conv2_block1_out[0][0]']       \n",
            "                                                                                                  \n",
            " conv2_block2_1_bn (BatchNormal  (None, 56, 56, 64)  256         ['conv2_block2_1_conv[0][0]']    \n",
            " ization)                                                                                         \n",
            "                                                                                                  \n",
            " conv2_block2_1_relu (Activatio  (None, 56, 56, 64)  0           ['conv2_block2_1_bn[0][0]']      \n",
            " n)                                                                                               \n",
            "                                                                                                  \n",
            " conv2_block2_2_conv (Conv2D)   (None, 56, 56, 64)   36928       ['conv2_block2_1_relu[0][0]']    \n",
            "                                                                                                  \n",
            " conv2_block2_2_bn (BatchNormal  (None, 56, 56, 64)  256         ['conv2_block2_2_conv[0][0]']    \n",
            " ization)                                                                                         \n",
            "                                                                                                  \n",
            " conv2_block2_2_relu (Activatio  (None, 56, 56, 64)  0           ['conv2_block2_2_bn[0][0]']      \n",
            " n)                                                                                               \n",
            "                                                                                                  \n",
            " conv2_block2_3_conv (Conv2D)   (None, 56, 56, 256)  16640       ['conv2_block2_2_relu[0][0]']    \n",
            "                                                                                                  \n",
            " conv2_block2_3_bn (BatchNormal  (None, 56, 56, 256)  1024       ['conv2_block2_3_conv[0][0]']    \n",
            " ization)                                                                                         \n",
            "                                                                                                  \n",
            " conv2_block2_add (Add)         (None, 56, 56, 256)  0           ['conv2_block1_out[0][0]',       \n",
            "                                                                  'conv2_block2_3_bn[0][0]']      \n",
            "                                                                                                  \n",
            " conv2_block2_out (Activation)  (None, 56, 56, 256)  0           ['conv2_block2_add[0][0]']       \n",
            "                                                                                                  \n",
            " conv2_block3_1_conv (Conv2D)   (None, 56, 56, 64)   16448       ['conv2_block2_out[0][0]']       \n",
            "                                                                                                  \n",
            " conv2_block3_1_bn (BatchNormal  (None, 56, 56, 64)  256         ['conv2_block3_1_conv[0][0]']    \n",
            " ization)                                                                                         \n",
            "                                                                                                  \n",
            " conv2_block3_1_relu (Activatio  (None, 56, 56, 64)  0           ['conv2_block3_1_bn[0][0]']      \n",
            " n)                                                                                               \n",
            "                                                                                                  \n",
            " conv2_block3_2_conv (Conv2D)   (None, 56, 56, 64)   36928       ['conv2_block3_1_relu[0][0]']    \n",
            "                                                                                                  \n",
            " conv2_block3_2_bn (BatchNormal  (None, 56, 56, 64)  256         ['conv2_block3_2_conv[0][0]']    \n",
            " ization)                                                                                         \n",
            "                                                                                                  \n",
            " conv2_block3_2_relu (Activatio  (None, 56, 56, 64)  0           ['conv2_block3_2_bn[0][0]']      \n",
            " n)                                                                                               \n",
            "                                                                                                  \n",
            " conv2_block3_3_conv (Conv2D)   (None, 56, 56, 256)  16640       ['conv2_block3_2_relu[0][0]']    \n",
            "                                                                                                  \n",
            " conv2_block3_3_bn (BatchNormal  (None, 56, 56, 256)  1024       ['conv2_block3_3_conv[0][0]']    \n",
            " ization)                                                                                         \n",
            "                                                                                                  \n",
            " conv2_block3_add (Add)         (None, 56, 56, 256)  0           ['conv2_block2_out[0][0]',       \n",
            "                                                                  'conv2_block3_3_bn[0][0]']      \n",
            "                                                                                                  \n",
            " conv2_block3_out (Activation)  (None, 56, 56, 256)  0           ['conv2_block3_add[0][0]']       \n",
            "                                                                                                  \n",
            " conv3_block1_1_conv (Conv2D)   (None, 28, 28, 128)  32896       ['conv2_block3_out[0][0]']       \n",
            "                                                                                                  \n",
            " conv3_block1_1_bn (BatchNormal  (None, 28, 28, 128)  512        ['conv3_block1_1_conv[0][0]']    \n",
            " ization)                                                                                         \n",
            "                                                                                                  \n",
            " conv3_block1_1_relu (Activatio  (None, 28, 28, 128)  0          ['conv3_block1_1_bn[0][0]']      \n",
            " n)                                                                                               \n",
            "                                                                                                  \n",
            " conv3_block1_2_conv (Conv2D)   (None, 28, 28, 128)  147584      ['conv3_block1_1_relu[0][0]']    \n",
            "                                                                                                  \n",
            " conv3_block1_2_bn (BatchNormal  (None, 28, 28, 128)  512        ['conv3_block1_2_conv[0][0]']    \n",
            " ization)                                                                                         \n",
            "                                                                                                  \n",
            " conv3_block1_2_relu (Activatio  (None, 28, 28, 128)  0          ['conv3_block1_2_bn[0][0]']      \n",
            " n)                                                                                               \n",
            "                                                                                                  \n",
            " conv3_block1_0_conv (Conv2D)   (None, 28, 28, 512)  131584      ['conv2_block3_out[0][0]']       \n",
            "                                                                                                  \n",
            " conv3_block1_3_conv (Conv2D)   (None, 28, 28, 512)  66048       ['conv3_block1_2_relu[0][0]']    \n",
            "                                                                                                  \n",
            " conv3_block1_0_bn (BatchNormal  (None, 28, 28, 512)  2048       ['conv3_block1_0_conv[0][0]']    \n",
            " ization)                                                                                         \n",
            "                                                                                                  \n",
            " conv3_block1_3_bn (BatchNormal  (None, 28, 28, 512)  2048       ['conv3_block1_3_conv[0][0]']    \n",
            " ization)                                                                                         \n",
            "                                                                                                  \n",
            " conv3_block1_add (Add)         (None, 28, 28, 512)  0           ['conv3_block1_0_bn[0][0]',      \n",
            "                                                                  'conv3_block1_3_bn[0][0]']      \n",
            "                                                                                                  \n",
            " conv3_block1_out (Activation)  (None, 28, 28, 512)  0           ['conv3_block1_add[0][0]']       \n",
            "                                                                                                  \n",
            " conv3_block2_1_conv (Conv2D)   (None, 28, 28, 128)  65664       ['conv3_block1_out[0][0]']       \n",
            "                                                                                                  \n",
            " conv3_block2_1_bn (BatchNormal  (None, 28, 28, 128)  512        ['conv3_block2_1_conv[0][0]']    \n",
            " ization)                                                                                         \n",
            "                                                                                                  \n",
            " conv3_block2_1_relu (Activatio  (None, 28, 28, 128)  0          ['conv3_block2_1_bn[0][0]']      \n",
            " n)                                                                                               \n",
            "                                                                                                  \n",
            " conv3_block2_2_conv (Conv2D)   (None, 28, 28, 128)  147584      ['conv3_block2_1_relu[0][0]']    \n",
            "                                                                                                  \n",
            " conv3_block2_2_bn (BatchNormal  (None, 28, 28, 128)  512        ['conv3_block2_2_conv[0][0]']    \n",
            " ization)                                                                                         \n",
            "                                                                                                  \n",
            " conv3_block2_2_relu (Activatio  (None, 28, 28, 128)  0          ['conv3_block2_2_bn[0][0]']      \n",
            " n)                                                                                               \n",
            "                                                                                                  \n",
            " conv3_block2_3_conv (Conv2D)   (None, 28, 28, 512)  66048       ['conv3_block2_2_relu[0][0]']    \n",
            "                                                                                                  \n",
            " conv3_block2_3_bn (BatchNormal  (None, 28, 28, 512)  2048       ['conv3_block2_3_conv[0][0]']    \n",
            " ization)                                                                                         \n",
            "                                                                                                  \n",
            " conv3_block2_add (Add)         (None, 28, 28, 512)  0           ['conv3_block1_out[0][0]',       \n",
            "                                                                  'conv3_block2_3_bn[0][0]']      \n",
            "                                                                                                  \n",
            " conv3_block2_out (Activation)  (None, 28, 28, 512)  0           ['conv3_block2_add[0][0]']       \n",
            "                                                                                                  \n",
            " conv3_block3_1_conv (Conv2D)   (None, 28, 28, 128)  65664       ['conv3_block2_out[0][0]']       \n",
            "                                                                                                  \n",
            " conv3_block3_1_bn (BatchNormal  (None, 28, 28, 128)  512        ['conv3_block3_1_conv[0][0]']    \n",
            " ization)                                                                                         \n",
            "                                                                                                  \n",
            " conv3_block3_1_relu (Activatio  (None, 28, 28, 128)  0          ['conv3_block3_1_bn[0][0]']      \n",
            " n)                                                                                               \n",
            "                                                                                                  \n",
            " conv3_block3_2_conv (Conv2D)   (None, 28, 28, 128)  147584      ['conv3_block3_1_relu[0][0]']    \n",
            "                                                                                                  \n",
            " conv3_block3_2_bn (BatchNormal  (None, 28, 28, 128)  512        ['conv3_block3_2_conv[0][0]']    \n",
            " ization)                                                                                         \n",
            "                                                                                                  \n",
            " conv3_block3_2_relu (Activatio  (None, 28, 28, 128)  0          ['conv3_block3_2_bn[0][0]']      \n",
            " n)                                                                                               \n",
            "                                                                                                  \n",
            " conv3_block3_3_conv (Conv2D)   (None, 28, 28, 512)  66048       ['conv3_block3_2_relu[0][0]']    \n",
            "                                                                                                  \n",
            " conv3_block3_3_bn (BatchNormal  (None, 28, 28, 512)  2048       ['conv3_block3_3_conv[0][0]']    \n",
            " ization)                                                                                         \n",
            "                                                                                                  \n",
            " conv3_block3_add (Add)         (None, 28, 28, 512)  0           ['conv3_block2_out[0][0]',       \n",
            "                                                                  'conv3_block3_3_bn[0][0]']      \n",
            "                                                                                                  \n",
            " conv3_block3_out (Activation)  (None, 28, 28, 512)  0           ['conv3_block3_add[0][0]']       \n",
            "                                                                                                  \n",
            " conv3_block4_1_conv (Conv2D)   (None, 28, 28, 128)  65664       ['conv3_block3_out[0][0]']       \n",
            "                                                                                                  \n",
            " conv3_block4_1_bn (BatchNormal  (None, 28, 28, 128)  512        ['conv3_block4_1_conv[0][0]']    \n",
            " ization)                                                                                         \n",
            "                                                                                                  \n",
            " conv3_block4_1_relu (Activatio  (None, 28, 28, 128)  0          ['conv3_block4_1_bn[0][0]']      \n",
            " n)                                                                                               \n",
            "                                                                                                  \n",
            " conv3_block4_2_conv (Conv2D)   (None, 28, 28, 128)  147584      ['conv3_block4_1_relu[0][0]']    \n",
            "                                                                                                  \n",
            " conv3_block4_2_bn (BatchNormal  (None, 28, 28, 128)  512        ['conv3_block4_2_conv[0][0]']    \n",
            " ization)                                                                                         \n",
            "                                                                                                  \n",
            " conv3_block4_2_relu (Activatio  (None, 28, 28, 128)  0          ['conv3_block4_2_bn[0][0]']      \n",
            " n)                                                                                               \n",
            "                                                                                                  \n",
            " conv3_block4_3_conv (Conv2D)   (None, 28, 28, 512)  66048       ['conv3_block4_2_relu[0][0]']    \n",
            "                                                                                                  \n",
            " conv3_block4_3_bn (BatchNormal  (None, 28, 28, 512)  2048       ['conv3_block4_3_conv[0][0]']    \n",
            " ization)                                                                                         \n",
            "                                                                                                  \n",
            " conv3_block4_add (Add)         (None, 28, 28, 512)  0           ['conv3_block3_out[0][0]',       \n",
            "                                                                  'conv3_block4_3_bn[0][0]']      \n",
            "                                                                                                  \n",
            " conv3_block4_out (Activation)  (None, 28, 28, 512)  0           ['conv3_block4_add[0][0]']       \n",
            "                                                                                                  \n",
            " conv4_block1_1_conv (Conv2D)   (None, 14, 14, 256)  131328      ['conv3_block4_out[0][0]']       \n",
            "                                                                                                  \n",
            " conv4_block1_1_bn (BatchNormal  (None, 14, 14, 256)  1024       ['conv4_block1_1_conv[0][0]']    \n",
            " ization)                                                                                         \n",
            "                                                                                                  \n",
            " conv4_block1_1_relu (Activatio  (None, 14, 14, 256)  0          ['conv4_block1_1_bn[0][0]']      \n",
            " n)                                                                                               \n",
            "                                                                                                  \n",
            " conv4_block1_2_conv (Conv2D)   (None, 14, 14, 256)  590080      ['conv4_block1_1_relu[0][0]']    \n",
            "                                                                                                  \n",
            " conv4_block1_2_bn (BatchNormal  (None, 14, 14, 256)  1024       ['conv4_block1_2_conv[0][0]']    \n",
            " ization)                                                                                         \n",
            "                                                                                                  \n",
            " conv4_block1_2_relu (Activatio  (None, 14, 14, 256)  0          ['conv4_block1_2_bn[0][0]']      \n",
            " n)                                                                                               \n",
            "                                                                                                  \n",
            " conv4_block1_0_conv (Conv2D)   (None, 14, 14, 1024  525312      ['conv3_block4_out[0][0]']       \n",
            "                                )                                                                 \n",
            "                                                                                                  \n",
            " conv4_block1_3_conv (Conv2D)   (None, 14, 14, 1024  263168      ['conv4_block1_2_relu[0][0]']    \n",
            "                                )                                                                 \n",
            "                                                                                                  \n",
            " conv4_block1_0_bn (BatchNormal  (None, 14, 14, 1024  4096       ['conv4_block1_0_conv[0][0]']    \n",
            " ization)                       )                                                                 \n",
            "                                                                                                  \n",
            " conv4_block1_3_bn (BatchNormal  (None, 14, 14, 1024  4096       ['conv4_block1_3_conv[0][0]']    \n",
            " ization)                       )                                                                 \n",
            "                                                                                                  \n",
            " conv4_block1_add (Add)         (None, 14, 14, 1024  0           ['conv4_block1_0_bn[0][0]',      \n",
            "                                )                                 'conv4_block1_3_bn[0][0]']      \n",
            "                                                                                                  \n",
            " conv4_block1_out (Activation)  (None, 14, 14, 1024  0           ['conv4_block1_add[0][0]']       \n",
            "                                )                                                                 \n",
            "                                                                                                  \n",
            " conv4_block2_1_conv (Conv2D)   (None, 14, 14, 256)  262400      ['conv4_block1_out[0][0]']       \n",
            "                                                                                                  \n",
            " conv4_block2_1_bn (BatchNormal  (None, 14, 14, 256)  1024       ['conv4_block2_1_conv[0][0]']    \n",
            " ization)                                                                                         \n",
            "                                                                                                  \n",
            " conv4_block2_1_relu (Activatio  (None, 14, 14, 256)  0          ['conv4_block2_1_bn[0][0]']      \n",
            " n)                                                                                               \n",
            "                                                                                                  \n",
            " conv4_block2_2_conv (Conv2D)   (None, 14, 14, 256)  590080      ['conv4_block2_1_relu[0][0]']    \n",
            "                                                                                                  \n",
            " conv4_block2_2_bn (BatchNormal  (None, 14, 14, 256)  1024       ['conv4_block2_2_conv[0][0]']    \n",
            " ization)                                                                                         \n",
            "                                                                                                  \n",
            " conv4_block2_2_relu (Activatio  (None, 14, 14, 256)  0          ['conv4_block2_2_bn[0][0]']      \n",
            " n)                                                                                               \n",
            "                                                                                                  \n",
            " conv4_block2_3_conv (Conv2D)   (None, 14, 14, 1024  263168      ['conv4_block2_2_relu[0][0]']    \n",
            "                                )                                                                 \n",
            "                                                                                                  \n",
            " conv4_block2_3_bn (BatchNormal  (None, 14, 14, 1024  4096       ['conv4_block2_3_conv[0][0]']    \n",
            " ization)                       )                                                                 \n",
            "                                                                                                  \n",
            " conv4_block2_add (Add)         (None, 14, 14, 1024  0           ['conv4_block1_out[0][0]',       \n",
            "                                )                                 'conv4_block2_3_bn[0][0]']      \n",
            "                                                                                                  \n",
            " conv4_block2_out (Activation)  (None, 14, 14, 1024  0           ['conv4_block2_add[0][0]']       \n",
            "                                )                                                                 \n",
            "                                                                                                  \n",
            " conv4_block3_1_conv (Conv2D)   (None, 14, 14, 256)  262400      ['conv4_block2_out[0][0]']       \n",
            "                                                                                                  \n",
            " conv4_block3_1_bn (BatchNormal  (None, 14, 14, 256)  1024       ['conv4_block3_1_conv[0][0]']    \n",
            " ization)                                                                                         \n",
            "                                                                                                  \n",
            " conv4_block3_1_relu (Activatio  (None, 14, 14, 256)  0          ['conv4_block3_1_bn[0][0]']      \n",
            " n)                                                                                               \n",
            "                                                                                                  \n",
            " conv4_block3_2_conv (Conv2D)   (None, 14, 14, 256)  590080      ['conv4_block3_1_relu[0][0]']    \n",
            "                                                                                                  \n",
            " conv4_block3_2_bn (BatchNormal  (None, 14, 14, 256)  1024       ['conv4_block3_2_conv[0][0]']    \n",
            " ization)                                                                                         \n",
            "                                                                                                  \n",
            " conv4_block3_2_relu (Activatio  (None, 14, 14, 256)  0          ['conv4_block3_2_bn[0][0]']      \n",
            " n)                                                                                               \n",
            "                                                                                                  \n",
            " conv4_block3_3_conv (Conv2D)   (None, 14, 14, 1024  263168      ['conv4_block3_2_relu[0][0]']    \n",
            "                                )                                                                 \n",
            "                                                                                                  \n",
            " conv4_block3_3_bn (BatchNormal  (None, 14, 14, 1024  4096       ['conv4_block3_3_conv[0][0]']    \n",
            " ization)                       )                                                                 \n",
            "                                                                                                  \n",
            " conv4_block3_add (Add)         (None, 14, 14, 1024  0           ['conv4_block2_out[0][0]',       \n",
            "                                )                                 'conv4_block3_3_bn[0][0]']      \n",
            "                                                                                                  \n",
            " conv4_block3_out (Activation)  (None, 14, 14, 1024  0           ['conv4_block3_add[0][0]']       \n",
            "                                )                                                                 \n",
            "                                                                                                  \n",
            " conv4_block4_1_conv (Conv2D)   (None, 14, 14, 256)  262400      ['conv4_block3_out[0][0]']       \n",
            "                                                                                                  \n",
            " conv4_block4_1_bn (BatchNormal  (None, 14, 14, 256)  1024       ['conv4_block4_1_conv[0][0]']    \n",
            " ization)                                                                                         \n",
            "                                                                                                  \n",
            " conv4_block4_1_relu (Activatio  (None, 14, 14, 256)  0          ['conv4_block4_1_bn[0][0]']      \n",
            " n)                                                                                               \n",
            "                                                                                                  \n",
            " conv4_block4_2_conv (Conv2D)   (None, 14, 14, 256)  590080      ['conv4_block4_1_relu[0][0]']    \n",
            "                                                                                                  \n",
            " conv4_block4_2_bn (BatchNormal  (None, 14, 14, 256)  1024       ['conv4_block4_2_conv[0][0]']    \n",
            " ization)                                                                                         \n",
            "                                                                                                  \n",
            " conv4_block4_2_relu (Activatio  (None, 14, 14, 256)  0          ['conv4_block4_2_bn[0][0]']      \n",
            " n)                                                                                               \n",
            "                                                                                                  \n",
            " conv4_block4_3_conv (Conv2D)   (None, 14, 14, 1024  263168      ['conv4_block4_2_relu[0][0]']    \n",
            "                                )                                                                 \n",
            "                                                                                                  \n",
            " conv4_block4_3_bn (BatchNormal  (None, 14, 14, 1024  4096       ['conv4_block4_3_conv[0][0]']    \n",
            " ization)                       )                                                                 \n",
            "                                                                                                  \n",
            " conv4_block4_add (Add)         (None, 14, 14, 1024  0           ['conv4_block3_out[0][0]',       \n",
            "                                )                                 'conv4_block4_3_bn[0][0]']      \n",
            "                                                                                                  \n",
            " conv4_block4_out (Activation)  (None, 14, 14, 1024  0           ['conv4_block4_add[0][0]']       \n",
            "                                )                                                                 \n",
            "                                                                                                  \n",
            " conv4_block5_1_conv (Conv2D)   (None, 14, 14, 256)  262400      ['conv4_block4_out[0][0]']       \n",
            "                                                                                                  \n",
            " conv4_block5_1_bn (BatchNormal  (None, 14, 14, 256)  1024       ['conv4_block5_1_conv[0][0]']    \n",
            " ization)                                                                                         \n",
            "                                                                                                  \n",
            " conv4_block5_1_relu (Activatio  (None, 14, 14, 256)  0          ['conv4_block5_1_bn[0][0]']      \n",
            " n)                                                                                               \n",
            "                                                                                                  \n",
            " conv4_block5_2_conv (Conv2D)   (None, 14, 14, 256)  590080      ['conv4_block5_1_relu[0][0]']    \n",
            "                                                                                                  \n",
            " conv4_block5_2_bn (BatchNormal  (None, 14, 14, 256)  1024       ['conv4_block5_2_conv[0][0]']    \n",
            " ization)                                                                                         \n",
            "                                                                                                  \n",
            " conv4_block5_2_relu (Activatio  (None, 14, 14, 256)  0          ['conv4_block5_2_bn[0][0]']      \n",
            " n)                                                                                               \n",
            "                                                                                                  \n",
            " conv4_block5_3_conv (Conv2D)   (None, 14, 14, 1024  263168      ['conv4_block5_2_relu[0][0]']    \n",
            "                                )                                                                 \n",
            "                                                                                                  \n",
            " conv4_block5_3_bn (BatchNormal  (None, 14, 14, 1024  4096       ['conv4_block5_3_conv[0][0]']    \n",
            " ization)                       )                                                                 \n",
            "                                                                                                  \n",
            " conv4_block5_add (Add)         (None, 14, 14, 1024  0           ['conv4_block4_out[0][0]',       \n",
            "                                )                                 'conv4_block5_3_bn[0][0]']      \n",
            "                                                                                                  \n",
            " conv4_block5_out (Activation)  (None, 14, 14, 1024  0           ['conv4_block5_add[0][0]']       \n",
            "                                )                                                                 \n",
            "                                                                                                  \n",
            " conv4_block6_1_conv (Conv2D)   (None, 14, 14, 256)  262400      ['conv4_block5_out[0][0]']       \n",
            "                                                                                                  \n",
            " conv4_block6_1_bn (BatchNormal  (None, 14, 14, 256)  1024       ['conv4_block6_1_conv[0][0]']    \n",
            " ization)                                                                                         \n",
            "                                                                                                  \n",
            " conv4_block6_1_relu (Activatio  (None, 14, 14, 256)  0          ['conv4_block6_1_bn[0][0]']      \n",
            " n)                                                                                               \n",
            "                                                                                                  \n",
            " conv4_block6_2_conv (Conv2D)   (None, 14, 14, 256)  590080      ['conv4_block6_1_relu[0][0]']    \n",
            "                                                                                                  \n",
            " conv4_block6_2_bn (BatchNormal  (None, 14, 14, 256)  1024       ['conv4_block6_2_conv[0][0]']    \n",
            " ization)                                                                                         \n",
            "                                                                                                  \n",
            " conv4_block6_2_relu (Activatio  (None, 14, 14, 256)  0          ['conv4_block6_2_bn[0][0]']      \n",
            " n)                                                                                               \n",
            "                                                                                                  \n",
            " conv4_block6_3_conv (Conv2D)   (None, 14, 14, 1024  263168      ['conv4_block6_2_relu[0][0]']    \n",
            "                                )                                                                 \n",
            "                                                                                                  \n",
            " conv4_block6_3_bn (BatchNormal  (None, 14, 14, 1024  4096       ['conv4_block6_3_conv[0][0]']    \n",
            " ization)                       )                                                                 \n",
            "                                                                                                  \n",
            " conv4_block6_add (Add)         (None, 14, 14, 1024  0           ['conv4_block5_out[0][0]',       \n",
            "                                )                                 'conv4_block6_3_bn[0][0]']      \n",
            "                                                                                                  \n",
            " conv4_block6_out (Activation)  (None, 14, 14, 1024  0           ['conv4_block6_add[0][0]']       \n",
            "                                )                                                                 \n",
            "                                                                                                  \n",
            " conv5_block1_1_conv (Conv2D)   (None, 7, 7, 512)    524800      ['conv4_block6_out[0][0]']       \n",
            "                                                                                                  \n",
            " conv5_block1_1_bn (BatchNormal  (None, 7, 7, 512)   2048        ['conv5_block1_1_conv[0][0]']    \n",
            " ization)                                                                                         \n",
            "                                                                                                  \n",
            " conv5_block1_1_relu (Activatio  (None, 7, 7, 512)   0           ['conv5_block1_1_bn[0][0]']      \n",
            " n)                                                                                               \n",
            "                                                                                                  \n",
            " conv5_block1_2_conv (Conv2D)   (None, 7, 7, 512)    2359808     ['conv5_block1_1_relu[0][0]']    \n",
            "                                                                                                  \n",
            " conv5_block1_2_bn (BatchNormal  (None, 7, 7, 512)   2048        ['conv5_block1_2_conv[0][0]']    \n",
            " ization)                                                                                         \n",
            "                                                                                                  \n",
            " conv5_block1_2_relu (Activatio  (None, 7, 7, 512)   0           ['conv5_block1_2_bn[0][0]']      \n",
            " n)                                                                                               \n",
            "                                                                                                  \n",
            " conv5_block1_0_conv (Conv2D)   (None, 7, 7, 2048)   2099200     ['conv4_block6_out[0][0]']       \n",
            "                                                                                                  \n",
            " conv5_block1_3_conv (Conv2D)   (None, 7, 7, 2048)   1050624     ['conv5_block1_2_relu[0][0]']    \n",
            "                                                                                                  \n",
            " conv5_block1_0_bn (BatchNormal  (None, 7, 7, 2048)  8192        ['conv5_block1_0_conv[0][0]']    \n",
            " ization)                                                                                         \n",
            "                                                                                                  \n",
            " conv5_block1_3_bn (BatchNormal  (None, 7, 7, 2048)  8192        ['conv5_block1_3_conv[0][0]']    \n",
            " ization)                                                                                         \n",
            "                                                                                                  \n",
            " conv5_block1_add (Add)         (None, 7, 7, 2048)   0           ['conv5_block1_0_bn[0][0]',      \n",
            "                                                                  'conv5_block1_3_bn[0][0]']      \n",
            "                                                                                                  \n",
            " conv5_block1_out (Activation)  (None, 7, 7, 2048)   0           ['conv5_block1_add[0][0]']       \n",
            "                                                                                                  \n",
            " conv5_block2_1_conv (Conv2D)   (None, 7, 7, 512)    1049088     ['conv5_block1_out[0][0]']       \n",
            "                                                                                                  \n",
            " conv5_block2_1_bn (BatchNormal  (None, 7, 7, 512)   2048        ['conv5_block2_1_conv[0][0]']    \n",
            " ization)                                                                                         \n",
            "                                                                                                  \n",
            " conv5_block2_1_relu (Activatio  (None, 7, 7, 512)   0           ['conv5_block2_1_bn[0][0]']      \n",
            " n)                                                                                               \n",
            "                                                                                                  \n",
            " conv5_block2_2_conv (Conv2D)   (None, 7, 7, 512)    2359808     ['conv5_block2_1_relu[0][0]']    \n",
            "                                                                                                  \n",
            " conv5_block2_2_bn (BatchNormal  (None, 7, 7, 512)   2048        ['conv5_block2_2_conv[0][0]']    \n",
            " ization)                                                                                         \n",
            "                                                                                                  \n",
            " conv5_block2_2_relu (Activatio  (None, 7, 7, 512)   0           ['conv5_block2_2_bn[0][0]']      \n",
            " n)                                                                                               \n",
            "                                                                                                  \n",
            " conv5_block2_3_conv (Conv2D)   (None, 7, 7, 2048)   1050624     ['conv5_block2_2_relu[0][0]']    \n",
            "                                                                                                  \n",
            " conv5_block2_3_bn (BatchNormal  (None, 7, 7, 2048)  8192        ['conv5_block2_3_conv[0][0]']    \n",
            " ization)                                                                                         \n",
            "                                                                                                  \n",
            " conv5_block2_add (Add)         (None, 7, 7, 2048)   0           ['conv5_block1_out[0][0]',       \n",
            "                                                                  'conv5_block2_3_bn[0][0]']      \n",
            "                                                                                                  \n",
            " conv5_block2_out (Activation)  (None, 7, 7, 2048)   0           ['conv5_block2_add[0][0]']       \n",
            "                                                                                                  \n",
            " conv5_block3_1_conv (Conv2D)   (None, 7, 7, 512)    1049088     ['conv5_block2_out[0][0]']       \n",
            "                                                                                                  \n",
            " conv5_block3_1_bn (BatchNormal  (None, 7, 7, 512)   2048        ['conv5_block3_1_conv[0][0]']    \n",
            " ization)                                                                                         \n",
            "                                                                                                  \n",
            " conv5_block3_1_relu (Activatio  (None, 7, 7, 512)   0           ['conv5_block3_1_bn[0][0]']      \n",
            " n)                                                                                               \n",
            "                                                                                                  \n",
            " conv5_block3_2_conv (Conv2D)   (None, 7, 7, 512)    2359808     ['conv5_block3_1_relu[0][0]']    \n",
            "                                                                                                  \n",
            " conv5_block3_2_bn (BatchNormal  (None, 7, 7, 512)   2048        ['conv5_block3_2_conv[0][0]']    \n",
            " ization)                                                                                         \n",
            "                                                                                                  \n",
            " conv5_block3_2_relu (Activatio  (None, 7, 7, 512)   0           ['conv5_block3_2_bn[0][0]']      \n",
            " n)                                                                                               \n",
            "                                                                                                  \n",
            " conv5_block3_3_conv (Conv2D)   (None, 7, 7, 2048)   1050624     ['conv5_block3_2_relu[0][0]']    \n",
            "                                                                                                  \n",
            " conv5_block3_3_bn (BatchNormal  (None, 7, 7, 2048)  8192        ['conv5_block3_3_conv[0][0]']    \n",
            " ization)                                                                                         \n",
            "                                                                                                  \n",
            " conv5_block3_add (Add)         (None, 7, 7, 2048)   0           ['conv5_block2_out[0][0]',       \n",
            "                                                                  'conv5_block3_3_bn[0][0]']      \n",
            "                                                                                                  \n",
            " conv5_block3_out (Activation)  (None, 7, 7, 2048)   0           ['conv5_block3_add[0][0]']       \n",
            "                                                                                                  \n",
            " global_average_pooling2d (Glob  (None, 2048)        0           ['conv5_block3_out[0][0]']       \n",
            " alAveragePooling2D)                                                                              \n",
            "                                                                                                  \n",
            " flatten (Flatten)              (None, 2048)         0           ['global_average_pooling2d[0][0]'\n",
            "                                                                 ]                                \n",
            "                                                                                                  \n",
            " batch_normalization (BatchNorm  (None, 2048)        8192        ['flatten[0][0]']                \n",
            " alization)                                                                                       \n",
            "                                                                                                  \n",
            " dense (Dense)                  (None, 500)          1024500     ['batch_normalization[0][0]']    \n",
            "                                                                                                  \n",
            " batch_normalization_1 (BatchNo  (None, 500)         2000        ['dense[0][0]']                  \n",
            " rmalization)                                                                                     \n",
            "                                                                                                  \n",
            " dropout (Dropout)              (None, 500)          0           ['batch_normalization_1[0][0]']  \n",
            "                                                                                                  \n",
            " batch_normalization_2 (BatchNo  (None, 500)         2000        ['dropout[0][0]']                \n",
            " rmalization)                                                                                     \n",
            "                                                                                                  \n",
            " dense_1 (Dense)                (None, 2)            1002        ['batch_normalization_2[0][0]']  \n",
            "                                                                                                  \n",
            "==================================================================================================\n",
            "Total params: 24,625,406\n",
            "Trainable params: 1,031,598\n",
            "Non-trainable params: 23,593,808\n",
            "__________________________________________________________________________________________________\n"
          ]
        }
      ]
    },
    {
      "cell_type": "code",
      "metadata": {
        "id": "dlPv3wqHIGRw"
      },
      "source": [
        "rs_model.compile(optimizer='adam', loss='binary_crossentropy', metrics=['accuracy'])"
      ],
      "execution_count": 7,
      "outputs": []
    },
    {
      "cell_type": "markdown",
      "metadata": {
        "id": "YLclOQNzJnSW"
      },
      "source": [
        "### Image Generator and Augmentation "
      ]
    },
    {
      "cell_type": "code",
      "metadata": {
        "id": "eEsjcJuCJujC"
      },
      "source": [
        "# Using the ImageDataGenerator to import images from the dataset\n",
        "\n",
        "from tensorflow.keras.preprocessing.image import ImageDataGenerator\n",
        "\n",
        "train_datagen=ImageDataGenerator(rescale=1/255.0, shear_range=0.2, zoom_range=0.2, horizontal_flip=True, vertical_flip=True)\n",
        "test_datagen=ImageDataGenerator(rescale=1/255.0)"
      ],
      "execution_count": 8,
      "outputs": []
    },
    {
      "cell_type": "code",
      "metadata": {
        "colab": {
          "base_uri": "https://localhost:8080/"
        },
        "id": "G8cH_TpiEbgG",
        "outputId": "de9b7706-bcae-4df9-a1b3-70dc712fba1a"
      },
      "source": [
        "# Make sure you provide the same target size as initialied for the image size\n",
        "\n",
        "train_set=train_datagen.flow_from_directory('/content/drive/MyDrive/Cats & Dogs - Copy/train', target_size=(224,224), class_mode='categorical', batch_size=32)\n",
        "test_set=test_datagen.flow_from_directory('/content/drive/MyDrive/Cats & Dogs - Copy/test', target_size=(224,224), class_mode='categorical', batch_size=32)"
      ],
      "execution_count": 9,
      "outputs": [
        {
          "output_type": "stream",
          "name": "stdout",
          "text": [
            "Found 2002 images belonging to 2 classes.\n",
            "Found 969 images belonging to 2 classes.\n"
          ]
        }
      ]
    },
    {
      "cell_type": "markdown",
      "metadata": {
        "id": "k4j4OzQRL8kK"
      },
      "source": [
        "### Fitting the model"
      ]
    },
    {
      "cell_type": "code",
      "metadata": {
        "colab": {
          "base_uri": "https://localhost:8080/"
        },
        "id": "tKfeLwMYL9_D",
        "outputId": "25106d78-3125-48ea-c6a7-babf8b98bec2"
      },
      "source": [
        "result=rs_model.fit_generator(train_set, validation_data=test_set, epochs=100, steps_per_epoch=len(train_set), validation_steps=len(test_set))"
      ],
      "execution_count": 12,
      "outputs": [
        {
          "metadata": {
            "tags": null
          },
          "name": "stderr",
          "output_type": "stream",
          "text": [
            "/usr/local/lib/python3.7/dist-packages/ipykernel_launcher.py:1: UserWarning: `Model.fit_generator` is deprecated and will be removed in a future version. Please use `Model.fit`, which supports generators.\n",
            "  \"\"\"Entry point for launching an IPython kernel.\n"
          ]
        },
        {
          "output_type": "stream",
          "name": "stdout",
          "text": [
            "Epoch 1/100\n",
            "63/63 [==============================] - 39s 617ms/step - loss: 0.6029 - accuracy: 0.6893 - val_loss: 0.5799 - val_accuracy: 0.6791\n",
            "Epoch 2/100\n",
            "63/63 [==============================] - 39s 620ms/step - loss: 0.6025 - accuracy: 0.6903 - val_loss: 0.5892 - val_accuracy: 0.6708\n",
            "Epoch 3/100\n",
            "63/63 [==============================] - 39s 622ms/step - loss: 0.6162 - accuracy: 0.6723 - val_loss: 0.5774 - val_accuracy: 0.6914\n",
            "Epoch 4/100\n",
            "63/63 [==============================] - 39s 619ms/step - loss: 0.5954 - accuracy: 0.6948 - val_loss: 0.5961 - val_accuracy: 0.6739\n",
            "Epoch 5/100\n",
            "63/63 [==============================] - 39s 622ms/step - loss: 0.5917 - accuracy: 0.6983 - val_loss: 0.5713 - val_accuracy: 0.6904\n",
            "Epoch 6/100\n",
            "63/63 [==============================] - 39s 620ms/step - loss: 0.5976 - accuracy: 0.6888 - val_loss: 0.6092 - val_accuracy: 0.6821\n",
            "Epoch 7/100\n",
            "63/63 [==============================] - 39s 622ms/step - loss: 0.5895 - accuracy: 0.6898 - val_loss: 0.6203 - val_accuracy: 0.6636\n",
            "Epoch 8/100\n",
            "63/63 [==============================] - 40s 628ms/step - loss: 0.5890 - accuracy: 0.6903 - val_loss: 0.5943 - val_accuracy: 0.6821\n",
            "Epoch 9/100\n",
            "63/63 [==============================] - 39s 614ms/step - loss: 0.5854 - accuracy: 0.6933 - val_loss: 0.6248 - val_accuracy: 0.6471\n",
            "Epoch 10/100\n",
            "63/63 [==============================] - 39s 621ms/step - loss: 0.5948 - accuracy: 0.6868 - val_loss: 0.5905 - val_accuracy: 0.6760\n",
            "Epoch 11/100\n",
            "63/63 [==============================] - 39s 626ms/step - loss: 0.5816 - accuracy: 0.6988 - val_loss: 0.5934 - val_accuracy: 0.6821\n",
            "Epoch 12/100\n",
            "63/63 [==============================] - 40s 628ms/step - loss: 0.5727 - accuracy: 0.7093 - val_loss: 0.5883 - val_accuracy: 0.6760\n",
            "Epoch 13/100\n",
            "63/63 [==============================] - 39s 625ms/step - loss: 0.5829 - accuracy: 0.6983 - val_loss: 0.5856 - val_accuracy: 0.6925\n",
            "Epoch 14/100\n",
            "63/63 [==============================] - 43s 689ms/step - loss: 0.5695 - accuracy: 0.7043 - val_loss: 0.6012 - val_accuracy: 0.6594\n",
            "Epoch 15/100\n",
            "63/63 [==============================] - 40s 631ms/step - loss: 0.5681 - accuracy: 0.6868 - val_loss: 0.5792 - val_accuracy: 0.6801\n",
            "Epoch 16/100\n",
            "63/63 [==============================] - 40s 633ms/step - loss: 0.5769 - accuracy: 0.6983 - val_loss: 0.6173 - val_accuracy: 0.6667\n",
            "Epoch 17/100\n",
            "63/63 [==============================] - 40s 629ms/step - loss: 0.5695 - accuracy: 0.6968 - val_loss: 0.5803 - val_accuracy: 0.6811\n",
            "Epoch 18/100\n",
            "63/63 [==============================] - 40s 628ms/step - loss: 0.5707 - accuracy: 0.7083 - val_loss: 0.5845 - val_accuracy: 0.6894\n",
            "Epoch 19/100\n",
            "63/63 [==============================] - 40s 627ms/step - loss: 0.5761 - accuracy: 0.7023 - val_loss: 0.5689 - val_accuracy: 0.7007\n",
            "Epoch 20/100\n",
            "63/63 [==============================] - 40s 627ms/step - loss: 0.5756 - accuracy: 0.7013 - val_loss: 0.6113 - val_accuracy: 0.6656\n",
            "Epoch 21/100\n",
            "63/63 [==============================] - 43s 684ms/step - loss: 0.5660 - accuracy: 0.7043 - val_loss: 0.5864 - val_accuracy: 0.7028\n",
            "Epoch 22/100\n",
            "63/63 [==============================] - 40s 633ms/step - loss: 0.5571 - accuracy: 0.7198 - val_loss: 0.5744 - val_accuracy: 0.7049\n",
            "Epoch 23/100\n",
            "63/63 [==============================] - 40s 640ms/step - loss: 0.5681 - accuracy: 0.7088 - val_loss: 0.6073 - val_accuracy: 0.6863\n",
            "Epoch 24/100\n",
            "63/63 [==============================] - 40s 636ms/step - loss: 0.5663 - accuracy: 0.7108 - val_loss: 0.5904 - val_accuracy: 0.6698\n",
            "Epoch 25/100\n",
            "63/63 [==============================] - 40s 631ms/step - loss: 0.5705 - accuracy: 0.6943 - val_loss: 0.6139 - val_accuracy: 0.6873\n",
            "Epoch 26/100\n",
            "63/63 [==============================] - 40s 632ms/step - loss: 0.5473 - accuracy: 0.7343 - val_loss: 0.5793 - val_accuracy: 0.6842\n",
            "Epoch 27/100\n",
            "63/63 [==============================] - 40s 632ms/step - loss: 0.5586 - accuracy: 0.7118 - val_loss: 0.5803 - val_accuracy: 0.6966\n",
            "Epoch 28/100\n",
            "63/63 [==============================] - 40s 629ms/step - loss: 0.5620 - accuracy: 0.7098 - val_loss: 0.5722 - val_accuracy: 0.6739\n",
            "Epoch 29/100\n",
            "63/63 [==============================] - 40s 631ms/step - loss: 0.5525 - accuracy: 0.7088 - val_loss: 0.5687 - val_accuracy: 0.7018\n",
            "Epoch 30/100\n",
            "63/63 [==============================] - 41s 645ms/step - loss: 0.5501 - accuracy: 0.7198 - val_loss: 0.5941 - val_accuracy: 0.6821\n",
            "Epoch 31/100\n",
            "63/63 [==============================] - 40s 634ms/step - loss: 0.5590 - accuracy: 0.7248 - val_loss: 0.5757 - val_accuracy: 0.6760\n",
            "Epoch 32/100\n",
            "63/63 [==============================] - 39s 625ms/step - loss: 0.5459 - accuracy: 0.7243 - val_loss: 0.5959 - val_accuracy: 0.6832\n",
            "Epoch 33/100\n",
            "63/63 [==============================] - 39s 622ms/step - loss: 0.5459 - accuracy: 0.7313 - val_loss: 0.5818 - val_accuracy: 0.6925\n",
            "Epoch 34/100\n",
            "63/63 [==============================] - 39s 618ms/step - loss: 0.5506 - accuracy: 0.7123 - val_loss: 0.5836 - val_accuracy: 0.6883\n",
            "Epoch 35/100\n",
            "63/63 [==============================] - 39s 618ms/step - loss: 0.5602 - accuracy: 0.7108 - val_loss: 0.5727 - val_accuracy: 0.6945\n",
            "Epoch 36/100\n",
            "63/63 [==============================] - 39s 617ms/step - loss: 0.5513 - accuracy: 0.7118 - val_loss: 0.5866 - val_accuracy: 0.6739\n",
            "Epoch 37/100\n",
            "63/63 [==============================] - 39s 619ms/step - loss: 0.5478 - accuracy: 0.7198 - val_loss: 0.6009 - val_accuracy: 0.6625\n",
            "Epoch 38/100\n",
            "63/63 [==============================] - 39s 612ms/step - loss: 0.5414 - accuracy: 0.7183 - val_loss: 0.5919 - val_accuracy: 0.6904\n",
            "Epoch 39/100\n",
            "63/63 [==============================] - 40s 630ms/step - loss: 0.5673 - accuracy: 0.6988 - val_loss: 0.5766 - val_accuracy: 0.6894\n",
            "Epoch 40/100\n",
            "63/63 [==============================] - 39s 620ms/step - loss: 0.5417 - accuracy: 0.7188 - val_loss: 0.5847 - val_accuracy: 0.6780\n",
            "Epoch 41/100\n",
            "63/63 [==============================] - 39s 621ms/step - loss: 0.5462 - accuracy: 0.7248 - val_loss: 0.5867 - val_accuracy: 0.6780\n",
            "Epoch 42/100\n",
            "63/63 [==============================] - 39s 615ms/step - loss: 0.5478 - accuracy: 0.7323 - val_loss: 0.5597 - val_accuracy: 0.7007\n",
            "Epoch 43/100\n",
            "63/63 [==============================] - 39s 619ms/step - loss: 0.5508 - accuracy: 0.7053 - val_loss: 0.6081 - val_accuracy: 0.6832\n",
            "Epoch 44/100\n",
            "63/63 [==============================] - 39s 620ms/step - loss: 0.5398 - accuracy: 0.7258 - val_loss: 0.6245 - val_accuracy: 0.6553\n",
            "Epoch 45/100\n",
            "63/63 [==============================] - 39s 616ms/step - loss: 0.5416 - accuracy: 0.7163 - val_loss: 0.5688 - val_accuracy: 0.6966\n",
            "Epoch 46/100\n",
            "63/63 [==============================] - 39s 613ms/step - loss: 0.5341 - accuracy: 0.7333 - val_loss: 0.5749 - val_accuracy: 0.6914\n",
            "Epoch 47/100\n",
            "63/63 [==============================] - 38s 604ms/step - loss: 0.5372 - accuracy: 0.7268 - val_loss: 0.5732 - val_accuracy: 0.6945\n",
            "Epoch 48/100\n",
            "63/63 [==============================] - 39s 615ms/step - loss: 0.5533 - accuracy: 0.7178 - val_loss: 0.5901 - val_accuracy: 0.6873\n",
            "Epoch 49/100\n",
            "63/63 [==============================] - 38s 596ms/step - loss: 0.5537 - accuracy: 0.7058 - val_loss: 0.5785 - val_accuracy: 0.7038\n",
            "Epoch 50/100\n",
            "63/63 [==============================] - 38s 606ms/step - loss: 0.5380 - accuracy: 0.7308 - val_loss: 0.5860 - val_accuracy: 0.6997\n",
            "Epoch 51/100\n",
            "63/63 [==============================] - 38s 608ms/step - loss: 0.5382 - accuracy: 0.7293 - val_loss: 0.5751 - val_accuracy: 0.6801\n",
            "Epoch 52/100\n",
            "63/63 [==============================] - 38s 609ms/step - loss: 0.5413 - accuracy: 0.7433 - val_loss: 0.5701 - val_accuracy: 0.6966\n",
            "Epoch 53/100\n",
            "63/63 [==============================] - 39s 611ms/step - loss: 0.5520 - accuracy: 0.7263 - val_loss: 0.5928 - val_accuracy: 0.6687\n",
            "Epoch 54/100\n",
            "63/63 [==============================] - 39s 623ms/step - loss: 0.5371 - accuracy: 0.7293 - val_loss: 0.6552 - val_accuracy: 0.6388\n",
            "Epoch 55/100\n",
            "63/63 [==============================] - 39s 612ms/step - loss: 0.5597 - accuracy: 0.7098 - val_loss: 0.5807 - val_accuracy: 0.6997\n",
            "Epoch 56/100\n",
            "63/63 [==============================] - 39s 612ms/step - loss: 0.5297 - accuracy: 0.7283 - val_loss: 0.6291 - val_accuracy: 0.6770\n",
            "Epoch 57/100\n",
            "63/63 [==============================] - 39s 615ms/step - loss: 0.5302 - accuracy: 0.7333 - val_loss: 0.5848 - val_accuracy: 0.7038\n",
            "Epoch 58/100\n",
            "63/63 [==============================] - 39s 617ms/step - loss: 0.5190 - accuracy: 0.7468 - val_loss: 0.5747 - val_accuracy: 0.6904\n",
            "Epoch 59/100\n",
            "63/63 [==============================] - 39s 621ms/step - loss: 0.5211 - accuracy: 0.7418 - val_loss: 0.5971 - val_accuracy: 0.6904\n",
            "Epoch 60/100\n",
            "63/63 [==============================] - 39s 613ms/step - loss: 0.5456 - accuracy: 0.7193 - val_loss: 0.5732 - val_accuracy: 0.7038\n",
            "Epoch 61/100\n",
            "63/63 [==============================] - 39s 619ms/step - loss: 0.5371 - accuracy: 0.7313 - val_loss: 0.5777 - val_accuracy: 0.6883\n",
            "Epoch 62/100\n",
            "63/63 [==============================] - 40s 640ms/step - loss: 0.5117 - accuracy: 0.7443 - val_loss: 0.5997 - val_accuracy: 0.6791\n",
            "Epoch 63/100\n",
            "63/63 [==============================] - 40s 633ms/step - loss: 0.5431 - accuracy: 0.7183 - val_loss: 0.6114 - val_accuracy: 0.6656\n",
            "Epoch 64/100\n",
            "63/63 [==============================] - 39s 618ms/step - loss: 0.5308 - accuracy: 0.7388 - val_loss: 0.5893 - val_accuracy: 0.7079\n",
            "Epoch 65/100\n",
            "63/63 [==============================] - 39s 626ms/step - loss: 0.5196 - accuracy: 0.7463 - val_loss: 0.6377 - val_accuracy: 0.6708\n",
            "Epoch 66/100\n",
            "63/63 [==============================] - 40s 639ms/step - loss: 0.5331 - accuracy: 0.7198 - val_loss: 0.5732 - val_accuracy: 0.6976\n",
            "Epoch 67/100\n",
            "63/63 [==============================] - 40s 635ms/step - loss: 0.5353 - accuracy: 0.7203 - val_loss: 0.7131 - val_accuracy: 0.6625\n",
            "Epoch 68/100\n",
            "63/63 [==============================] - 41s 650ms/step - loss: 0.5333 - accuracy: 0.7268 - val_loss: 0.5985 - val_accuracy: 0.6987\n",
            "Epoch 69/100\n",
            "63/63 [==============================] - 40s 640ms/step - loss: 0.5229 - accuracy: 0.7348 - val_loss: 0.5837 - val_accuracy: 0.6935\n",
            "Epoch 70/100\n",
            "63/63 [==============================] - 39s 618ms/step - loss: 0.5282 - accuracy: 0.7278 - val_loss: 0.5907 - val_accuracy: 0.6873\n",
            "Epoch 71/100\n",
            "63/63 [==============================] - 40s 637ms/step - loss: 0.5383 - accuracy: 0.7193 - val_loss: 0.5820 - val_accuracy: 0.6883\n",
            "Epoch 72/100\n",
            "63/63 [==============================] - 38s 608ms/step - loss: 0.5262 - accuracy: 0.7443 - val_loss: 0.5932 - val_accuracy: 0.6863\n",
            "Epoch 73/100\n",
            "63/63 [==============================] - 38s 607ms/step - loss: 0.5475 - accuracy: 0.7218 - val_loss: 0.5828 - val_accuracy: 0.6966\n",
            "Epoch 74/100\n",
            "63/63 [==============================] - 38s 607ms/step - loss: 0.5252 - accuracy: 0.7338 - val_loss: 0.5879 - val_accuracy: 0.6863\n",
            "Epoch 75/100\n",
            "63/63 [==============================] - 39s 618ms/step - loss: 0.5319 - accuracy: 0.7278 - val_loss: 0.5727 - val_accuracy: 0.6987\n",
            "Epoch 76/100\n",
            "63/63 [==============================] - 39s 619ms/step - loss: 0.5358 - accuracy: 0.7258 - val_loss: 0.5880 - val_accuracy: 0.6894\n",
            "Epoch 77/100\n",
            "63/63 [==============================] - 38s 609ms/step - loss: 0.5245 - accuracy: 0.7418 - val_loss: 0.5937 - val_accuracy: 0.6976\n",
            "Epoch 78/100\n",
            "63/63 [==============================] - 38s 599ms/step - loss: 0.5411 - accuracy: 0.7213 - val_loss: 0.5621 - val_accuracy: 0.6956\n",
            "Epoch 79/100\n",
            "63/63 [==============================] - 38s 606ms/step - loss: 0.5201 - accuracy: 0.7318 - val_loss: 0.5465 - val_accuracy: 0.7007\n",
            "Epoch 80/100\n",
            "63/63 [==============================] - 38s 602ms/step - loss: 0.5201 - accuracy: 0.7388 - val_loss: 0.5711 - val_accuracy: 0.6873\n",
            "Epoch 81/100\n",
            "63/63 [==============================] - 39s 613ms/step - loss: 0.5175 - accuracy: 0.7393 - val_loss: 0.5791 - val_accuracy: 0.6976\n",
            "Epoch 82/100\n",
            "63/63 [==============================] - 39s 614ms/step - loss: 0.5306 - accuracy: 0.7308 - val_loss: 0.5899 - val_accuracy: 0.6945\n",
            "Epoch 83/100\n",
            "63/63 [==============================] - 39s 614ms/step - loss: 0.5213 - accuracy: 0.7338 - val_loss: 0.5796 - val_accuracy: 0.6997\n",
            "Epoch 84/100\n",
            "63/63 [==============================] - 39s 611ms/step - loss: 0.5124 - accuracy: 0.7468 - val_loss: 0.5728 - val_accuracy: 0.7018\n",
            "Epoch 85/100\n",
            "63/63 [==============================] - 39s 619ms/step - loss: 0.5256 - accuracy: 0.7188 - val_loss: 0.5938 - val_accuracy: 0.6997\n",
            "Epoch 86/100\n",
            "63/63 [==============================] - 40s 628ms/step - loss: 0.4993 - accuracy: 0.7617 - val_loss: 0.5916 - val_accuracy: 0.6914\n",
            "Epoch 87/100\n",
            "63/63 [==============================] - 40s 642ms/step - loss: 0.5245 - accuracy: 0.7353 - val_loss: 0.5717 - val_accuracy: 0.6863\n",
            "Epoch 88/100\n",
            "63/63 [==============================] - 40s 631ms/step - loss: 0.5138 - accuracy: 0.7488 - val_loss: 0.5899 - val_accuracy: 0.6956\n",
            "Epoch 89/100\n",
            "63/63 [==============================] - 40s 634ms/step - loss: 0.5069 - accuracy: 0.7453 - val_loss: 0.5877 - val_accuracy: 0.6904\n",
            "Epoch 90/100\n",
            "63/63 [==============================] - 39s 625ms/step - loss: 0.5129 - accuracy: 0.7498 - val_loss: 0.5736 - val_accuracy: 0.6883\n",
            "Epoch 91/100\n",
            "63/63 [==============================] - 39s 625ms/step - loss: 0.5106 - accuracy: 0.7473 - val_loss: 0.5660 - val_accuracy: 0.7018\n",
            "Epoch 92/100\n",
            "63/63 [==============================] - 39s 621ms/step - loss: 0.5101 - accuracy: 0.7408 - val_loss: 0.5669 - val_accuracy: 0.7018\n",
            "Epoch 93/100\n",
            "63/63 [==============================] - 39s 619ms/step - loss: 0.5190 - accuracy: 0.7423 - val_loss: 0.5959 - val_accuracy: 0.7038\n",
            "Epoch 94/100\n",
            "63/63 [==============================] - 39s 625ms/step - loss: 0.5065 - accuracy: 0.7498 - val_loss: 0.5826 - val_accuracy: 0.6894\n",
            "Epoch 95/100\n",
            "63/63 [==============================] - 39s 626ms/step - loss: 0.5129 - accuracy: 0.7507 - val_loss: 0.5900 - val_accuracy: 0.6914\n",
            "Epoch 96/100\n",
            "63/63 [==============================] - 39s 620ms/step - loss: 0.5098 - accuracy: 0.7428 - val_loss: 0.5752 - val_accuracy: 0.7059\n",
            "Epoch 97/100\n",
            "63/63 [==============================] - 39s 618ms/step - loss: 0.5051 - accuracy: 0.7622 - val_loss: 0.5832 - val_accuracy: 0.6925\n",
            "Epoch 98/100\n",
            "63/63 [==============================] - 39s 622ms/step - loss: 0.5048 - accuracy: 0.7488 - val_loss: 0.6044 - val_accuracy: 0.6935\n",
            "Epoch 99/100\n",
            "63/63 [==============================] - 39s 624ms/step - loss: 0.5353 - accuracy: 0.7338 - val_loss: 0.5731 - val_accuracy: 0.7079\n",
            "Epoch 100/100\n",
            "63/63 [==============================] - 40s 628ms/step - loss: 0.4956 - accuracy: 0.7582 - val_loss: 0.5907 - val_accuracy: 0.7049\n"
          ]
        }
      ]
    },
    {
      "cell_type": "markdown",
      "metadata": {
        "id": "pVLHDvBO5nbW"
      },
      "source": [
        "### Evaluating the ResNet50 model"
      ]
    },
    {
      "cell_type": "code",
      "metadata": {
        "colab": {
          "base_uri": "https://localhost:8080/",
          "height": 265
        },
        "id": "A9W48lGW5sTE",
        "outputId": "79cfa4e8-6fdc-46b4-c441-27ee2d19a64d"
      },
      "source": [
        "# plot the accuracy\n",
        "plt.plot(result.history['accuracy'], label='Train Accuracy')\n",
        "plt.plot(result.history['val_accuracy'], label='Validation Accuracy')\n",
        "plt.legend()\n",
        "plt.show()"
      ],
      "execution_count": 11,
      "outputs": [
        {
          "output_type": "display_data",
          "data": {
            "image/png": "[encoded data removed]",
            "text/plain": [
              "<Figure size 432x288 with 1 Axes>"
            ]
          },
          "metadata": {
            "needs_background": "light"
          }
        }
      ]
    },
    {
      "cell_type": "markdown",
      "metadata": {
        "id": "AbMKS9yoFiIO"
      },
      "source": [
        "# Transfer Learning with VGG Net"
      ]
    },
    {
      "cell_type": "code",
      "metadata": {
        "id": "mtbbtzxOFtfi"
      },
      "source": [
        "vggnet=tf.keras.applications.VGG19(input_shape=IMAGE_SIZE+[3], include_top=False, weights='imagenet')\n",
        "\n",
        "# Using vggnet model only for feature extraction and not for learning, by freezing all the layers that we don't need\n",
        "for layer in vggnet.layers:\n",
        "  layer.trainable=False\n",
        "\n",
        "# Taking the output of the base layers\n",
        "vggnet_output=vggnet.output\n",
        "\n",
        "# Adding our own layers\n",
        "\n",
        "## Pool Layer\n",
        "x=GlobalAveragePooling2D()(vggnet_output)\n",
        "\n",
        "## Flatten Layer\n",
        "x=Flatten()(x)\n",
        "\n",
        "## Batch Normalization\n",
        "x=BatchNormalization()(x)\n",
        "\n",
        "## Fully connected Layer\n",
        "x=Dense(500, activation='relu')(x)\n",
        "\n",
        "## Batch Normalization\n",
        "x=BatchNormalization()(x)\n",
        "\n",
        "## Dropout Layer\n",
        "x=Dropout(0.3)(x)\n",
        "\n",
        "## Batch Normalization\n",
        "x=BatchNormalization()(x)\n",
        "\n",
        "## Outer Layer\n",
        "x=Dense(2, activation='sigmoid')(x)"
      ],
      "execution_count": null,
      "outputs": []
    },
    {
      "cell_type": "code",
      "metadata": {
        "colab": {
          "base_uri": "https://localhost:8080/"
        },
        "id": "CNGGDPZ0BDkx",
        "outputId": "ae9ea635-102a-4bd0-ffc5-16c9350ac952"
      },
      "source": [
        "# Initializing the vggnet model\n",
        "\n",
        "vgg_model=Model(inputs=vggnet.input, outputs=x)\n",
        "\n",
        "vgg_model.summary()"
      ],
      "execution_count": null,
      "outputs": [
        {
          "output_type": "stream",
          "name": "stdout",
          "text": [
            "Model: \"model_3\"\n",
            "_________________________________________________________________\n",
            " Layer (type)                Output Shape              Param #   \n",
            "=================================================================\n",
            " input_4 (InputLayer)        [(None, 224, 224, 3)]     0         \n",
            "                                                                 \n",
            " block1_conv1 (Conv2D)       (None, 224, 224, 64)      1792      \n",
            "                                                                 \n",
            " block1_conv2 (Conv2D)       (None, 224, 224, 64)      36928     \n",
            "                                                                 \n",
            " block1_pool (MaxPooling2D)  (None, 112, 112, 64)      0         \n",
            "                                                                 \n",
            " block2_conv1 (Conv2D)       (None, 112, 112, 128)     73856     \n",
            "                                                                 \n",
            " block2_conv2 (Conv2D)       (None, 112, 112, 128)     147584    \n",
            "                                                                 \n",
            " block2_pool (MaxPooling2D)  (None, 56, 56, 128)       0         \n",
            "                                                                 \n",
            " block3_conv1 (Conv2D)       (None, 56, 56, 256)       295168    \n",
            "                                                                 \n",
            " block3_conv2 (Conv2D)       (None, 56, 56, 256)       590080    \n",
            "                                                                 \n",
            " block3_conv3 (Conv2D)       (None, 56, 56, 256)       590080    \n",
            "                                                                 \n",
            " block3_conv4 (Conv2D)       (None, 56, 56, 256)       590080    \n",
            "                                                                 \n",
            " block3_pool (MaxPooling2D)  (None, 28, 28, 256)       0         \n",
            "                                                                 \n",
            " block4_conv1 (Conv2D)       (None, 28, 28, 512)       1180160   \n",
            "                                                                 \n",
            " block4_conv2 (Conv2D)       (None, 28, 28, 512)       2359808   \n",
            "                                                                 \n",
            " block4_conv3 (Conv2D)       (None, 28, 28, 512)       2359808   \n",
            "                                                                 \n",
            " block4_conv4 (Conv2D)       (None, 28, 28, 512)       2359808   \n",
            "                                                                 \n",
            " block4_pool (MaxPooling2D)  (None, 14, 14, 512)       0         \n",
            "                                                                 \n",
            " block5_conv1 (Conv2D)       (None, 14, 14, 512)       2359808   \n",
            "                                                                 \n",
            " block5_conv2 (Conv2D)       (None, 14, 14, 512)       2359808   \n",
            "                                                                 \n",
            " block5_conv3 (Conv2D)       (None, 14, 14, 512)       2359808   \n",
            "                                                                 \n",
            " block5_conv4 (Conv2D)       (None, 14, 14, 512)       2359808   \n",
            "                                                                 \n",
            " block5_pool (MaxPooling2D)  (None, 7, 7, 512)         0         \n",
            "                                                                 \n",
            " global_average_pooling2d_3   (None, 512)              0         \n",
            " (GlobalAveragePooling2D)                                        \n",
            "                                                                 \n",
            " flatten_3 (Flatten)         (None, 512)               0         \n",
            "                                                                 \n",
            " batch_normalization_6 (Batc  (None, 512)              2048      \n",
            " hNormalization)                                                 \n",
            "                                                                 \n",
            " dense_6 (Dense)             (None, 500)               256500    \n",
            "                                                                 \n",
            " batch_normalization_7 (Batc  (None, 500)              2000      \n",
            " hNormalization)                                                 \n",
            "                                                                 \n",
            " dropout_3 (Dropout)         (None, 500)               0         \n",
            "                                                                 \n",
            " batch_normalization_8 (Batc  (None, 500)              2000      \n",
            " hNormalization)                                                 \n",
            "                                                                 \n",
            " dense_7 (Dense)             (None, 2)                 1002      \n",
            "                                                                 \n",
            "=================================================================\n",
            "Total params: 20,287,934\n",
            "Trainable params: 260,526\n",
            "Non-trainable params: 20,027,408\n",
            "_________________________________________________________________\n"
          ]
        }
      ]
    },
    {
      "cell_type": "code",
      "metadata": {
        "id": "b45U6mL7HAM5"
      },
      "source": [
        "vgg_model.compile(optimizer='adam', loss='binary_crossentropy', metrics=['accuracy'])"
      ],
      "execution_count": null,
      "outputs": []
    },
    {
      "cell_type": "markdown",
      "metadata": {
        "id": "-CIyuXaPLVVt"
      },
      "source": [
        "### Image Generator and Augmentation"
      ]
    },
    {
      "cell_type": "code",
      "metadata": {
        "id": "rIpoUpvcLYR2"
      },
      "source": [
        "# Using the ImageDataGenerator to import images from the dataset\n",
        "\n",
        "from tensorflow.keras.preprocessing.image import ImageDataGenerator\n",
        "\n",
        "training_datagen=ImageDataGenerator(rescale=1/255.0, shear_range=0.2, zoom_range=0.2, horizontal_flip=True, vertical_flip=True)\n",
        "testing_datagen=ImageDataGenerator(rescale=1/255.0)"
      ],
      "execution_count": 9,
      "outputs": []
    },
    {
      "cell_type": "code",
      "metadata": {
        "id": "FaDq9mLjMf66",
        "colab": {
          "base_uri": "https://localhost:8080/"
        },
        "outputId": "a3918ad1-e831-442a-aa9d-863460e2be14"
      },
      "source": [
        "# Make sure you provide the same target size as initialied for the image size\n",
        "\n",
        "training_set=training_datagen.flow_from_directory('/content/drive/MyDrive/Cats & Dogs - Copy/train', target_size=(224,224), class_mode='categorical', batch_size=32)\n",
        "testing_set=testing_datagen.flow_from_directory('/content/drive/MyDrive/Cats & Dogs - Copy/test', target_size=(224,224), class_mode='categorical', batch_size=32)"
      ],
      "execution_count": 10,
      "outputs": [
        {
          "output_type": "stream",
          "name": "stdout",
          "text": [
            "Found 2002 images belonging to 2 classes.\n",
            "Found 969 images belonging to 2 classes.\n"
          ]
        }
      ]
    },
    {
      "cell_type": "markdown",
      "metadata": {
        "id": "ZRmZZonoLz7D"
      },
      "source": [
        "### Fitting the VGG model"
      ]
    },
    {
      "cell_type": "code",
      "metadata": {
        "colab": {
          "base_uri": "https://localhost:8080/"
        },
        "id": "7JKK8r2TL2GN",
        "outputId": "1e6af7fe-4d1e-40fb-b193-89812895ecdf"
      },
      "source": [
        "vgg_result=vgg_model.fit_generator(training_set, validation_data=testing_set, epochs=50, steps_per_epoch=len(train_set), validation_steps=len(test_set))"
      ],
      "execution_count": null,
      "outputs": [
        {
          "metadata": {
            "tags": null
          },
          "name": "stderr",
          "output_type": "stream",
          "text": [
            "/usr/local/lib/python3.7/dist-packages/ipykernel_launcher.py:1: UserWarning: `Model.fit_generator` is deprecated and will be removed in a future version. Please use `Model.fit`, which supports generators.\n",
            "  \"\"\"Entry point for launching an IPython kernel.\n"
          ]
        },
        {
          "output_type": "stream",
          "name": "stdout",
          "text": [
            "Epoch 1/50\n",
            "63/63 [==============================] - 45s 690ms/step - loss: 0.5174 - accuracy: 0.7672 - val_loss: 0.6085 - val_accuracy: 0.6202\n",
            "Epoch 2/50\n",
            "63/63 [==============================] - 43s 680ms/step - loss: 0.4005 - accuracy: 0.8367 - val_loss: 0.5167 - val_accuracy: 0.8679\n",
            "Epoch 3/50\n",
            "63/63 [==============================] - 42s 673ms/step - loss: 0.3662 - accuracy: 0.8467 - val_loss: 0.4622 - val_accuracy: 0.8328\n",
            "Epoch 4/50\n",
            "63/63 [==============================] - 43s 677ms/step - loss: 0.3316 - accuracy: 0.8601 - val_loss: 0.3959 - val_accuracy: 0.8824\n",
            "Epoch 5/50\n",
            "63/63 [==============================] - 42s 677ms/step - loss: 0.3375 - accuracy: 0.8526 - val_loss: 0.3416 - val_accuracy: 0.8710\n",
            "Epoch 6/50\n",
            "63/63 [==============================] - 42s 673ms/step - loss: 0.2822 - accuracy: 0.8836 - val_loss: 0.2927 - val_accuracy: 0.8854\n",
            "Epoch 7/50\n",
            "63/63 [==============================] - 43s 674ms/step - loss: 0.3059 - accuracy: 0.8626 - val_loss: 0.2705 - val_accuracy: 0.8824\n",
            "Epoch 8/50\n",
            "63/63 [==============================] - 43s 676ms/step - loss: 0.3038 - accuracy: 0.8696 - val_loss: 0.2568 - val_accuracy: 0.8927\n",
            "Epoch 9/50\n",
            "63/63 [==============================] - 45s 717ms/step - loss: 0.2789 - accuracy: 0.8841 - val_loss: 0.2396 - val_accuracy: 0.8989\n",
            "Epoch 10/50\n",
            "63/63 [==============================] - 48s 761ms/step - loss: 0.2664 - accuracy: 0.8891 - val_loss: 0.2552 - val_accuracy: 0.8896\n",
            "Epoch 11/50\n",
            "63/63 [==============================] - 48s 763ms/step - loss: 0.2516 - accuracy: 0.8966 - val_loss: 0.2673 - val_accuracy: 0.8875\n",
            "Epoch 12/50\n",
            "63/63 [==============================] - 44s 703ms/step - loss: 0.2589 - accuracy: 0.8921 - val_loss: 0.2542 - val_accuracy: 0.8865\n",
            "Epoch 13/50\n",
            "63/63 [==============================] - 49s 774ms/step - loss: 0.2373 - accuracy: 0.9041 - val_loss: 0.2553 - val_accuracy: 0.8834\n",
            "Epoch 14/50\n",
            "63/63 [==============================] - 49s 773ms/step - loss: 0.2375 - accuracy: 0.8976 - val_loss: 0.2617 - val_accuracy: 0.8813\n",
            "Epoch 15/50\n",
            "63/63 [==============================] - 49s 772ms/step - loss: 0.2418 - accuracy: 0.9001 - val_loss: 0.2466 - val_accuracy: 0.8947\n",
            "Epoch 16/50\n",
            "63/63 [==============================] - 49s 769ms/step - loss: 0.2412 - accuracy: 0.8961 - val_loss: 0.2630 - val_accuracy: 0.8896\n",
            "Epoch 17/50\n",
            "63/63 [==============================] - 49s 770ms/step - loss: 0.2394 - accuracy: 0.9031 - val_loss: 0.2528 - val_accuracy: 0.8927\n",
            "Epoch 18/50\n",
            "63/63 [==============================] - 49s 773ms/step - loss: 0.2473 - accuracy: 0.8896 - val_loss: 0.2436 - val_accuracy: 0.8937\n",
            "Epoch 19/50\n",
            "63/63 [==============================] - 48s 768ms/step - loss: 0.2365 - accuracy: 0.9046 - val_loss: 0.2571 - val_accuracy: 0.8896\n",
            "Epoch 20/50\n",
            "63/63 [==============================] - 47s 749ms/step - loss: 0.2185 - accuracy: 0.9141 - val_loss: 0.2583 - val_accuracy: 0.8958\n",
            "Epoch 21/50\n",
            "63/63 [==============================] - 43s 684ms/step - loss: 0.2143 - accuracy: 0.9106 - val_loss: 0.2705 - val_accuracy: 0.8968\n",
            "Epoch 22/50\n",
            "63/63 [==============================] - 43s 687ms/step - loss: 0.2049 - accuracy: 0.9121 - val_loss: 0.2696 - val_accuracy: 0.8854\n",
            "Epoch 23/50\n",
            "63/63 [==============================] - 43s 688ms/step - loss: 0.2139 - accuracy: 0.9101 - val_loss: 0.2744 - val_accuracy: 0.8793\n",
            "Epoch 24/50\n",
            "63/63 [==============================] - 43s 683ms/step - loss: 0.2099 - accuracy: 0.9146 - val_loss: 0.2655 - val_accuracy: 0.8824\n",
            "Epoch 25/50\n",
            "63/63 [==============================] - 43s 675ms/step - loss: 0.2214 - accuracy: 0.9051 - val_loss: 0.2916 - val_accuracy: 0.8824\n",
            "Epoch 26/50\n",
            "63/63 [==============================] - 43s 682ms/step - loss: 0.1856 - accuracy: 0.9311 - val_loss: 0.2902 - val_accuracy: 0.8875\n",
            "Epoch 27/50\n",
            "63/63 [==============================] - 43s 679ms/step - loss: 0.1944 - accuracy: 0.9251 - val_loss: 0.2729 - val_accuracy: 0.8875\n",
            "Epoch 28/50\n",
            "63/63 [==============================] - 43s 688ms/step - loss: 0.1778 - accuracy: 0.9241 - val_loss: 0.2828 - val_accuracy: 0.8865\n",
            "Epoch 29/50\n",
            "63/63 [==============================] - 43s 677ms/step - loss: 0.1815 - accuracy: 0.9246 - val_loss: 0.2701 - val_accuracy: 0.8937\n",
            "Epoch 30/50\n",
            "63/63 [==============================] - 43s 683ms/step - loss: 0.1694 - accuracy: 0.9371 - val_loss: 0.2968 - val_accuracy: 0.8803\n",
            "Epoch 31/50\n",
            "63/63 [==============================] - 43s 682ms/step - loss: 0.1905 - accuracy: 0.9206 - val_loss: 0.2940 - val_accuracy: 0.8782\n",
            "Epoch 32/50\n",
            "63/63 [==============================] - 43s 682ms/step - loss: 0.1867 - accuracy: 0.9226 - val_loss: 0.2965 - val_accuracy: 0.8803\n",
            "Epoch 33/50\n",
            "63/63 [==============================] - 43s 684ms/step - loss: 0.1754 - accuracy: 0.9296 - val_loss: 0.2893 - val_accuracy: 0.8906\n",
            "Epoch 34/50\n",
            "63/63 [==============================] - 43s 685ms/step - loss: 0.1841 - accuracy: 0.9236 - val_loss: 0.2939 - val_accuracy: 0.8834\n",
            "Epoch 35/50\n",
            "63/63 [==============================] - 43s 683ms/step - loss: 0.1608 - accuracy: 0.9346 - val_loss: 0.3078 - val_accuracy: 0.8875\n",
            "Epoch 36/50\n",
            "63/63 [==============================] - 43s 681ms/step - loss: 0.1570 - accuracy: 0.9416 - val_loss: 0.2839 - val_accuracy: 0.8906\n",
            "Epoch 37/50\n",
            "63/63 [==============================] - 43s 685ms/step - loss: 0.1733 - accuracy: 0.9316 - val_loss: 0.3154 - val_accuracy: 0.8813\n",
            "Epoch 38/50\n",
            "63/63 [==============================] - 43s 681ms/step - loss: 0.1660 - accuracy: 0.9381 - val_loss: 0.2865 - val_accuracy: 0.8927\n",
            "Epoch 39/50\n",
            "63/63 [==============================] - 43s 677ms/step - loss: 0.1758 - accuracy: 0.9296 - val_loss: 0.3149 - val_accuracy: 0.8875\n",
            "Epoch 40/50\n",
            "63/63 [==============================] - 43s 678ms/step - loss: 0.1605 - accuracy: 0.9351 - val_loss: 0.2982 - val_accuracy: 0.8824\n",
            "Epoch 41/50\n",
            "63/63 [==============================] - 45s 711ms/step - loss: 0.1611 - accuracy: 0.9356 - val_loss: 0.3082 - val_accuracy: 0.8824\n",
            "Epoch 42/50\n",
            "63/63 [==============================] - 48s 769ms/step - loss: 0.1707 - accuracy: 0.9311 - val_loss: 0.2806 - val_accuracy: 0.8865\n",
            "Epoch 43/50\n",
            "63/63 [==============================] - 48s 764ms/step - loss: 0.1544 - accuracy: 0.9331 - val_loss: 0.2974 - val_accuracy: 0.8772\n",
            "Epoch 44/50\n",
            "63/63 [==============================] - 45s 713ms/step - loss: 0.1428 - accuracy: 0.9441 - val_loss: 0.2853 - val_accuracy: 0.8803\n",
            "Epoch 45/50\n",
            "63/63 [==============================] - 49s 770ms/step - loss: 0.1478 - accuracy: 0.9421 - val_loss: 0.2899 - val_accuracy: 0.8875\n",
            "Epoch 46/50\n",
            "63/63 [==============================] - 48s 768ms/step - loss: 0.1580 - accuracy: 0.9346 - val_loss: 0.3106 - val_accuracy: 0.8793\n",
            "Epoch 47/50\n",
            "63/63 [==============================] - 49s 774ms/step - loss: 0.1516 - accuracy: 0.9426 - val_loss: 0.3168 - val_accuracy: 0.8793\n",
            "Epoch 48/50\n",
            "63/63 [==============================] - 49s 771ms/step - loss: 0.1329 - accuracy: 0.9456 - val_loss: 0.3038 - val_accuracy: 0.8813\n",
            "Epoch 49/50\n",
            "63/63 [==============================] - 49s 772ms/step - loss: 0.1445 - accuracy: 0.9436 - val_loss: 0.3339 - val_accuracy: 0.8885\n",
            "Epoch 50/50\n",
            "63/63 [==============================] - 49s 772ms/step - loss: 0.1604 - accuracy: 0.9301 - val_loss: 0.3126 - val_accuracy: 0.8824\n"
          ]
        }
      ]
    },
    {
      "cell_type": "markdown",
      "metadata": {
        "id": "Iw5JGL1IXhVs"
      },
      "source": [
        "### Evaluating the VGG Net model"
      ]
    },
    {
      "cell_type": "code",
      "metadata": {
        "colab": {
          "base_uri": "https://localhost:8080/",
          "height": 265
        },
        "id": "EyaJjZAzXkKs",
        "outputId": "0ed0eb74-6e32-4702-994f-9eb21d912d82"
      },
      "source": [
        "# plot the accuracy\n",
        "plt.plot(vgg_result.history['accuracy'], label='Train Accuracy')\n",
        "plt.plot(vgg_result.history['val_accuracy'], label='Validation Accuracy')\n",
        "plt.legend()\n",
        "plt.show()"
      ],
      "execution_count": null,
      "outputs": [
        {
          "output_type": "display_data",
          "data": {
            "image/png": "[encoded data removed]",
            "text/plain": [
              "<Figure size 432x288 with 1 Axes>"
            ]
          },
          "metadata": {
            "needs_background": "light"
          }
        }
      ]
    },
    {
      "cell_type": "markdown",
      "metadata": {
        "id": "bUAPAKPIl-nX"
      },
      "source": [
        "# Keras Tuner"
      ]
    },
    {
      "cell_type": "markdown",
      "metadata": {
        "id": "5lx44OKnwSIg"
      },
      "source": [
        "Helps in deciding the following hyper parameters\n",
        "(1) Number of layers\n",
        "(2) Number of neurons in each layer\n",
        "(3) Learning rate"
      ]
    },
    {
      "cell_type": "code",
      "metadata": {
        "colab": {
          "base_uri": "https://localhost:8080/"
        },
        "id": "XTq4VgoPwiqq",
        "outputId": "c48c8a55-9795-4a19-a818-5a60789da008"
      },
      "source": [
        "!pip install keras-tuner\n",
        "\n",
        "from tensorflow import keras\n",
        "from tensorflow.keras import layers\n",
        "\n",
        "from keras_tuner import RandomSearch\n",
        "from keras_tuner.engine.hyperparameters import HyperParameters"
      ],
      "execution_count": 5,
      "outputs": [
        {
          "output_type": "stream",
          "name": "stdout",
          "text": [
            "Collecting keras-tuner\n",
            "  Downloading keras_tuner-1.1.0-py3-none-any.whl (98 kB)\n",
            "\u001b[?25l\r\u001b[K     |███▍                            | 10 kB 24.3 MB/s eta 0:00:01\r\u001b[K     |██████▊                         | 20 kB 23.2 MB/s eta 0:00:01\r\u001b[K     |██████████                      | 30 kB 11.4 MB/s eta 0:00:01\r\u001b[K     |█████████████▍                  | 40 kB 9.2 MB/s eta 0:00:01\r\u001b[K     |████████████████▊               | 51 kB 5.1 MB/s eta 0:00:01\r\u001b[K     |████████████████████            | 61 kB 5.8 MB/s eta 0:00:01\r\u001b[K     |███████████████████████▍        | 71 kB 5.5 MB/s eta 0:00:01\r\u001b[K     |██████████████████████████▊     | 81 kB 6.2 MB/s eta 0:00:01\r\u001b[K     |██████████████████████████████  | 92 kB 4.8 MB/s eta 0:00:01\r\u001b[K     |████████████████████████████████| 98 kB 3.2 MB/s \n",
            "\u001b[?25hCollecting kt-legacy\n",
            "  Downloading kt_legacy-1.0.4-py3-none-any.whl (9.6 kB)\n",
            "Requirement already satisfied: requests in /usr/local/lib/python3.7/dist-packages (from keras-tuner) (2.23.0)\n",
            "Requirement already satisfied: packaging in /usr/local/lib/python3.7/dist-packages (from keras-tuner) (21.2)\n",
            "Requirement already satisfied: scipy in /usr/local/lib/python3.7/dist-packages (from keras-tuner) (1.4.1)\n",
            "Requirement already satisfied: numpy in /usr/local/lib/python3.7/dist-packages (from keras-tuner) (1.19.5)\n",
            "Requirement already satisfied: ipython in /usr/local/lib/python3.7/dist-packages (from keras-tuner) (5.5.0)\n",
            "Requirement already satisfied: tensorboard in /usr/local/lib/python3.7/dist-packages (from keras-tuner) (2.7.0)\n",
            "Requirement already satisfied: decorator in /usr/local/lib/python3.7/dist-packages (from ipython->keras-tuner) (4.4.2)\n",
            "Requirement already satisfied: prompt-toolkit<2.0.0,>=1.0.4 in /usr/local/lib/python3.7/dist-packages (from ipython->keras-tuner) (1.0.18)\n",
            "Requirement already satisfied: setuptools>=18.5 in /usr/local/lib/python3.7/dist-packages (from ipython->keras-tuner) (57.4.0)\n",
            "Requirement already satisfied: pygments in /usr/local/lib/python3.7/dist-packages (from ipython->keras-tuner) (2.6.1)\n",
            "Requirement already satisfied: simplegeneric>0.8 in /usr/local/lib/python3.7/dist-packages (from ipython->keras-tuner) (0.8.1)\n",
            "Requirement already satisfied: traitlets>=4.2 in /usr/local/lib/python3.7/dist-packages (from ipython->keras-tuner) (5.1.1)\n",
            "Requirement already satisfied: pexpect in /usr/local/lib/python3.7/dist-packages (from ipython->keras-tuner) (4.8.0)\n",
            "Requirement already satisfied: pickleshare in /usr/local/lib/python3.7/dist-packages (from ipython->keras-tuner) (0.7.5)\n",
            "Requirement already satisfied: six>=1.9.0 in /usr/local/lib/python3.7/dist-packages (from prompt-toolkit<2.0.0,>=1.0.4->ipython->keras-tuner) (1.15.0)\n",
            "Requirement already satisfied: wcwidth in /usr/local/lib/python3.7/dist-packages (from prompt-toolkit<2.0.0,>=1.0.4->ipython->keras-tuner) (0.2.5)\n",
            "Requirement already satisfied: pyparsing<3,>=2.0.2 in /usr/local/lib/python3.7/dist-packages (from packaging->keras-tuner) (2.4.7)\n",
            "Requirement already satisfied: ptyprocess>=0.5 in /usr/local/lib/python3.7/dist-packages (from pexpect->ipython->keras-tuner) (0.7.0)\n",
            "Requirement already satisfied: urllib3!=1.25.0,!=1.25.1,<1.26,>=1.21.1 in /usr/local/lib/python3.7/dist-packages (from requests->keras-tuner) (1.24.3)\n",
            "Requirement already satisfied: idna<3,>=2.5 in /usr/local/lib/python3.7/dist-packages (from requests->keras-tuner) (2.10)\n",
            "Requirement already satisfied: certifi>=2017.4.17 in /usr/local/lib/python3.7/dist-packages (from requests->keras-tuner) (2021.10.8)\n",
            "Requirement already satisfied: chardet<4,>=3.0.2 in /usr/local/lib/python3.7/dist-packages (from requests->keras-tuner) (3.0.4)\n",
            "Requirement already satisfied: protobuf>=3.6.0 in /usr/local/lib/python3.7/dist-packages (from tensorboard->keras-tuner) (3.17.3)\n",
            "Requirement already satisfied: markdown>=2.6.8 in /usr/local/lib/python3.7/dist-packages (from tensorboard->keras-tuner) (3.3.4)\n",
            "Requirement already satisfied: tensorboard-data-server<0.7.0,>=0.6.0 in /usr/local/lib/python3.7/dist-packages (from tensorboard->keras-tuner) (0.6.1)\n",
            "Requirement already satisfied: google-auth<3,>=1.6.3 in /usr/local/lib/python3.7/dist-packages (from tensorboard->keras-tuner) (1.35.0)\n",
            "Requirement already satisfied: google-auth-oauthlib<0.5,>=0.4.1 in /usr/local/lib/python3.7/dist-packages (from tensorboard->keras-tuner) (0.4.6)\n",
            "Requirement already satisfied: tensorboard-plugin-wit>=1.6.0 in /usr/local/lib/python3.7/dist-packages (from tensorboard->keras-tuner) (1.8.0)\n",
            "Requirement already satisfied: grpcio>=1.24.3 in /usr/local/lib/python3.7/dist-packages (from tensorboard->keras-tuner) (1.41.1)\n",
            "Requirement already satisfied: wheel>=0.26 in /usr/local/lib/python3.7/dist-packages (from tensorboard->keras-tuner) (0.37.0)\n",
            "Requirement already satisfied: absl-py>=0.4 in /usr/local/lib/python3.7/dist-packages (from tensorboard->keras-tuner) (0.12.0)\n",
            "Requirement already satisfied: werkzeug>=0.11.15 in /usr/local/lib/python3.7/dist-packages (from tensorboard->keras-tuner) (1.0.1)\n",
            "Requirement already satisfied: rsa<5,>=3.1.4 in /usr/local/lib/python3.7/dist-packages (from google-auth<3,>=1.6.3->tensorboard->keras-tuner) (4.7.2)\n",
            "Requirement already satisfied: cachetools<5.0,>=2.0.0 in /usr/local/lib/python3.7/dist-packages (from google-auth<3,>=1.6.3->tensorboard->keras-tuner) (4.2.4)\n",
            "Requirement already satisfied: pyasn1-modules>=0.2.1 in /usr/local/lib/python3.7/dist-packages (from google-auth<3,>=1.6.3->tensorboard->keras-tuner) (0.2.8)\n",
            "Requirement already satisfied: requests-oauthlib>=0.7.0 in /usr/local/lib/python3.7/dist-packages (from google-auth-oauthlib<0.5,>=0.4.1->tensorboard->keras-tuner) (1.3.0)\n",
            "Requirement already satisfied: importlib-metadata in /usr/local/lib/python3.7/dist-packages (from markdown>=2.6.8->tensorboard->keras-tuner) (4.8.2)\n",
            "Requirement already satisfied: pyasn1<0.5.0,>=0.4.6 in /usr/local/lib/python3.7/dist-packages (from pyasn1-modules>=0.2.1->google-auth<3,>=1.6.3->tensorboard->keras-tuner) (0.4.8)\n",
            "Requirement already satisfied: oauthlib>=3.0.0 in /usr/local/lib/python3.7/dist-packages (from requests-oauthlib>=0.7.0->google-auth-oauthlib<0.5,>=0.4.1->tensorboard->keras-tuner) (3.1.1)\n",
            "Requirement already satisfied: typing-extensions>=3.6.4 in /usr/local/lib/python3.7/dist-packages (from importlib-metadata->markdown>=2.6.8->tensorboard->keras-tuner) (3.10.0.2)\n",
            "Requirement already satisfied: zipp>=0.5 in /usr/local/lib/python3.7/dist-packages (from importlib-metadata->markdown>=2.6.8->tensorboard->keras-tuner) (3.6.0)\n",
            "Installing collected packages: kt-legacy, keras-tuner\n",
            "Successfully installed keras-tuner-1.1.0 kt-legacy-1.0.4\n"
          ]
        }
      ]
    },
    {
      "cell_type": "code",
      "metadata": {
        "id": "7KwEZbA1xAmW"
      },
      "source": [
        "# Building the function to find the best hyper parameters\n",
        "\n",
        "def build_model(hp):\n",
        "    model = keras.Sequential()\n",
        "    for i in range(hp.Int('num_layers', 2, 30)):\n",
        "        model.add(layers.Dense(units=hp.Int('units_' + str(i),\n",
        "                                            min_value=32,\n",
        "                                            max_value=512,\n",
        "                                            step=32),\n",
        "                               activation='relu'))\n",
        "    model.add(layers.Dense(2, activation='sigmoid'))\n",
        "    model.compile(optimizer=keras.optimizers.Adam(hp.Choice('learning_rate', [1e-2, 1e-3, 1e-4])), loss='binary_crossentropy', metrics=['accuracy'])\n",
        "    return model"
      ],
      "execution_count": 6,
      "outputs": []
    },
    {
      "cell_type": "code",
      "metadata": {
        "id": "uTY728kN05DS"
      },
      "source": [
        "tuner = RandomSearch(\n",
        "    build_model,\n",
        "    objective='val_accuracy',\n",
        "    max_trials=5,\n",
        "    executions_per_trial=3,\n",
        "    directory='project',\n",
        "    project_name='Cats vs. Dogs classification')"
      ],
      "execution_count": 7,
      "outputs": []
    },
    {
      "cell_type": "code",
      "metadata": {
        "colab": {
          "base_uri": "https://localhost:8080/",
          "height": 866
        },
        "id": "HMDGgJahmD8e",
        "outputId": "07ea4b49-ddba-43ee-d74f-ba12cea7c3d8"
      },
      "source": [
        "tuner.search(training_set, epochs=5, validation_data=testing_set)\n",
        "best_model = tuner.get_best_models()[0]"
      ],
      "execution_count": 11,
      "outputs": [
        {
          "output_type": "stream",
          "name": "stdout",
          "text": [
            "\n",
            "Search: Running Trial #1\n",
            "\n",
            "Hyperparameter    |Value             |Best Value So Far \n",
            "num_layers        |14                |?                 \n",
            "units_0           |160               |?                 \n",
            "units_1           |128               |?                 \n",
            "learning_rate     |0.01              |?                 \n",
            "\n",
            "Epoch 1/5\n"
          ]
        },
        {
          "output_type": "error",
          "ename": "ValueError",
          "evalue": "ignored",
          "traceback": [
            "\u001b[0;31m---------------------------------------------------------------------------\u001b[0m",
            "\u001b[0;31mValueError\u001b[0m                                Traceback (most recent call last)",
            "\u001b[0;32m<ipython-input-11-f4e48ba4eb45>\u001b[0m in \u001b[0;36m<module>\u001b[0;34m()\u001b[0m\n\u001b[0;32m----> 1\u001b[0;31m \u001b[0mtuner\u001b[0m\u001b[0;34m.\u001b[0m\u001b[0msearch\u001b[0m\u001b[0;34m(\u001b[0m\u001b[0mtraining_set\u001b[0m\u001b[0;34m,\u001b[0m \u001b[0mepochs\u001b[0m\u001b[0;34m=\u001b[0m\u001b[0;36m5\u001b[0m\u001b[0;34m,\u001b[0m \u001b[0mvalidation_data\u001b[0m\u001b[0;34m=\u001b[0m\u001b[0mtesting_set\u001b[0m\u001b[0;34m)\u001b[0m\u001b[0;34m\u001b[0m\u001b[0;34m\u001b[0m\u001b[0m\n\u001b[0m\u001b[1;32m      2\u001b[0m \u001b[0mbest_model\u001b[0m \u001b[0;34m=\u001b[0m \u001b[0mtuner\u001b[0m\u001b[0;34m.\u001b[0m\u001b[0mget_best_models\u001b[0m\u001b[0;34m(\u001b[0m\u001b[0;34m)\u001b[0m\u001b[0;34m[\u001b[0m\u001b[0;36m0\u001b[0m\u001b[0;34m]\u001b[0m\u001b[0;34m\u001b[0m\u001b[0;34m\u001b[0m\u001b[0m\n",
            "\u001b[0;32m/usr/local/lib/python3.7/dist-packages/keras_tuner/engine/base_tuner.py\u001b[0m in \u001b[0;36msearch\u001b[0;34m(self, *fit_args, **fit_kwargs)\u001b[0m\n\u001b[1;32m    177\u001b[0m \u001b[0;34m\u001b[0m\u001b[0m\n\u001b[1;32m    178\u001b[0m             \u001b[0mself\u001b[0m\u001b[0;34m.\u001b[0m\u001b[0mon_trial_begin\u001b[0m\u001b[0;34m(\u001b[0m\u001b[0mtrial\u001b[0m\u001b[0;34m)\u001b[0m\u001b[0;34m\u001b[0m\u001b[0;34m\u001b[0m\u001b[0m\n\u001b[0;32m--> 179\u001b[0;31m             \u001b[0mresults\u001b[0m \u001b[0;34m=\u001b[0m \u001b[0mself\u001b[0m\u001b[0;34m.\u001b[0m\u001b[0mrun_trial\u001b[0m\u001b[0;34m(\u001b[0m\u001b[0mtrial\u001b[0m\u001b[0;34m,\u001b[0m \u001b[0;34m*\u001b[0m\u001b[0mfit_args\u001b[0m\u001b[0;34m,\u001b[0m \u001b[0;34m**\u001b[0m\u001b[0mfit_kwargs\u001b[0m\u001b[0;34m)\u001b[0m\u001b[0;34m\u001b[0m\u001b[0;34m\u001b[0m\u001b[0m\n\u001b[0m\u001b[1;32m    180\u001b[0m             \u001b[0;31m# `results` is None indicates user updated oracle in `run_trial()`.\u001b[0m\u001b[0;34m\u001b[0m\u001b[0;34m\u001b[0m\u001b[0;34m\u001b[0m\u001b[0m\n\u001b[1;32m    181\u001b[0m             \u001b[0;32mif\u001b[0m \u001b[0mresults\u001b[0m \u001b[0;32mis\u001b[0m \u001b[0;32mNone\u001b[0m\u001b[0;34m:\u001b[0m\u001b[0;34m\u001b[0m\u001b[0;34m\u001b[0m\u001b[0m\n",
            "\u001b[0;32m/usr/local/lib/python3.7/dist-packages/keras_tuner/engine/tuner.py\u001b[0m in \u001b[0;36mrun_trial\u001b[0;34m(self, trial, *args, **kwargs)\u001b[0m\n\u001b[1;32m    302\u001b[0m             \u001b[0mcallbacks\u001b[0m\u001b[0;34m.\u001b[0m\u001b[0mappend\u001b[0m\u001b[0;34m(\u001b[0m\u001b[0mmodel_checkpoint\u001b[0m\u001b[0;34m)\u001b[0m\u001b[0;34m\u001b[0m\u001b[0;34m\u001b[0m\u001b[0m\n\u001b[1;32m    303\u001b[0m             \u001b[0mcopied_kwargs\u001b[0m\u001b[0;34m[\u001b[0m\u001b[0;34m\"callbacks\"\u001b[0m\u001b[0;34m]\u001b[0m \u001b[0;34m=\u001b[0m \u001b[0mcallbacks\u001b[0m\u001b[0;34m\u001b[0m\u001b[0;34m\u001b[0m\u001b[0m\n\u001b[0;32m--> 304\u001b[0;31m             \u001b[0mobj_value\u001b[0m \u001b[0;34m=\u001b[0m \u001b[0mself\u001b[0m\u001b[0;34m.\u001b[0m\u001b[0m_build_and_fit_model\u001b[0m\u001b[0;34m(\u001b[0m\u001b[0mtrial\u001b[0m\u001b[0;34m,\u001b[0m \u001b[0;34m*\u001b[0m\u001b[0margs\u001b[0m\u001b[0;34m,\u001b[0m \u001b[0;34m**\u001b[0m\u001b[0mcopied_kwargs\u001b[0m\u001b[0;34m)\u001b[0m\u001b[0;34m\u001b[0m\u001b[0;34m\u001b[0m\u001b[0m\n\u001b[0m\u001b[1;32m    305\u001b[0m \u001b[0;34m\u001b[0m\u001b[0m\n\u001b[1;32m    306\u001b[0m             \u001b[0;31m# objective left unspecified,\u001b[0m\u001b[0;34m\u001b[0m\u001b[0;34m\u001b[0m\u001b[0;34m\u001b[0m\u001b[0m\n",
            "\u001b[0;32m/usr/local/lib/python3.7/dist-packages/keras_tuner/engine/tuner.py\u001b[0m in \u001b[0;36m_build_and_fit_model\u001b[0;34m(self, trial, *args, **kwargs)\u001b[0m\n\u001b[1;32m    232\u001b[0m         \u001b[0mhp\u001b[0m \u001b[0;34m=\u001b[0m \u001b[0mtrial\u001b[0m\u001b[0;34m.\u001b[0m\u001b[0mhyperparameters\u001b[0m\u001b[0;34m\u001b[0m\u001b[0;34m\u001b[0m\u001b[0m\n\u001b[1;32m    233\u001b[0m         \u001b[0mmodel\u001b[0m \u001b[0;34m=\u001b[0m \u001b[0mself\u001b[0m\u001b[0;34m.\u001b[0m\u001b[0m_try_build\u001b[0m\u001b[0;34m(\u001b[0m\u001b[0mhp\u001b[0m\u001b[0;34m)\u001b[0m\u001b[0;34m\u001b[0m\u001b[0;34m\u001b[0m\u001b[0m\n\u001b[0;32m--> 234\u001b[0;31m         \u001b[0;32mreturn\u001b[0m \u001b[0mself\u001b[0m\u001b[0;34m.\u001b[0m\u001b[0mhypermodel\u001b[0m\u001b[0;34m.\u001b[0m\u001b[0mfit\u001b[0m\u001b[0;34m(\u001b[0m\u001b[0mhp\u001b[0m\u001b[0;34m,\u001b[0m \u001b[0mmodel\u001b[0m\u001b[0;34m,\u001b[0m \u001b[0;34m*\u001b[0m\u001b[0margs\u001b[0m\u001b[0;34m,\u001b[0m \u001b[0;34m**\u001b[0m\u001b[0mkwargs\u001b[0m\u001b[0;34m)\u001b[0m\u001b[0;34m\u001b[0m\u001b[0;34m\u001b[0m\u001b[0m\n\u001b[0m\u001b[1;32m    235\u001b[0m \u001b[0;34m\u001b[0m\u001b[0m\n\u001b[1;32m    236\u001b[0m     \u001b[0;32mdef\u001b[0m \u001b[0mrun_trial\u001b[0m\u001b[0;34m(\u001b[0m\u001b[0mself\u001b[0m\u001b[0;34m,\u001b[0m \u001b[0mtrial\u001b[0m\u001b[0;34m,\u001b[0m \u001b[0;34m*\u001b[0m\u001b[0margs\u001b[0m\u001b[0;34m,\u001b[0m \u001b[0;34m**\u001b[0m\u001b[0mkwargs\u001b[0m\u001b[0;34m)\u001b[0m\u001b[0;34m:\u001b[0m\u001b[0;34m\u001b[0m\u001b[0;34m\u001b[0m\u001b[0m\n",
            "\u001b[0;32m/usr/local/lib/python3.7/dist-packages/keras_tuner/engine/hypermodel.py\u001b[0m in \u001b[0;36mfit\u001b[0;34m(self, hp, model, *args, **kwargs)\u001b[0m\n\u001b[1;32m    135\u001b[0m             \u001b[0mIf\u001b[0m \u001b[0;32mreturn\u001b[0m \u001b[0ma\u001b[0m \u001b[0mfloat\u001b[0m\u001b[0;34m,\u001b[0m \u001b[0mit\u001b[0m \u001b[0mshould\u001b[0m \u001b[0mbe\u001b[0m \u001b[0mthe\u001b[0m\u001b[0;31m \u001b[0m\u001b[0;31m`\u001b[0m\u001b[0mobjective\u001b[0m\u001b[0;31m`\u001b[0m \u001b[0mvalue\u001b[0m\u001b[0;34m.\u001b[0m\u001b[0;34m\u001b[0m\u001b[0;34m\u001b[0m\u001b[0m\n\u001b[1;32m    136\u001b[0m         \"\"\"\n\u001b[0;32m--> 137\u001b[0;31m         \u001b[0;32mreturn\u001b[0m \u001b[0mmodel\u001b[0m\u001b[0;34m.\u001b[0m\u001b[0mfit\u001b[0m\u001b[0;34m(\u001b[0m\u001b[0;34m*\u001b[0m\u001b[0margs\u001b[0m\u001b[0;34m,\u001b[0m \u001b[0;34m**\u001b[0m\u001b[0mkwargs\u001b[0m\u001b[0;34m)\u001b[0m\u001b[0;34m\u001b[0m\u001b[0;34m\u001b[0m\u001b[0m\n\u001b[0m\u001b[1;32m    138\u001b[0m \u001b[0;34m\u001b[0m\u001b[0m\n\u001b[1;32m    139\u001b[0m \u001b[0;34m\u001b[0m\u001b[0m\n",
            "\u001b[0;32m/usr/local/lib/python3.7/dist-packages/keras/utils/traceback_utils.py\u001b[0m in \u001b[0;36merror_handler\u001b[0;34m(*args, **kwargs)\u001b[0m\n\u001b[1;32m     65\u001b[0m     \u001b[0;32mexcept\u001b[0m \u001b[0mException\u001b[0m \u001b[0;32mas\u001b[0m \u001b[0me\u001b[0m\u001b[0;34m:\u001b[0m  \u001b[0;31m# pylint: disable=broad-except\u001b[0m\u001b[0;34m\u001b[0m\u001b[0;34m\u001b[0m\u001b[0m\n\u001b[1;32m     66\u001b[0m       \u001b[0mfiltered_tb\u001b[0m \u001b[0;34m=\u001b[0m \u001b[0m_process_traceback_frames\u001b[0m\u001b[0;34m(\u001b[0m\u001b[0me\u001b[0m\u001b[0;34m.\u001b[0m\u001b[0m__traceback__\u001b[0m\u001b[0;34m)\u001b[0m\u001b[0;34m\u001b[0m\u001b[0;34m\u001b[0m\u001b[0m\n\u001b[0;32m---> 67\u001b[0;31m       \u001b[0;32mraise\u001b[0m \u001b[0me\u001b[0m\u001b[0;34m.\u001b[0m\u001b[0mwith_traceback\u001b[0m\u001b[0;34m(\u001b[0m\u001b[0mfiltered_tb\u001b[0m\u001b[0;34m)\u001b[0m \u001b[0;32mfrom\u001b[0m \u001b[0;32mNone\u001b[0m\u001b[0;34m\u001b[0m\u001b[0;34m\u001b[0m\u001b[0m\n\u001b[0m\u001b[1;32m     68\u001b[0m     \u001b[0;32mfinally\u001b[0m\u001b[0;34m:\u001b[0m\u001b[0;34m\u001b[0m\u001b[0;34m\u001b[0m\u001b[0m\n\u001b[1;32m     69\u001b[0m       \u001b[0;32mdel\u001b[0m \u001b[0mfiltered_tb\u001b[0m\u001b[0;34m\u001b[0m\u001b[0;34m\u001b[0m\u001b[0m\n",
            "\u001b[0;32m/usr/local/lib/python3.7/dist-packages/tensorflow/python/framework/func_graph.py\u001b[0m in \u001b[0;36mautograph_handler\u001b[0;34m(*args, **kwargs)\u001b[0m\n\u001b[1;32m   1127\u001b[0m           \u001b[0;32mexcept\u001b[0m \u001b[0mException\u001b[0m \u001b[0;32mas\u001b[0m \u001b[0me\u001b[0m\u001b[0;34m:\u001b[0m  \u001b[0;31m# pylint:disable=broad-except\u001b[0m\u001b[0;34m\u001b[0m\u001b[0;34m\u001b[0m\u001b[0m\n\u001b[1;32m   1128\u001b[0m             \u001b[0;32mif\u001b[0m \u001b[0mhasattr\u001b[0m\u001b[0;34m(\u001b[0m\u001b[0me\u001b[0m\u001b[0;34m,\u001b[0m \u001b[0;34m\"ag_error_metadata\"\u001b[0m\u001b[0;34m)\u001b[0m\u001b[0;34m:\u001b[0m\u001b[0;34m\u001b[0m\u001b[0;34m\u001b[0m\u001b[0m\n\u001b[0;32m-> 1129\u001b[0;31m               \u001b[0;32mraise\u001b[0m \u001b[0me\u001b[0m\u001b[0;34m.\u001b[0m\u001b[0mag_error_metadata\u001b[0m\u001b[0;34m.\u001b[0m\u001b[0mto_exception\u001b[0m\u001b[0;34m(\u001b[0m\u001b[0me\u001b[0m\u001b[0;34m)\u001b[0m\u001b[0;34m\u001b[0m\u001b[0;34m\u001b[0m\u001b[0m\n\u001b[0m\u001b[1;32m   1130\u001b[0m             \u001b[0;32melse\u001b[0m\u001b[0;34m:\u001b[0m\u001b[0;34m\u001b[0m\u001b[0;34m\u001b[0m\u001b[0m\n\u001b[1;32m   1131\u001b[0m               \u001b[0;32mraise\u001b[0m\u001b[0;34m\u001b[0m\u001b[0;34m\u001b[0m\u001b[0m\n",
            "\u001b[0;31mValueError\u001b[0m: in user code:\n\n    File \"/usr/local/lib/python3.7/dist-packages/keras/engine/training.py\", line 878, in train_function  *\n        return step_function(self, iterator)\n    File \"/usr/local/lib/python3.7/dist-packages/keras/engine/training.py\", line 867, in step_function  **\n        outputs = model.distribute_strategy.run(run_step, args=(data,))\n    File \"/usr/local/lib/python3.7/dist-packages/keras/engine/training.py\", line 860, in run_step  **\n        outputs = model.train_step(data)\n    File \"/usr/local/lib/python3.7/dist-packages/keras/engine/training.py\", line 810, in train_step\n        y, y_pred, sample_weight, regularization_losses=self.losses)\n    File \"/usr/local/lib/python3.7/dist-packages/keras/engine/compile_utils.py\", line 201, in __call__\n        loss_value = loss_obj(y_t, y_p, sample_weight=sw)\n    File \"/usr/local/lib/python3.7/dist-packages/keras/losses.py\", line 141, in __call__\n        losses = call_fn(y_true, y_pred)\n    File \"/usr/local/lib/python3.7/dist-packages/keras/losses.py\", line 245, in call  **\n        return ag_fn(y_true, y_pred, **self._fn_kwargs)\n    File \"/usr/local/lib/python3.7/dist-packages/keras/losses.py\", line 1807, in binary_crossentropy\n        backend.binary_crossentropy(y_true, y_pred, from_logits=from_logits),\n    File \"/usr/local/lib/python3.7/dist-packages/keras/backend.py\", line 5158, in binary_crossentropy\n        return tf.nn.sigmoid_cross_entropy_with_logits(labels=target, logits=output)\n\n    ValueError: `logits` and `labels` must have the same shape, received ((None, None, None, 2) vs (None, None)).\n"
          ]
        }
      ]
    },
    {
      "cell_type": "code",
      "metadata": {
        "id": "4bdMCGSUl9of"
      },
      "source": [
        ""
      ],
      "execution_count": null,
      "outputs": []
    }
  ]
}