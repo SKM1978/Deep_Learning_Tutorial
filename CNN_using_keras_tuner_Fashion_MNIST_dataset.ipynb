{
  "nbformat": 4,
  "nbformat_minor": 0,
  "metadata": {
    "colab": {
      "name": "CNN using keras-tuner - Fashion MNIST dataset.ipynb",
      "provenance": [],
      "collapsed_sections": [],
      "authorship_tag": "ABX9TyMVV5PSb1mgCxHx8c/BIaDO",
      "include_colab_link": true
    },
    "kernelspec": {
      "name": "python3",
      "display_name": "Python 3"
    },
    "language_info": {
      "name": "python"
    },
    "accelerator": "GPU"
  },
  "cells": [
    {
      "cell_type": "markdown",
      "metadata": {
        "id": "view-in-github",
        "colab_type": "text"
      },
      "source": [
        "<a href=\"https://colab.research.google.com/github/SKM1978/Deep_Learning_Tutorial/blob/master/CNN_using_keras_tuner_Fashion_MNIST_dataset.ipynb\" target=\"_parent\"><img src=\"https://colab.research.google.com/assets/colab-badge.svg\" alt=\"Open In Colab\"/></a>"
      ]
    },
    {
      "cell_type": "code",
      "metadata": {
        "colab": {
          "base_uri": "https://localhost:8080/"
        },
        "id": "4E6WNZhJ3IQE",
        "outputId": "3974acf9-db0e-4dd0-86e9-4e47c5154684"
      },
      "source": [
        "!pip install keras-tuner"
      ],
      "execution_count": 1,
      "outputs": [
        {
          "output_type": "stream",
          "name": "stdout",
          "text": [
            "Collecting keras-tuner\n",
            "  Downloading keras_tuner-1.0.4-py3-none-any.whl (97 kB)\n",
            "\u001b[?25l\r\u001b[K     |███▍                            | 10 kB 13.6 MB/s eta 0:00:01\r\u001b[K     |██████▊                         | 20 kB 15.9 MB/s eta 0:00:01\r\u001b[K     |██████████                      | 30 kB 10.4 MB/s eta 0:00:01\r\u001b[K     |█████████████▍                  | 40 kB 9.0 MB/s eta 0:00:01\r\u001b[K     |████████████████▊               | 51 kB 5.7 MB/s eta 0:00:01\r\u001b[K     |████████████████████            | 61 kB 6.2 MB/s eta 0:00:01\r\u001b[K     |███████████████████████▍        | 71 kB 5.9 MB/s eta 0:00:01\r\u001b[K     |██████████████████████████▊     | 81 kB 6.6 MB/s eta 0:00:01\r\u001b[K     |██████████████████████████████▏ | 92 kB 6.7 MB/s eta 0:00:01\r\u001b[K     |████████████████████████████████| 97 kB 2.7 MB/s \n",
            "\u001b[?25hRequirement already satisfied: requests in /usr/local/lib/python3.7/dist-packages (from keras-tuner) (2.23.0)\n",
            "Collecting kt-legacy\n",
            "  Downloading kt_legacy-1.0.4-py3-none-any.whl (9.6 kB)\n",
            "Requirement already satisfied: ipython in /usr/local/lib/python3.7/dist-packages (from keras-tuner) (5.5.0)\n",
            "Requirement already satisfied: packaging in /usr/local/lib/python3.7/dist-packages (from keras-tuner) (21.0)\n",
            "Requirement already satisfied: scipy in /usr/local/lib/python3.7/dist-packages (from keras-tuner) (1.4.1)\n",
            "Requirement already satisfied: tensorboard in /usr/local/lib/python3.7/dist-packages (from keras-tuner) (2.6.0)\n",
            "Requirement already satisfied: numpy in /usr/local/lib/python3.7/dist-packages (from keras-tuner) (1.19.5)\n",
            "Requirement already satisfied: traitlets>=4.2 in /usr/local/lib/python3.7/dist-packages (from ipython->keras-tuner) (5.1.0)\n",
            "Requirement already satisfied: pexpect in /usr/local/lib/python3.7/dist-packages (from ipython->keras-tuner) (4.8.0)\n",
            "Requirement already satisfied: decorator in /usr/local/lib/python3.7/dist-packages (from ipython->keras-tuner) (4.4.2)\n",
            "Requirement already satisfied: pygments in /usr/local/lib/python3.7/dist-packages (from ipython->keras-tuner) (2.6.1)\n",
            "Requirement already satisfied: pickleshare in /usr/local/lib/python3.7/dist-packages (from ipython->keras-tuner) (0.7.5)\n",
            "Requirement already satisfied: prompt-toolkit<2.0.0,>=1.0.4 in /usr/local/lib/python3.7/dist-packages (from ipython->keras-tuner) (1.0.18)\n",
            "Requirement already satisfied: simplegeneric>0.8 in /usr/local/lib/python3.7/dist-packages (from ipython->keras-tuner) (0.8.1)\n",
            "Requirement already satisfied: setuptools>=18.5 in /usr/local/lib/python3.7/dist-packages (from ipython->keras-tuner) (57.4.0)\n",
            "Requirement already satisfied: six>=1.9.0 in /usr/local/lib/python3.7/dist-packages (from prompt-toolkit<2.0.0,>=1.0.4->ipython->keras-tuner) (1.15.0)\n",
            "Requirement already satisfied: wcwidth in /usr/local/lib/python3.7/dist-packages (from prompt-toolkit<2.0.0,>=1.0.4->ipython->keras-tuner) (0.2.5)\n",
            "Requirement already satisfied: pyparsing>=2.0.2 in /usr/local/lib/python3.7/dist-packages (from packaging->keras-tuner) (2.4.7)\n",
            "Requirement already satisfied: ptyprocess>=0.5 in /usr/local/lib/python3.7/dist-packages (from pexpect->ipython->keras-tuner) (0.7.0)\n",
            "Requirement already satisfied: idna<3,>=2.5 in /usr/local/lib/python3.7/dist-packages (from requests->keras-tuner) (2.10)\n",
            "Requirement already satisfied: urllib3!=1.25.0,!=1.25.1,<1.26,>=1.21.1 in /usr/local/lib/python3.7/dist-packages (from requests->keras-tuner) (1.24.3)\n",
            "Requirement already satisfied: certifi>=2017.4.17 in /usr/local/lib/python3.7/dist-packages (from requests->keras-tuner) (2021.5.30)\n",
            "Requirement already satisfied: chardet<4,>=3.0.2 in /usr/local/lib/python3.7/dist-packages (from requests->keras-tuner) (3.0.4)\n",
            "Requirement already satisfied: protobuf>=3.6.0 in /usr/local/lib/python3.7/dist-packages (from tensorboard->keras-tuner) (3.17.3)\n",
            "Requirement already satisfied: tensorboard-data-server<0.7.0,>=0.6.0 in /usr/local/lib/python3.7/dist-packages (from tensorboard->keras-tuner) (0.6.1)\n",
            "Requirement already satisfied: google-auth-oauthlib<0.5,>=0.4.1 in /usr/local/lib/python3.7/dist-packages (from tensorboard->keras-tuner) (0.4.6)\n",
            "Requirement already satisfied: grpcio>=1.24.3 in /usr/local/lib/python3.7/dist-packages (from tensorboard->keras-tuner) (1.41.0)\n",
            "Requirement already satisfied: tensorboard-plugin-wit>=1.6.0 in /usr/local/lib/python3.7/dist-packages (from tensorboard->keras-tuner) (1.8.0)\n",
            "Requirement already satisfied: wheel>=0.26 in /usr/local/lib/python3.7/dist-packages (from tensorboard->keras-tuner) (0.37.0)\n",
            "Requirement already satisfied: google-auth<2,>=1.6.3 in /usr/local/lib/python3.7/dist-packages (from tensorboard->keras-tuner) (1.35.0)\n",
            "Requirement already satisfied: werkzeug>=0.11.15 in /usr/local/lib/python3.7/dist-packages (from tensorboard->keras-tuner) (1.0.1)\n",
            "Requirement already satisfied: markdown>=2.6.8 in /usr/local/lib/python3.7/dist-packages (from tensorboard->keras-tuner) (3.3.4)\n",
            "Requirement already satisfied: absl-py>=0.4 in /usr/local/lib/python3.7/dist-packages (from tensorboard->keras-tuner) (0.12.0)\n",
            "Requirement already satisfied: rsa<5,>=3.1.4 in /usr/local/lib/python3.7/dist-packages (from google-auth<2,>=1.6.3->tensorboard->keras-tuner) (4.7.2)\n",
            "Requirement already satisfied: cachetools<5.0,>=2.0.0 in /usr/local/lib/python3.7/dist-packages (from google-auth<2,>=1.6.3->tensorboard->keras-tuner) (4.2.4)\n",
            "Requirement already satisfied: pyasn1-modules>=0.2.1 in /usr/local/lib/python3.7/dist-packages (from google-auth<2,>=1.6.3->tensorboard->keras-tuner) (0.2.8)\n",
            "Requirement already satisfied: requests-oauthlib>=0.7.0 in /usr/local/lib/python3.7/dist-packages (from google-auth-oauthlib<0.5,>=0.4.1->tensorboard->keras-tuner) (1.3.0)\n",
            "Requirement already satisfied: importlib-metadata in /usr/local/lib/python3.7/dist-packages (from markdown>=2.6.8->tensorboard->keras-tuner) (4.8.1)\n",
            "Requirement already satisfied: pyasn1<0.5.0,>=0.4.6 in /usr/local/lib/python3.7/dist-packages (from pyasn1-modules>=0.2.1->google-auth<2,>=1.6.3->tensorboard->keras-tuner) (0.4.8)\n",
            "Requirement already satisfied: oauthlib>=3.0.0 in /usr/local/lib/python3.7/dist-packages (from requests-oauthlib>=0.7.0->google-auth-oauthlib<0.5,>=0.4.1->tensorboard->keras-tuner) (3.1.1)\n",
            "Requirement already satisfied: zipp>=0.5 in /usr/local/lib/python3.7/dist-packages (from importlib-metadata->markdown>=2.6.8->tensorboard->keras-tuner) (3.6.0)\n",
            "Requirement already satisfied: typing-extensions>=3.6.4 in /usr/local/lib/python3.7/dist-packages (from importlib-metadata->markdown>=2.6.8->tensorboard->keras-tuner) (3.7.4.3)\n",
            "Installing collected packages: kt-legacy, keras-tuner\n",
            "Successfully installed keras-tuner-1.0.4 kt-legacy-1.0.4\n"
          ]
        }
      ]
    },
    {
      "cell_type": "code",
      "metadata": {
        "id": "N8mgq4rT3VUS"
      },
      "source": [
        "import tensorflow as tf\n",
        "from tensorflow import keras\n",
        "import numpy as np"
      ],
      "execution_count": 2,
      "outputs": []
    },
    {
      "cell_type": "code",
      "metadata": {
        "colab": {
          "base_uri": "https://localhost:8080/"
        },
        "id": "iFnZzqxX3r-6",
        "outputId": "9d780ee9-7931-4ef0-99b4-055a13aded1e"
      },
      "source": [
        "print(tf.__version__)"
      ],
      "execution_count": 3,
      "outputs": [
        {
          "output_type": "stream",
          "name": "stdout",
          "text": [
            "2.6.0\n"
          ]
        }
      ]
    },
    {
      "cell_type": "markdown",
      "metadata": {
        "id": "dqNkwuIJ4daC"
      },
      "source": [
        "## Uploading the Fashion MNIST dataset"
      ]
    },
    {
      "cell_type": "code",
      "metadata": {
        "id": "bIsb1IVJ4i3X"
      },
      "source": [
        "fashion_mnist=keras.datasets.fashion_mnist"
      ],
      "execution_count": 4,
      "outputs": []
    },
    {
      "cell_type": "code",
      "metadata": {
        "colab": {
          "base_uri": "https://localhost:8080/"
        },
        "id": "jZIDYd1m4pcs",
        "outputId": "40b5ce7c-33d8-4a46-ade8-04f7fbcd99e7"
      },
      "source": [
        "(train_images,train_labels),(test_images,test_labels)=fashion_mnist.load_data()"
      ],
      "execution_count": 5,
      "outputs": [
        {
          "output_type": "stream",
          "name": "stdout",
          "text": [
            "Downloading data from https://storage.googleapis.com/tensorflow/tf-keras-datasets/train-labels-idx1-ubyte.gz\n",
            "32768/29515 [=================================] - 0s 0us/step\n",
            "40960/29515 [=========================================] - 0s 0us/step\n",
            "Downloading data from https://storage.googleapis.com/tensorflow/tf-keras-datasets/train-images-idx3-ubyte.gz\n",
            "26427392/26421880 [==============================] - 0s 0us/step\n",
            "26435584/26421880 [==============================] - 0s 0us/step\n",
            "Downloading data from https://storage.googleapis.com/tensorflow/tf-keras-datasets/t10k-labels-idx1-ubyte.gz\n",
            "16384/5148 [===============================================================================================] - 0s 0us/step\n",
            "Downloading data from https://storage.googleapis.com/tensorflow/tf-keras-datasets/t10k-images-idx3-ubyte.gz\n",
            "4423680/4422102 [==============================] - 0s 0us/step\n",
            "4431872/4422102 [==============================] - 0s 0us/step\n"
          ]
        }
      ]
    },
    {
      "cell_type": "markdown",
      "metadata": {
        "id": "eEmkGLcX5knX"
      },
      "source": [
        "## Scaling down the images for easier computation"
      ]
    },
    {
      "cell_type": "code",
      "metadata": {
        "id": "daoyHSvo5tUR"
      },
      "source": [
        "train_images=train_images/255.0\n",
        "test_images=test_images/255.0"
      ],
      "execution_count": 6,
      "outputs": []
    },
    {
      "cell_type": "code",
      "metadata": {
        "colab": {
          "base_uri": "https://localhost:8080/"
        },
        "id": "KXKfaMpoB-pr",
        "outputId": "05560220-c7e6-4875-8f6a-c3ed536b188a"
      },
      "source": [
        "# shape of the data\n",
        "\n",
        "train_images.shape, train_images[0].shape"
      ],
      "execution_count": 7,
      "outputs": [
        {
          "output_type": "execute_result",
          "data": {
            "text/plain": [
              "((60000, 28, 28), (28, 28))"
            ]
          },
          "metadata": {},
          "execution_count": 7
        }
      ]
    },
    {
      "cell_type": "code",
      "metadata": {
        "id": "bUQecOMwCTw5"
      },
      "source": [
        "# Reshaping the images\n",
        "\n",
        "train_images=train_images.reshape(len(train_images),28,28,1)\n",
        "test_images=test_images.reshape(len(test_images),28,28,1)"
      ],
      "execution_count": 8,
      "outputs": []
    },
    {
      "cell_type": "markdown",
      "metadata": {
        "id": "bz38o8dhES0w"
      },
      "source": [
        "## Building the CNN network"
      ]
    },
    {
      "cell_type": "code",
      "metadata": {
        "id": "iG7TqJR3EYpS"
      },
      "source": [
        "def build_model(hp):\n",
        "  model=keras.Sequential([\n",
        "    keras.layers.Conv2D(\n",
        "        filters=hp.Int('conv_1_filter', min_value=32, max_value=128, step=16),\n",
        "        kernel_size=hp.Choice('conv_1_kernel', values=(3,5)),\n",
        "        activation='relu',\n",
        "        input_shape=(28,28,1)),\n",
        "\n",
        "    keras.layers.Conv2D(\n",
        "        filters=hp.Int('conv_2_filter', min_value=32, max_value=128, step=16),\n",
        "        kernel_size=hp.Choice('conv_2_kernel', values=(3,5)),\n",
        "        activation='relu'),\n",
        "\n",
        "    keras.layers.Flatten(),\n",
        "\n",
        "    keras.layers.Dense(\n",
        "        units=hp.Int('dense_1_units', min_value=32, max_value=128, step=16),\n",
        "        activation='relu'),\n",
        "\n",
        "    keras.layers.Dense(10, activation='softmax')])\n",
        "\n",
        "  model.compile(optimizer=keras.optimizers.Adam(hp.Choice('learning_rate', values=[1e-2, 1e-3])),\n",
        "                loss='sparse_categorical_crossentropy', \n",
        "                metrics=['accuracy'])\n",
        "\n",
        "  return model"
      ],
      "execution_count": 9,
      "outputs": []
    },
    {
      "cell_type": "markdown",
      "metadata": {
        "id": "-tDczvo-ThEn"
      },
      "source": [
        "## Using Random Search to find the best HyperParameters"
      ]
    },
    {
      "cell_type": "code",
      "metadata": {
        "colab": {
          "base_uri": "https://localhost:8080/"
        },
        "id": "WzaqWLv0IvPh",
        "outputId": "cf0ac85a-024f-40c3-e875-b2aaf2bab027"
      },
      "source": [
        "from kerastuner import RandomSearch\n",
        "from kerastuner.engine.hyperparameters import HyperParameters"
      ],
      "execution_count": 10,
      "outputs": [
        {
          "output_type": "stream",
          "name": "stderr",
          "text": [
            "/usr/local/lib/python3.7/dist-packages/ipykernel_launcher.py:1: DeprecationWarning: `import kerastuner` is deprecated, please use `import keras_tuner`.\n",
            "  \"\"\"Entry point for launching an IPython kernel.\n"
          ]
        }
      ]
    },
    {
      "cell_type": "code",
      "metadata": {
        "id": "CIsSb5_GJnZF"
      },
      "source": [
        "tuner_search=RandomSearch(build_model, objective='val_accuracy', max_trials=5, directory='output', project_name='fashion mnist')"
      ],
      "execution_count": 11,
      "outputs": []
    },
    {
      "cell_type": "code",
      "metadata": {
        "colab": {
          "base_uri": "https://localhost:8080/"
        },
        "id": "xJfxzp49K2-J",
        "outputId": "623ac6cd-cde4-4775-982c-f123311f9cb9"
      },
      "source": [
        "tuner_search.search(train_images,train_labels,epochs=3,validation_split=0.1)"
      ],
      "execution_count": 12,
      "outputs": [
        {
          "output_type": "stream",
          "name": "stdout",
          "text": [
            "Trial 5 Complete [00h 01m 22s]\n",
            "val_accuracy: 0.9100000262260437\n",
            "\n",
            "Best val_accuracy So Far: 0.9116666913032532\n",
            "Total elapsed time: 00h 06m 44s\n",
            "INFO:tensorflow:Oracle triggered exit\n"
          ]
        }
      ]
    },
    {
      "cell_type": "code",
      "metadata": {
        "id": "8QV0X2q_LZEe"
      },
      "source": [
        "# selecting the best parameters that gives highest accuracy for the model\n",
        "\n",
        "model=tuner_search.get_best_models(num_models=1)[0]"
      ],
      "execution_count": 13,
      "outputs": []
    },
    {
      "cell_type": "code",
      "metadata": {
        "colab": {
          "base_uri": "https://localhost:8080/"
        },
        "id": "MlDUbF-uOrbR",
        "outputId": "0d5a7d51-8d26-4041-acc0-d3354713df0f"
      },
      "source": [
        "# which are the best parameters selected for the model\n",
        "\n",
        "model.summary()"
      ],
      "execution_count": 14,
      "outputs": [
        {
          "output_type": "stream",
          "name": "stdout",
          "text": [
            "Model: \"sequential\"\n",
            "_________________________________________________________________\n",
            "Layer (type)                 Output Shape              Param #   \n",
            "=================================================================\n",
            "conv2d (Conv2D)              (None, 26, 26, 96)        960       \n",
            "_________________________________________________________________\n",
            "conv2d_1 (Conv2D)            (None, 22, 22, 48)        115248    \n",
            "_________________________________________________________________\n",
            "flatten (Flatten)            (None, 23232)             0         \n",
            "_________________________________________________________________\n",
            "dense (Dense)                (None, 96)                2230368   \n",
            "_________________________________________________________________\n",
            "dense_1 (Dense)              (None, 10)                970       \n",
            "=================================================================\n",
            "Total params: 2,347,546\n",
            "Trainable params: 2,347,546\n",
            "Non-trainable params: 0\n",
            "_________________________________________________________________\n"
          ]
        }
      ]
    },
    {
      "cell_type": "markdown",
      "metadata": {
        "id": "6H8Pdy3RTwl2"
      },
      "source": [
        "## Training the model with those best parameters"
      ]
    },
    {
      "cell_type": "code",
      "metadata": {
        "colab": {
          "base_uri": "https://localhost:8080/"
        },
        "id": "Evs7tWVRPB-D",
        "outputId": "3434f264-2492-4e95-9cca-e2ba4614fb9e"
      },
      "source": [
        "# Training this model\n",
        "\n",
        "model.fit(train_images, train_labels, epochs=50, validation_split=0.1, initial_epoch=3)"
      ],
      "execution_count": 16,
      "outputs": [
        {
          "output_type": "stream",
          "name": "stdout",
          "text": [
            "Epoch 4/50\n",
            "1688/1688 [==============================] - 17s 10ms/step - loss: 0.1000 - accuracy: 0.9625 - val_loss: 0.2817 - val_accuracy: 0.9122\n",
            "Epoch 5/50\n",
            "1688/1688 [==============================] - 17s 10ms/step - loss: 0.0673 - accuracy: 0.9749 - val_loss: 0.3238 - val_accuracy: 0.9105\n",
            "Epoch 6/50\n",
            "1688/1688 [==============================] - 17s 10ms/step - loss: 0.0495 - accuracy: 0.9818 - val_loss: 0.4098 - val_accuracy: 0.9123\n",
            "Epoch 7/50\n",
            "1688/1688 [==============================] - 17s 10ms/step - loss: 0.0359 - accuracy: 0.9869 - val_loss: 0.4067 - val_accuracy: 0.9110\n",
            "Epoch 8/50\n",
            "1688/1688 [==============================] - 17s 10ms/step - loss: 0.0308 - accuracy: 0.9889 - val_loss: 0.4928 - val_accuracy: 0.9108\n",
            "Epoch 9/50\n",
            "1688/1688 [==============================] - 17s 10ms/step - loss: 0.0252 - accuracy: 0.9912 - val_loss: 0.4785 - val_accuracy: 0.9097\n",
            "Epoch 10/50\n",
            "1688/1688 [==============================] - 17s 10ms/step - loss: 0.0223 - accuracy: 0.9918 - val_loss: 0.5757 - val_accuracy: 0.9143\n",
            "Epoch 11/50\n",
            "1688/1688 [==============================] - 17s 10ms/step - loss: 0.0202 - accuracy: 0.9930 - val_loss: 0.5789 - val_accuracy: 0.9162\n",
            "Epoch 12/50\n",
            "1688/1688 [==============================] - 17s 10ms/step - loss: 0.0163 - accuracy: 0.9947 - val_loss: 0.6284 - val_accuracy: 0.9128\n",
            "Epoch 13/50\n",
            "1688/1688 [==============================] - 17s 10ms/step - loss: 0.0162 - accuracy: 0.9944 - val_loss: 0.6228 - val_accuracy: 0.9098\n",
            "Epoch 14/50\n",
            "1688/1688 [==============================] - 17s 10ms/step - loss: 0.0158 - accuracy: 0.9950 - val_loss: 0.6582 - val_accuracy: 0.9135\n",
            "Epoch 15/50\n",
            "1688/1688 [==============================] - 17s 10ms/step - loss: 0.0145 - accuracy: 0.9952 - val_loss: 0.7716 - val_accuracy: 0.9127\n",
            "Epoch 16/50\n",
            "1688/1688 [==============================] - 17s 10ms/step - loss: 0.0121 - accuracy: 0.9958 - val_loss: 0.6618 - val_accuracy: 0.9100\n",
            "Epoch 17/50\n",
            "1688/1688 [==============================] - 17s 10ms/step - loss: 0.0138 - accuracy: 0.9954 - val_loss: 0.7294 - val_accuracy: 0.9130\n",
            "Epoch 18/50\n",
            "1688/1688 [==============================] - 17s 10ms/step - loss: 0.0129 - accuracy: 0.9955 - val_loss: 0.8014 - val_accuracy: 0.9137\n",
            "Epoch 19/50\n",
            "1688/1688 [==============================] - 17s 10ms/step - loss: 0.0094 - accuracy: 0.9969 - val_loss: 0.7980 - val_accuracy: 0.9122\n",
            "Epoch 20/50\n",
            "1688/1688 [==============================] - 17s 10ms/step - loss: 0.0132 - accuracy: 0.9962 - val_loss: 0.7803 - val_accuracy: 0.9112\n",
            "Epoch 21/50\n",
            "1688/1688 [==============================] - 17s 10ms/step - loss: 0.0108 - accuracy: 0.9966 - val_loss: 1.0109 - val_accuracy: 0.9108\n",
            "Epoch 22/50\n",
            "1688/1688 [==============================] - 17s 10ms/step - loss: 0.0093 - accuracy: 0.9972 - val_loss: 0.8919 - val_accuracy: 0.9078\n",
            "Epoch 23/50\n",
            "1688/1688 [==============================] - 17s 10ms/step - loss: 0.0164 - accuracy: 0.9953 - val_loss: 0.9710 - val_accuracy: 0.9098\n",
            "Epoch 24/50\n",
            "1688/1688 [==============================] - 17s 10ms/step - loss: 0.0079 - accuracy: 0.9975 - val_loss: 0.8945 - val_accuracy: 0.9087\n",
            "Epoch 25/50\n",
            "1688/1688 [==============================] - 17s 10ms/step - loss: 0.0100 - accuracy: 0.9967 - val_loss: 1.0694 - val_accuracy: 0.9093\n",
            "Epoch 26/50\n",
            "1688/1688 [==============================] - 17s 10ms/step - loss: 0.0094 - accuracy: 0.9971 - val_loss: 0.9767 - val_accuracy: 0.9112\n",
            "Epoch 27/50\n",
            "1688/1688 [==============================] - 17s 10ms/step - loss: 0.0089 - accuracy: 0.9971 - val_loss: 1.1660 - val_accuracy: 0.9093\n",
            "Epoch 28/50\n",
            "1688/1688 [==============================] - 17s 10ms/step - loss: 0.0105 - accuracy: 0.9971 - val_loss: 1.2082 - val_accuracy: 0.9035\n",
            "Epoch 29/50\n",
            "1688/1688 [==============================] - 17s 10ms/step - loss: 0.0094 - accuracy: 0.9971 - val_loss: 1.1057 - val_accuracy: 0.9018\n",
            "Epoch 30/50\n",
            "1688/1688 [==============================] - 17s 10ms/step - loss: 0.0085 - accuracy: 0.9976 - val_loss: 1.0421 - val_accuracy: 0.9102\n",
            "Epoch 31/50\n",
            "1688/1688 [==============================] - 17s 10ms/step - loss: 0.0074 - accuracy: 0.9979 - val_loss: 1.0465 - val_accuracy: 0.9067\n",
            "Epoch 32/50\n",
            "1688/1688 [==============================] - 17s 10ms/step - loss: 0.0130 - accuracy: 0.9965 - val_loss: 1.0995 - val_accuracy: 0.9103\n",
            "Epoch 33/50\n",
            "1688/1688 [==============================] - 17s 10ms/step - loss: 0.0069 - accuracy: 0.9981 - val_loss: 1.3259 - val_accuracy: 0.9093\n",
            "Epoch 34/50\n",
            "1688/1688 [==============================] - 17s 10ms/step - loss: 0.0087 - accuracy: 0.9976 - val_loss: 1.1045 - val_accuracy: 0.9077\n",
            "Epoch 35/50\n",
            "1688/1688 [==============================] - 17s 10ms/step - loss: 0.0068 - accuracy: 0.9980 - val_loss: 1.2092 - val_accuracy: 0.9135\n",
            "Epoch 36/50\n",
            "1688/1688 [==============================] - 17s 10ms/step - loss: 0.0092 - accuracy: 0.9978 - val_loss: 1.2179 - val_accuracy: 0.9078\n",
            "Epoch 37/50\n",
            "1688/1688 [==============================] - 17s 10ms/step - loss: 0.0093 - accuracy: 0.9975 - val_loss: 1.2912 - val_accuracy: 0.9098\n",
            "Epoch 38/50\n",
            "1688/1688 [==============================] - 17s 10ms/step - loss: 0.0071 - accuracy: 0.9982 - val_loss: 1.2298 - val_accuracy: 0.9090\n",
            "Epoch 39/50\n",
            "1688/1688 [==============================] - 17s 10ms/step - loss: 0.0091 - accuracy: 0.9975 - val_loss: 1.3578 - val_accuracy: 0.9047\n",
            "Epoch 40/50\n",
            "1688/1688 [==============================] - 17s 10ms/step - loss: 0.0074 - accuracy: 0.9980 - val_loss: 1.3742 - val_accuracy: 0.9113\n",
            "Epoch 41/50\n",
            "1688/1688 [==============================] - 17s 10ms/step - loss: 0.0084 - accuracy: 0.9979 - val_loss: 1.3110 - val_accuracy: 0.9060\n",
            "Epoch 42/50\n",
            "1688/1688 [==============================] - 17s 10ms/step - loss: 0.0120 - accuracy: 0.9973 - val_loss: 1.3618 - val_accuracy: 0.9075\n",
            "Epoch 43/50\n",
            "1688/1688 [==============================] - 17s 10ms/step - loss: 0.0071 - accuracy: 0.9980 - val_loss: 1.6578 - val_accuracy: 0.9035\n",
            "Epoch 44/50\n",
            "1688/1688 [==============================] - 17s 10ms/step - loss: 0.0074 - accuracy: 0.9981 - val_loss: 1.2985 - val_accuracy: 0.9120\n",
            "Epoch 45/50\n",
            "1688/1688 [==============================] - 17s 10ms/step - loss: 0.0059 - accuracy: 0.9985 - val_loss: 1.4394 - val_accuracy: 0.9085\n",
            "Epoch 46/50\n",
            "1688/1688 [==============================] - 17s 10ms/step - loss: 0.0105 - accuracy: 0.9974 - val_loss: 1.3390 - val_accuracy: 0.9092\n",
            "Epoch 47/50\n",
            "1688/1688 [==============================] - 17s 10ms/step - loss: 0.0048 - accuracy: 0.9986 - val_loss: 1.4083 - val_accuracy: 0.9058\n",
            "Epoch 48/50\n",
            "1688/1688 [==============================] - 17s 10ms/step - loss: 0.0076 - accuracy: 0.9982 - val_loss: 1.5365 - val_accuracy: 0.9138\n",
            "Epoch 49/50\n",
            "1688/1688 [==============================] - 17s 10ms/step - loss: 0.0084 - accuracy: 0.9980 - val_loss: 1.6230 - val_accuracy: 0.9070\n",
            "Epoch 50/50\n",
            "1688/1688 [==============================] - 17s 10ms/step - loss: 0.0076 - accuracy: 0.9981 - val_loss: 1.6528 - val_accuracy: 0.9027\n"
          ]
        },
        {
          "output_type": "execute_result",
          "data": {
            "text/plain": [
              "<keras.callbacks.History at 0x7f0efa26f7d0>"
            ]
          },
          "metadata": {},
          "execution_count": 16
        }
      ]
    },
    {
      "cell_type": "markdown",
      "metadata": {
        "id": "V3EX5H8rT6fp"
      },
      "source": [
        "### The model with the best HyperParameters give us 99% accuracy and 90% validation accuracy. This was possible with the library keras-tuner."
      ]
    }
  ]
}